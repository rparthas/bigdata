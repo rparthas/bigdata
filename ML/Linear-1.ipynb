{
 "metadata": {
  "language_info": {
   "codemirror_mode": {
    "name": "ipython",
    "version": 3
   },
   "file_extension": ".py",
   "mimetype": "text/x-python",
   "name": "python",
   "nbconvert_exporter": "python",
   "pygments_lexer": "ipython3",
   "version": "3.6.8-final"
  },
  "orig_nbformat": 2,
  "kernelspec": {
   "name": "python36864bitc6d66c7db72b435eb6238c20d8acae2b",
   "display_name": "Python 3.6.8 64-bit",
   "metadata": {
    "interpreter": {
     "hash": "9f801e6c81b0df2dd7afca0d102df604199ca7c0b2d35f321b869411a6bc76b4"
    }
   }
  }
 },
 "nbformat": 4,
 "nbformat_minor": 2,
 "cells": [
  {
   "cell_type": "code",
   "execution_count": 15,
   "metadata": {},
   "outputs": [],
   "source": [
    "import numpy as np\n",
    "from math import inf"
   ]
  },
  {
   "cell_type": "code",
   "execution_count": 2,
   "metadata": {},
   "outputs": [],
   "source": [
    "arr = np.array([11, 22, 33, 44, 55, 66])"
   ]
  },
  {
   "cell_type": "code",
   "execution_count": 3,
   "metadata": {},
   "outputs": [
    {
     "output_type": "execute_result",
     "data": {
      "text/plain": "(6,)"
     },
     "metadata": {},
     "execution_count": 3
    }
   ],
   "source": [
    "arr.shape"
   ]
  },
  {
   "cell_type": "code",
   "execution_count": 4,
   "metadata": {},
   "outputs": [
    {
     "output_type": "execute_result",
     "data": {
      "text/plain": "array([[11, 22],\n       [33, 44]])"
     },
     "metadata": {},
     "execution_count": 4
    }
   ],
   "source": [
    "arr.reshape(3,2)[:2,:]"
   ]
  },
  {
   "cell_type": "code",
   "execution_count": 5,
   "metadata": {},
   "outputs": [
    {
     "output_type": "execute_result",
     "data": {
      "text/plain": "array([[55, 66]])"
     },
     "metadata": {},
     "execution_count": 5
    }
   ],
   "source": [
    "arr.reshape(3,2)[2:,:]"
   ]
  },
  {
   "cell_type": "code",
   "execution_count": 6,
   "metadata": {},
   "outputs": [
    {
     "output_type": "execute_result",
     "data": {
      "text/plain": "array([[[11],\n        [22]],\n\n       [[33],\n        [44]],\n\n       [[55],\n        [66]]])"
     },
     "metadata": {},
     "execution_count": 6
    }
   ],
   "source": [
    "arr.reshape(3,2,1)"
   ]
  },
  {
   "cell_type": "code",
   "execution_count": 8,
   "metadata": {},
   "outputs": [],
   "source": [
    "a = np.array([1, 2, 3])\n",
    "b = np.array([1, 2, 3])"
   ]
  },
  {
   "cell_type": "code",
   "execution_count": 10,
   "metadata": {
    "tags": []
   },
   "outputs": [
    {
     "output_type": "stream",
     "name": "stdout",
     "text": "[1 4 9]\n14\n"
    }
   ],
   "source": [
    "print(a*b)\n",
    "print(a.dot(b))"
   ]
  },
  {
   "cell_type": "code",
   "execution_count": 12,
   "metadata": {},
   "outputs": [
    {
     "output_type": "execute_result",
     "data": {
      "text/plain": "6.0"
     },
     "metadata": {},
     "execution_count": 12
    }
   ],
   "source": [
    "from numpy.linalg import norm\n",
    "norm(a,1)"
   ]
  },
  {
   "cell_type": "code",
   "execution_count": 14,
   "metadata": {},
   "outputs": [
    {
     "output_type": "execute_result",
     "data": {
      "text/plain": "3.7416573867739413"
     },
     "metadata": {},
     "execution_count": 14
    }
   ],
   "source": [
    "norm(a)"
   ]
  },
  {
   "cell_type": "code",
   "execution_count": 16,
   "metadata": {},
   "outputs": [
    {
     "output_type": "execute_result",
     "data": {
      "text/plain": "3.0"
     },
     "metadata": {},
     "execution_count": 16
    }
   ],
   "source": [
    "norm(a, inf)"
   ]
  },
  {
   "cell_type": "code",
   "execution_count": 17,
   "metadata": {},
   "outputs": [],
   "source": [
    "a=np.array(([\n",
    "  [1, 2],\n",
    "  [3, 4],\n",
    "  [5, 6]]))\n",
    "b= np.array([\n",
    "[1, 2],\n",
    "[3, 4]])"
   ]
  },
  {
   "cell_type": "code",
   "execution_count": 18,
   "metadata": {},
   "outputs": [
    {
     "output_type": "execute_result",
     "data": {
      "text/plain": "array([[ 7, 10],\n       [15, 22],\n       [23, 34]])"
     },
     "metadata": {},
     "execution_count": 18
    }
   ],
   "source": [
    "a.dot(b)"
   ]
  },
  {
   "cell_type": "code",
   "execution_count": 19,
   "metadata": {},
   "outputs": [],
   "source": [
    "m=np.array([\n",
    "  [1, 2, 3],\n",
    "  [1, 2, 3],\n",
    "  [1, 2, 3]])"
   ]
  },
  {
   "cell_type": "code",
   "execution_count": 21,
   "metadata": {},
   "outputs": [
    {
     "output_type": "execute_result",
     "data": {
      "text/plain": "array([[1, 0, 0],\n       [1, 2, 0],\n       [1, 2, 3]])"
     },
     "metadata": {},
     "execution_count": 21
    }
   ],
   "source": [
    "np.tril(m)"
   ]
  },
  {
   "cell_type": "code",
   "execution_count": 22,
   "metadata": {},
   "outputs": [
    {
     "output_type": "execute_result",
     "data": {
      "text/plain": "array([[1, 2, 3],\n       [0, 2, 3],\n       [0, 0, 3]])"
     },
     "metadata": {},
     "execution_count": 22
    }
   ],
   "source": [
    "np.triu(m)"
   ]
  },
  {
   "cell_type": "code",
   "execution_count": 23,
   "metadata": {},
   "outputs": [
    {
     "output_type": "execute_result",
     "data": {
      "text/plain": "array([1, 2, 3])"
     },
     "metadata": {},
     "execution_count": 23
    }
   ],
   "source": [
    "np.diag(m)"
   ]
  },
  {
   "cell_type": "code",
   "execution_count": 29,
   "metadata": {
    "tags": []
   },
   "outputs": [
    {
     "output_type": "stream",
     "name": "stdout",
     "text": "[[ 1  0]\n [ 0 -1]]\n[[ 1  0]\n [ 0 -1]]\n[[ 1.  0.]\n [-0. -1.]]\n[[1 0]\n [0 1]]\n"
    }
   ],
   "source": [
    "from numpy.linalg import inv\n",
    "q = np.array([\n",
    "[1, 0],\n",
    "[0, -1]])\n",
    "V= inv(q)\n",
    "print(q)\n",
    "print(q.T)\n",
    "print(V)\n",
    "print(q .dot(q.T))"
   ]
  },
  {
   "cell_type": "code",
   "execution_count": 30,
   "metadata": {
    "tags": []
   },
   "outputs": [
    {
     "output_type": "stream",
     "name": "stdout",
     "text": "[1 2 3]\n1\n[0 0 0 0 0]\n0\n"
    }
   ],
   "source": [
    "from numpy import array\n",
    "from numpy.linalg import matrix_rank # rank\n",
    "v1 = array([1,2,3])\n",
    "print(v1)\n",
    "vr1 = matrix_rank(v1)\n",
    "print(vr1)\n",
    "# zero rank\n",
    "v2 = array([0,0,0,0,0])\n",
    "print(v2)\n",
    "vr2 = matrix_rank(v2)\n",
    "print(vr2)"
   ]
  },
  {
   "cell_type": "code",
   "execution_count": 31,
   "metadata": {
    "tags": []
   },
   "outputs": [
    {
     "output_type": "stream",
     "name": "stdout",
     "text": "[[1 2 3]\n [4 5 6]\n [7 8 9]]\n0.0\n"
    }
   ],
   "source": [
    "from numpy import array\n",
    "from numpy.linalg import det # define matrix\n",
    "A = array([\n",
    "  [1, 2, 3],\n",
    "  [4, 5, 6],\n",
    "  [7, 8, 9]])\n",
    "print(A)\n",
    "# calculate determinant\n",
    "B = det(A)\n",
    "print(B)"
   ]
  },
  {
   "cell_type": "code",
   "execution_count": 38,
   "metadata": {
    "tags": []
   },
   "outputs": [
    {
     "output_type": "stream",
     "name": "stdout",
     "text": "  (0, 0)\t1\n  (0, 3)\t1\n  (1, 2)\t2\n  (1, 5)\t1\n  (2, 3)\t2\n"
    }
   ],
   "source": [
    "from numpy import array, count_nonzero\n",
    "from scipy.sparse import csr_matrix # create dense matrix\n",
    "A = array([\n",
    "  [1, 0, 0, 1, 0, 0],\n",
    "  [0, 0, 2, 0, 0, 1],\n",
    "  [0, 0, 0, 2, 0, 0]])\n",
    "# convert to sparse matrix (CSR method) \n",
    "S = csr_matrix(A)\n",
    "print(S)"
   ]
  },
  {
   "cell_type": "code",
   "execution_count": 36,
   "metadata": {
    "tags": []
   },
   "outputs": [
    {
     "output_type": "stream",
     "name": "stdout",
     "text": "[[1 0 0 1 0 0]\n [0 0 2 0 0 1]\n [0 0 0 2 0 0]]\n"
    }
   ],
   "source": [
    "# reconstruct dense matrix\n",
    "B = S.todense()\n",
    "print(B)"
   ]
  },
  {
   "cell_type": "code",
   "execution_count": 39,
   "metadata": {
    "tags": []
   },
   "outputs": [
    {
     "output_type": "stream",
     "name": "stdout",
     "text": "0.7222222222222222\n"
    }
   ],
   "source": [
    "sparsity = 1.0 - count_nonzero(A) / A.size \n",
    "print(sparsity)"
   ]
  },
  {
   "cell_type": "code",
   "execution_count": 40,
   "metadata": {
    "tags": []
   },
   "outputs": [
    {
     "output_type": "stream",
     "name": "stdout",
     "text": "(3, 3, 3)\n[[[ 1  2  3]\n  [ 4  5  6]\n  [ 7  8  9]]\n\n [[11 12 13]\n  [14 15 16]\n  [17 18 19]]\n\n [[21 22 23]\n  [24 25 26]\n  [27 28 29]]]\n"
    }
   ],
   "source": [
    "from numpy import array\n",
    "T = array([\n",
    "[[1,2,3], [4,5,6], [7,8,9]], [[11,12,13], [14,15,16], [17,18,19]], [[21,22,23], [24,25,26], [27,28,29]]])\n",
    "print(T.shape) \n",
    "print(T)"
   ]
  },
  {
   "cell_type": "code",
   "execution_count": 45,
   "metadata": {
    "tags": []
   },
   "outputs": [
    {
     "output_type": "stream",
     "name": "stdout",
     "text": "[[7. 8. 9.]\n [1. 2. 3.]\n [4. 5. 6.]]\n[[0. 1. 0.]\n [0. 0. 1.]\n [1. 0. 0.]]\n"
    }
   ],
   "source": [
    "from numpy import array \n",
    "from scipy.linalg import lu \n",
    "A = array([\n",
    "  [1, 2, 3],\n",
    "  [4, 5, 6],\n",
    "  [7, 8, 9]])\n",
    "\n",
    "P, L, U = lu(A)\n",
    "\n",
    "print(L.dot(U))\n",
    "print(P)"
   ]
  },
  {
   "cell_type": "code",
   "execution_count": 50,
   "metadata": {
    "tags": []
   },
   "outputs": [
    {
     "output_type": "stream",
     "name": "stdout",
     "text": "[ 1.61168440e+01 -1.11684397e+00 -1.30367773e-15]\n[[-0.23197069 -0.78583024  0.40824829]\n [-0.52532209 -0.08675134 -0.81649658]\n [-0.8186735   0.61232756  0.40824829]]\n[ 13.88315603  58.88315603 103.88315603]\n"
    }
   ],
   "source": [
    "from numpy import array\n",
    "from numpy.linalg import eig # define matrix\n",
    "A = array([\n",
    "  [1, 2, 3],\n",
    "  [4, 5, 6],\n",
    "   [7, 8, 9]])\n",
    "# factorize\n",
    "values, vectors = eig(A)\n",
    "print(values)\n",
    "print(vectors)"
   ]
  },
  {
   "cell_type": "code",
   "execution_count": 58,
   "metadata": {},
   "outputs": [
    {
     "output_type": "execute_result",
     "data": {
      "text/plain": "array([ -3.73863537,  -8.46653421, -13.19443305])"
     },
     "metadata": {},
     "execution_count": 58
    }
   ],
   "source": [
    "A.dot(vectors[:,0])"
   ]
  },
  {
   "cell_type": "code",
   "execution_count": 56,
   "metadata": {},
   "outputs": [
    {
     "output_type": "execute_result",
     "data": {
      "text/plain": "array([ -3.73863537,  -8.46653421, -13.19443305])"
     },
     "metadata": {},
     "execution_count": 56
    }
   ],
   "source": [
    "vectors[:,0] * values[0]"
   ]
  },
  {
   "cell_type": "code",
   "execution_count": 62,
   "metadata": {
    "tags": []
   },
   "outputs": [
    {
     "output_type": "stream",
     "name": "stdout",
     "text": "[[ 0.17757009  1.88785047  3.59813084]\n [ 1.88785047  4.43925234  6.99065421]\n [ 3.59813084  6.99065421 10.38317757]]\n"
    }
   ],
   "source": [
    "from numpy import diag\n",
    "from numpy.linalg import inv\n",
    "Q = vectors\n",
    "# create inverse of eigenvectors matrix\n",
    "R = inv(Q)\n",
    "# create diagonal matrix from eigenvalues \n",
    "L = diag(values)\n",
    "# reconstruct the original matrix\n",
    "B = Q.dot(L).dot(R)\n",
    "print(B)"
   ]
  }
 ]
}