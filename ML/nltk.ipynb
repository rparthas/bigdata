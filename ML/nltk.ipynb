{
 "cells": [
  {
   "cell_type": "code",
   "execution_count": 25,
   "metadata": {},
   "outputs": [],
   "source": [
    "import nltk\n",
    "import os\n",
    "import nltk.corpus"
   ]
  },
  {
   "cell_type": "code",
   "execution_count": 26,
   "metadata": {},
   "outputs": [],
   "source": [
    "# nltk.download()"
   ]
  },
  {
   "cell_type": "code",
   "execution_count": 27,
   "metadata": {},
   "outputs": [
    {
     "output_type": "execute_result",
     "data": {
      "text/plain": "['austen-emma.txt',\n 'austen-persuasion.txt',\n 'austen-sense.txt',\n 'bible-kjv.txt',\n 'blake-poems.txt',\n 'bryant-stories.txt',\n 'burgess-busterbrown.txt',\n 'carroll-alice.txt',\n 'chesterton-ball.txt',\n 'chesterton-brown.txt',\n 'chesterton-thursday.txt',\n 'edgeworth-parents.txt',\n 'melville-moby_dick.txt',\n 'milton-paradise.txt',\n 'shakespeare-caesar.txt',\n 'shakespeare-hamlet.txt',\n 'shakespeare-macbeth.txt',\n 'whitman-leaves.txt']"
     },
     "metadata": {},
     "execution_count": 27
    }
   ],
   "source": [
    "nltk.corpus.gutenberg.fileids()"
   ]
  },
  {
   "cell_type": "code",
   "execution_count": 28,
   "metadata": {},
   "outputs": [
    {
     "output_type": "execute_result",
     "data": {
      "text/plain": "['[', 'The', 'Tragedie', 'of', 'Hamlet', 'by', ...]"
     },
     "metadata": {},
     "execution_count": 28
    }
   ],
   "source": [
    "hamlet = nltk.corpus.gutenberg.words('shakespeare-hamlet.txt')\n",
    "hamlet"
   ]
  },
  {
   "cell_type": "code",
   "execution_count": 29,
   "metadata": {
    "tags": []
   },
   "outputs": [
    {
     "output_type": "stream",
     "name": "stdout",
     "text": "[ The Tragedie of Hamlet by William Shakespeare 1599 ] Actus Primus . Scoena Prima . Enter Barnardo and Francisco two Centinels . Barnardo . Who ' s there ? Fran . Nay answer me : Stand & vnfold your selfe Bar . Long liue the King Fran . Barnardo ? Bar . He Fran . You come most carefully vpon your houre Bar . ' Tis now strook twelue , get thee to bed Francisco Fran . For this releefe much thankes : ' Tis bitter cold , And I am sicke at heart Barn . Haue you had quiet Guard ? Fran . Not a Mouse stirring Barn . Well , goodnight . If you do meet Horatio and Marcellus , the Riuals of my Watch , bid them make hast . Enter Horatio and Marcellus . Fran . I thinke I heare them . Stand : who ' s there ? Hor . Friends to this ground Mar . And Leige - men to the Dane Fran . Giue you good night Mar . O farwel honest Soldier , who hath relieu ' d you ? Fra . Barnardo ha ' s my place : giue you goodnight . Exit Fran . Mar . Holla Barnardo Bar . Say , what is Horatio there ? Hor . A peece of him Bar . Welcome Horatio , welcome good Marcellus Mar . What , ha ' s this thing appear ' d againe to night Bar . I haue seene nothing Mar . Horatio saies , ' tis but our Fantasie , And will not let beleefe take hold of him Touching this dreaded sight , twice seene of vs , Therefore I haue intreated him along With vs , to watch the minutes of this Night , That if againe this Apparition come , He may approue our eyes , and speake to it Hor . Tush , tush , ' twill not appeare Bar . Sit downe a - while , And let vs once againe assaile your eares , That are so fortified against our Story , What we two Nights haue seene Hor . Well , sit we downe , And let vs heare Barnardo speake of this Barn . Last night of all , When yond same Starre that ' s Westward from the Pole Had made his course t ' illume that part of Heauen Where now it burnes , Marcellus and my selfe , The Bell then beating one Mar . Peace , breake thee of : Enter the Ghost . Looke where it comes againe Barn . In the same figure , like the King that ' s dead Mar . Thou art a Scholler ; speake to it Horatio Barn . Lookes it not like the King ? Marke it Horatio Hora . Most like : It harrowes me with fear & wonder Barn . It would be spoke too Mar . Question it Horatio Hor . What art"
    }
   ],
   "source": [
    "for word in hamlet[:500]:\n",
    "    print(word,sep = ' ',end=' ')   "
   ]
  },
  {
   "cell_type": "code",
   "execution_count": 30,
   "metadata": {},
   "outputs": [],
   "source": [
    "ai = '''John McCarthy, an American computer scientist pioneer and inventor, was known as the father of Artificial Intelligence (AI) after playing a seminal role in defining the field devoted to the development of intelligent machines. The cognitive scientist coined the term in his 1955 proposal for the 1956 Dartmouth Conference, the first artificial intelligence conference. The objective was to explore ways to make a machine that could reason like a human, was capable of abstract thought, problem-solving and self-improvement. He believed that \"every aspect of learning or any other feature of intelligence can in principle be so precisely described that a machine can be made to simulate it.\"\n",
    "It would prove a challenge that eluded him and which still eludes computer designers today. McCarthy said the breakthrough might come in \"five to 500 years\" but never dismissed it. In 1958 he created the Lisp computer language, which became the standard AI programming language and continues to be used today, not only in robotics and other scientific applications but in a plethora of internet-based services, from credit-card fraud detection to airline scheduling; it also paved the way for voice recognition technology, including Siri, the personal assistant application on the latest iPhone 4s.\n",
    "\n",
    "Described as \"focused on the future,\" McCarthy was \"always inventing, inventing, inventing,\" and in the 1960s he conceived the idea of computer time-sharing or networking, which allowed users to share data by linking to a central computer; it ultimately lowered the cost of using computers. This innovation was described as a significant contribution to the development of the internet, and a precursor of cloud computing – a method of storing data on a remote server accessible via the internet.\n",
    "\n",
    "John McCarthy was born in Boston to Irish and Lithuanian immigrants in 1927. During the Depression the family moved many times, eventually arriving in Los Angeles, where his father was an organiser for a clothing workers' union and his mother was active in the women's suffrage movement.'''"
   ]
  },
  {
   "cell_type": "code",
   "execution_count": 31,
   "metadata": {},
   "outputs": [
    {
     "output_type": "execute_result",
     "data": {
      "text/plain": "str"
     },
     "metadata": {},
     "execution_count": 31
    }
   ],
   "source": [
    "type(ai)"
   ]
  },
  {
   "cell_type": "code",
   "execution_count": 32,
   "metadata": {},
   "outputs": [
    {
     "output_type": "execute_result",
     "data": {
      "text/plain": "['John',\n 'McCarthy',\n ',',\n 'an',\n 'American',\n 'computer',\n 'scientist',\n 'pioneer',\n 'and',\n 'inventor',\n ',',\n 'was',\n 'known',\n 'as',\n 'the',\n 'father',\n 'of',\n 'Artificial',\n 'Intelligence',\n '(',\n 'AI',\n ')',\n 'after',\n 'playing',\n 'a',\n 'seminal',\n 'role',\n 'in',\n 'defining',\n 'the',\n 'field',\n 'devoted',\n 'to',\n 'the',\n 'development',\n 'of',\n 'intelligent',\n 'machines',\n '.',\n 'The',\n 'cognitive',\n 'scientist',\n 'coined',\n 'the',\n 'term',\n 'in',\n 'his',\n '1955',\n 'proposal',\n 'for',\n 'the',\n '1956',\n 'Dartmouth',\n 'Conference',\n ',',\n 'the',\n 'first',\n 'artificial',\n 'intelligence',\n 'conference',\n '.',\n 'The',\n 'objective',\n 'was',\n 'to',\n 'explore',\n 'ways',\n 'to',\n 'make',\n 'a',\n 'machine',\n 'that',\n 'could',\n 'reason',\n 'like',\n 'a',\n 'human',\n ',',\n 'was',\n 'capable',\n 'of',\n 'abstract',\n 'thought',\n ',',\n 'problem-solving',\n 'and',\n 'self-improvement',\n '.',\n 'He',\n 'believed',\n 'that',\n '``',\n 'every',\n 'aspect',\n 'of',\n 'learning',\n 'or',\n 'any',\n 'other',\n 'feature',\n 'of',\n 'intelligence',\n 'can',\n 'in',\n 'principle',\n 'be',\n 'so',\n 'precisely',\n 'described',\n 'that',\n 'a',\n 'machine',\n 'can',\n 'be',\n 'made',\n 'to',\n 'simulate',\n 'it',\n '.',\n \"''\",\n 'It',\n 'would',\n 'prove',\n 'a',\n 'challenge',\n 'that',\n 'eluded',\n 'him',\n 'and',\n 'which',\n 'still',\n 'eludes',\n 'computer',\n 'designers',\n 'today',\n '.',\n 'McCarthy',\n 'said',\n 'the',\n 'breakthrough',\n 'might',\n 'come',\n 'in',\n '``',\n 'five',\n 'to',\n '500',\n 'years',\n \"''\",\n 'but',\n 'never',\n 'dismissed',\n 'it',\n '.',\n 'In',\n '1958',\n 'he',\n 'created',\n 'the',\n 'Lisp',\n 'computer',\n 'language',\n ',',\n 'which',\n 'became',\n 'the',\n 'standard',\n 'AI',\n 'programming',\n 'language',\n 'and',\n 'continues',\n 'to',\n 'be',\n 'used',\n 'today',\n ',',\n 'not',\n 'only',\n 'in',\n 'robotics',\n 'and',\n 'other',\n 'scientific',\n 'applications',\n 'but',\n 'in',\n 'a',\n 'plethora',\n 'of',\n 'internet-based',\n 'services',\n ',',\n 'from',\n 'credit-card',\n 'fraud',\n 'detection',\n 'to',\n 'airline',\n 'scheduling',\n ';',\n 'it',\n 'also',\n 'paved',\n 'the',\n 'way',\n 'for',\n 'voice',\n 'recognition',\n 'technology',\n ',',\n 'including',\n 'Siri',\n ',',\n 'the',\n 'personal',\n 'assistant',\n 'application',\n 'on',\n 'the',\n 'latest',\n 'iPhone',\n '4s',\n '.',\n 'Described',\n 'as',\n '``',\n 'focused',\n 'on',\n 'the',\n 'future',\n ',',\n \"''\",\n 'McCarthy',\n 'was',\n '``',\n 'always',\n 'inventing',\n ',',\n 'inventing',\n ',',\n 'inventing',\n ',',\n \"''\",\n 'and',\n 'in',\n 'the',\n '1960s',\n 'he',\n 'conceived',\n 'the',\n 'idea',\n 'of',\n 'computer',\n 'time-sharing',\n 'or',\n 'networking',\n ',',\n 'which',\n 'allowed',\n 'users',\n 'to',\n 'share',\n 'data',\n 'by',\n 'linking',\n 'to',\n 'a',\n 'central',\n 'computer',\n ';',\n 'it',\n 'ultimately',\n 'lowered',\n 'the',\n 'cost',\n 'of',\n 'using',\n 'computers',\n '.',\n 'This',\n 'innovation',\n 'was',\n 'described',\n 'as',\n 'a',\n 'significant',\n 'contribution',\n 'to',\n 'the',\n 'development',\n 'of',\n 'the',\n 'internet',\n ',',\n 'and',\n 'a',\n 'precursor',\n 'of',\n 'cloud',\n 'computing',\n '–',\n 'a',\n 'method',\n 'of',\n 'storing',\n 'data',\n 'on',\n 'a',\n 'remote',\n 'server',\n 'accessible',\n 'via',\n 'the',\n 'internet',\n '.',\n 'John',\n 'McCarthy',\n 'was',\n 'born',\n 'in',\n 'Boston',\n 'to',\n 'Irish',\n 'and',\n 'Lithuanian',\n 'immigrants',\n 'in',\n '1927',\n '.',\n 'During',\n 'the',\n 'Depression',\n 'the',\n 'family',\n 'moved',\n 'many',\n 'times',\n ',',\n 'eventually',\n 'arriving',\n 'in',\n 'Los',\n 'Angeles',\n ',',\n 'where',\n 'his',\n 'father',\n 'was',\n 'an',\n 'organiser',\n 'for',\n 'a',\n 'clothing',\n 'workers',\n \"'\",\n 'union',\n 'and',\n 'his',\n 'mother',\n 'was',\n 'active',\n 'in',\n 'the',\n 'women',\n \"'s\",\n 'suffrage',\n 'movement',\n '.']"
     },
     "metadata": {},
     "execution_count": 32
    }
   ],
   "source": [
    "from nltk.tokenize import word_tokenize\n",
    "tokens = word_tokenize(ai)\n",
    "tokens"
   ]
  },
  {
   "cell_type": "code",
   "execution_count": 33,
   "metadata": {},
   "outputs": [
    {
     "output_type": "execute_result",
     "data": {
      "text/plain": "369"
     },
     "metadata": {},
     "execution_count": 33
    }
   ],
   "source": [
    "len(tokens)"
   ]
  },
  {
   "cell_type": "code",
   "execution_count": 34,
   "metadata": {},
   "outputs": [],
   "source": [
    "from nltk.probability import FreqDist\n",
    "fdist = FreqDist()"
   ]
  },
  {
   "cell_type": "code",
   "execution_count": 35,
   "metadata": {},
   "outputs": [],
   "source": [
    "for word in tokens:\n",
    "  fdist[word]+=1"
   ]
  },
  {
   "cell_type": "code",
   "execution_count": 36,
   "metadata": {},
   "outputs": [
    {
     "output_type": "execute_result",
     "data": {
      "text/plain": "2"
     },
     "metadata": {},
     "execution_count": 36
    }
   ],
   "source": [
    "fdist['scientist']"
   ]
  },
  {
   "cell_type": "code",
   "execution_count": 37,
   "metadata": {},
   "outputs": [
    {
     "output_type": "execute_result",
     "data": {
      "text/plain": "[('the', 22),\n (',', 18),\n ('a', 12),\n ('of', 11),\n ('in', 11),\n ('to', 11),\n ('.', 11),\n ('and', 9),\n ('was', 8),\n ('computer', 5)]"
     },
     "metadata": {},
     "execution_count": 37
    }
   ],
   "source": [
    "fdist.most_common(10)"
   ]
  },
  {
   "cell_type": "code",
   "execution_count": 38,
   "metadata": {},
   "outputs": [
    {
     "output_type": "execute_result",
     "data": {
      "text/plain": "3"
     },
     "metadata": {},
     "execution_count": 38
    }
   ],
   "source": [
    "from nltk.tokenize import blankline_tokenize\n",
    "len(blankline_tokenize(ai))"
   ]
  }
 ],
 "metadata": {
  "kernelspec": {
   "display_name": "Python 3",
   "language": "python",
   "name": "python3"
  },
  "language_info": {
   "codemirror_mode": {
    "name": "ipython",
    "version": 3
   },
   "file_extension": ".py",
   "mimetype": "text/x-python",
   "name": "python",
   "nbconvert_exporter": "python",
   "pygments_lexer": "ipython3",
   "version": "3.8.3"
  }
 },
 "nbformat": 4,
 "nbformat_minor": 4
}