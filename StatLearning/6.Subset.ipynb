{
 "cells": [
  {
   "cell_type": "code",
   "execution_count": 1,
   "metadata": {},
   "outputs": [],
   "source": [
    "import pandas as pd\n",
    "import numpy as np\n",
    "credit = pd.read_csv('data/Credit.csv',index_col=[0])"
   ]
  },
  {
   "cell_type": "code",
   "execution_count": 2,
   "metadata": {},
   "outputs": [],
   "source": [
    "def adj_r2(r2,n,p):\n",
    "    return (1 - (1 - r2) * ((n - 1) / (n-p - 1)))"
   ]
  },
  {
   "cell_type": "code",
   "execution_count": 3,
   "metadata": {},
   "outputs": [
    {
     "data": {
      "text/plain": [
       "array(['Income', 'Limit', 'Rating', 'Cards', 'Age', 'Education', 'Gender',\n",
       "       'Student', 'Married', 'Ethnicity', 'Balance'], dtype=object)"
      ]
     },
     "execution_count": 3,
     "metadata": {},
     "output_type": "execute_result"
    }
   ],
   "source": [
    "credit.columns.values"
   ]
  },
  {
   "cell_type": "markdown",
   "metadata": {},
   "source": [
    "## Preprocessing"
   ]
  },
  {
   "cell_type": "code",
   "execution_count": 4,
   "metadata": {},
   "outputs": [
    {
     "data": {
      "text/html": [
       "<div>\n",
       "<style scoped>\n",
       "    .dataframe tbody tr th:only-of-type {\n",
       "        vertical-align: middle;\n",
       "    }\n",
       "\n",
       "    .dataframe tbody tr th {\n",
       "        vertical-align: top;\n",
       "    }\n",
       "\n",
       "    .dataframe thead th {\n",
       "        text-align: right;\n",
       "    }\n",
       "</style>\n",
       "<table border=\"1\" class=\"dataframe\">\n",
       "  <thead>\n",
       "    <tr style=\"text-align: right;\">\n",
       "      <th></th>\n",
       "      <th>Income</th>\n",
       "      <th>Limit</th>\n",
       "      <th>Rating</th>\n",
       "      <th>Cards</th>\n",
       "      <th>Age</th>\n",
       "      <th>Education</th>\n",
       "      <th>Balance</th>\n",
       "      <th>Gender_Female</th>\n",
       "      <th>Gender_Male</th>\n",
       "      <th>Student_No</th>\n",
       "      <th>Student_Yes</th>\n",
       "      <th>Married_No</th>\n",
       "      <th>Married_Yes</th>\n",
       "      <th>Ethnicity_African American</th>\n",
       "      <th>Ethnicity_Asian</th>\n",
       "      <th>Ethnicity_Caucasian</th>\n",
       "    </tr>\n",
       "  </thead>\n",
       "  <tbody>\n",
       "    <tr>\n",
       "      <th>1</th>\n",
       "      <td>14.891</td>\n",
       "      <td>3606</td>\n",
       "      <td>283</td>\n",
       "      <td>2</td>\n",
       "      <td>34</td>\n",
       "      <td>11</td>\n",
       "      <td>333</td>\n",
       "      <td>0</td>\n",
       "      <td>1</td>\n",
       "      <td>1</td>\n",
       "      <td>0</td>\n",
       "      <td>0</td>\n",
       "      <td>1</td>\n",
       "      <td>0</td>\n",
       "      <td>0</td>\n",
       "      <td>1</td>\n",
       "    </tr>\n",
       "    <tr>\n",
       "      <th>2</th>\n",
       "      <td>106.025</td>\n",
       "      <td>6645</td>\n",
       "      <td>483</td>\n",
       "      <td>3</td>\n",
       "      <td>82</td>\n",
       "      <td>15</td>\n",
       "      <td>903</td>\n",
       "      <td>1</td>\n",
       "      <td>0</td>\n",
       "      <td>0</td>\n",
       "      <td>1</td>\n",
       "      <td>0</td>\n",
       "      <td>1</td>\n",
       "      <td>0</td>\n",
       "      <td>1</td>\n",
       "      <td>0</td>\n",
       "    </tr>\n",
       "    <tr>\n",
       "      <th>3</th>\n",
       "      <td>104.593</td>\n",
       "      <td>7075</td>\n",
       "      <td>514</td>\n",
       "      <td>4</td>\n",
       "      <td>71</td>\n",
       "      <td>11</td>\n",
       "      <td>580</td>\n",
       "      <td>0</td>\n",
       "      <td>1</td>\n",
       "      <td>1</td>\n",
       "      <td>0</td>\n",
       "      <td>1</td>\n",
       "      <td>0</td>\n",
       "      <td>0</td>\n",
       "      <td>1</td>\n",
       "      <td>0</td>\n",
       "    </tr>\n",
       "  </tbody>\n",
       "</table>\n",
       "</div>"
      ],
      "text/plain": [
       "    Income  Limit  Rating  Cards  Age  Education  Balance  Gender_Female  \\\n",
       "1   14.891   3606     283      2   34         11      333              0   \n",
       "2  106.025   6645     483      3   82         15      903              1   \n",
       "3  104.593   7075     514      4   71         11      580              0   \n",
       "\n",
       "   Gender_Male  Student_No  Student_Yes  Married_No  Married_Yes  \\\n",
       "1            1           1            0           0            1   \n",
       "2            0           0            1           0            1   \n",
       "3            1           1            0           1            0   \n",
       "\n",
       "   Ethnicity_African American  Ethnicity_Asian  Ethnicity_Caucasian  \n",
       "1                           0                0                    1  \n",
       "2                           0                1                    0  \n",
       "3                           0                1                    0  "
      ]
     },
     "execution_count": 4,
     "metadata": {},
     "output_type": "execute_result"
    }
   ],
   "source": [
    "data = pd.get_dummies(credit, columns = ['Gender', 'Student','Married','Ethnicity'])\n",
    "data.head(3)"
   ]
  },
  {
   "cell_type": "code",
   "execution_count": 5,
   "metadata": {},
   "outputs": [],
   "source": [
    "y= data[\"Balance\"]\n",
    "X = data.loc[:, data.columns != 'Balance']"
   ]
  },
  {
   "cell_type": "code",
   "execution_count": 6,
   "metadata": {},
   "outputs": [],
   "source": [
    "from sklearn.preprocessing import StandardScaler\n",
    "sc = StandardScaler()\n",
    "X = sc.fit_transform(X)"
   ]
  },
  {
   "cell_type": "code",
   "execution_count": 7,
   "metadata": {},
   "outputs": [],
   "source": [
    "from sklearn.model_selection import train_test_split\n",
    "X_train,X_test,y_train,y_test = train_test_split(X,y,test_size=0.2)"
   ]
  },
  {
   "cell_type": "markdown",
   "metadata": {},
   "source": [
    "## Linear Regression"
   ]
  },
  {
   "cell_type": "code",
   "execution_count": 26,
   "metadata": {},
   "outputs": [],
   "source": [
    "from sklearn.linear_model import LinearRegression\n",
    "model = LinearRegression()\n",
    "model.fit(X_train,y_train)\n",
    "y_pred = model.predict(X_test)"
   ]
  },
  {
   "cell_type": "code",
   "execution_count": 27,
   "metadata": {},
   "outputs": [
    {
     "name": "stdout",
     "output_type": "stream",
     "text": [
      "R2 Score:0.9571 Adj R2 Score:0.9470\n"
     ]
    }
   ],
   "source": [
    "from sklearn.metrics import r2_score\n",
    "r2= r2_score(y_test, y_pred)\n",
    "print(f\"R2 Score:{r2:.4f} Adj R2 Score:{adj_r2(r2,X_test.shape[0],X_test.shape[1]):.4f}\")"
   ]
  },
  {
   "cell_type": "code",
   "execution_count": 40,
   "metadata": {},
   "outputs": [
    {
     "data": {
      "image/png": "[encoded data removed]",
      "text/plain": [
       "<Figure size 432x288 with 1 Axes>"
      ]
     },
     "metadata": {
      "needs_background": "light"
     },
     "output_type": "display_data"
    }
   ],
   "source": [
    "import matplotlib.pyplot as plot\n",
    "t = range(y_test.shape[0])\n",
    "plot.scatter(t, y_test, color = 'red')\n",
    "plot.scatter(t, y_pred, color = 'blue')\n",
    "plot.title('Index vs Balance')\n",
    "plot.xlabel('Index')\n",
    "plot.ylabel('Balance')\n",
    "plot.show()"
   ]
  },
  {
   "cell_type": "markdown",
   "metadata": {},
   "source": [
    "## K-Fold Cross Validation"
   ]
  },
  {
   "cell_type": "code",
   "execution_count": 41,
   "metadata": {},
   "outputs": [
    {
     "name": "stdout",
     "output_type": "stream",
     "text": [
      "Cross-Validation Error:10176.0901 R2 Score:0.9517 Adj R2 Score:0.9499\n"
     ]
    }
   ],
   "source": [
    "from sklearn.model_selection import cross_val_predict,cross_validate\n",
    "model = LinearRegression()\n",
    "score = cross_validate(model,X=X,y=y,cv=5,scoring ='neg_mean_squared_error',return_estimator = True)\n",
    "y_pred = cross_val_predict(model, X, y, cv=5)\n",
    "from sklearn.metrics import r2_score\n",
    "r2 =r2_score(y, y_pred)\n",
    "print(f\"Cross-Validation Error:{abs(score['test_score'].mean()):.4f} R2 Score:{r2:.4f} Adj R2 Score:{adj_r2(r2,X.shape[0],X.shape[1]):.4f}\")"
   ]
  },
  {
   "cell_type": "code",
   "execution_count": 46,
   "metadata": {},
   "outputs": [
    {
     "data": {
      "image/png": "[encoded data removed]",
      "text/plain": [
       "<Figure size 432x288 with 1 Axes>"
      ]
     },
     "metadata": {
      "needs_background": "light"
     },
     "output_type": "display_data"
    }
   ],
   "source": [
    "import matplotlib.pyplot as plot\n",
    "t = range(50)\n",
    "plot.scatter(t, y[0:50], color = 'red')\n",
    "plot.scatter(t, y_pred[0:50], color = 'blue')\n",
    "plot.title('Index vs Balance')\n",
    "plot.xlabel('Index')\n",
    "plot.ylabel('Balance')\n",
    "plot.show()"
   ]
  },
  {
   "cell_type": "markdown",
   "metadata": {},
   "source": [
    "## Stratified K-Fold Cross Validation"
   ]
  },
  {
   "cell_type": "code",
   "execution_count": 19,
   "metadata": {},
   "outputs": [
    {
     "name": "stdout",
     "output_type": "stream",
     "text": [
      "Cross-Validation Error:10377.5884 R2 Score:0.9508 Adj R2 Score:0.9489\n"
     ]
    },
    {
     "name": "stderr",
     "output_type": "stream",
     "text": [
      "/opt/anaconda3/lib/python3.7/site-packages/sklearn/model_selection/_split.py:667: UserWarning: The least populated class in y has only 1 members, which is less than n_splits=2.\n",
      "  % (min_groups, self.n_splits)), UserWarning)\n",
      "/opt/anaconda3/lib/python3.7/site-packages/sklearn/model_selection/_split.py:667: UserWarning: The least populated class in y has only 1 members, which is less than n_splits=2.\n",
      "  % (min_groups, self.n_splits)), UserWarning)\n"
     ]
    }
   ],
   "source": [
    "from sklearn.model_selection import cross_val_score,cross_val_predict,StratifiedKFold\n",
    "sf = StratifiedKFold(n_splits=2)\n",
    "model = LinearRegression()\n",
    "score = cross_val_score(model,X=X,y=y,cv=sf,scoring='neg_mean_squared_error')\n",
    "y_pred = cross_val_predict(model, X, y, cv=sf)\n",
    "from sklearn.metrics import r2_score\n",
    "r2 =r2_score(y, y_pred)\n",
    "print(f\"Cross-Validation Error:{abs(score.mean()):.4f} R2 Score:{r2:.4f} Adj R2 Score:{adj_r2(r2,X.shape[0],X.shape[1]):.4f}\")"
   ]
  },
  {
   "cell_type": "markdown",
   "metadata": {},
   "source": [
    "## Leave One Out Cross Validation"
   ]
  },
  {
   "cell_type": "code",
   "execution_count": 48,
   "metadata": {},
   "outputs": [
    {
     "name": "stdout",
     "output_type": "stream",
     "text": [
      "Cross-Validation Error:10100.2198 R2 Score:0.9521 Adj R2 Score:0.9502\n"
     ]
    }
   ],
   "source": [
    "from sklearn.model_selection import cross_val_score,cross_val_predict,LeaveOneOut\n",
    "loo = LeaveOneOut()\n",
    "model = LinearRegression()\n",
    "score = cross_val_score(model,X=X,y=y,cv=loo,scoring='neg_mean_squared_error')\n",
    "y_pred = cross_val_predict(model, X, y, cv=loo)\n",
    "from sklearn.metrics import r2_score\n",
    "r2 =r2_score(y, y_pred)\n",
    "print(f\"Cross-Validation Error:{abs(score.mean()):.4f} R2 Score:{r2:.4f} Adj R2 Score:{adj_r2(r2,X.shape[0],X.shape[1]):.4f}\")"
   ]
  },
  {
   "cell_type": "markdown",
   "metadata": {},
   "source": [
    "## Forward Subset Selection"
   ]
  },
  {
   "cell_type": "code",
   "execution_count": 46,
   "metadata": {},
   "outputs": [],
   "source": [
    "def calculate_score(X,y):\n",
    "    from sklearn.model_selection import cross_val_score,cross_val_predict\n",
    "    score = cross_val_score(LinearRegression(),X=X,y=y,cv=5,scoring ='neg_mean_squared_error')\n",
    "    return abs(score.mean())"
   ]
  },
  {
   "cell_type": "code",
   "execution_count": 47,
   "metadata": {},
   "outputs": [],
   "source": [
    "import itertools\n",
    "k= X.shape[1]\n",
    "remaining_features = list(range(0,k))\n",
    "features = []\n",
    "RSS_list = [np.inf]\n",
    "features_list = dict()\n",
    "for i in range(1,k+1):\n",
    "    best_RSS = np.inf\n",
    "    for combo in itertools.combinations(remaining_features,1):\n",
    "        score = 0       \n",
    "        features.append(combo[0])\n",
    "        score = calculate_score(X[:,features],y)\n",
    "        features.remove(combo[0])\n",
    "        \n",
    "        if  score < best_RSS:\n",
    "            best_RSS = score\n",
    "            best_feature = combo[0]\n",
    "    \n",
    "    features.append(best_feature)\n",
    "    remaining_features.remove(best_feature)\n",
    "            \n",
    "    features_list[i] = features.copy()\n",
    "    RSS_list.append(best_RSS)"
   ]
  },
  {
   "cell_type": "code",
   "execution_count": 48,
   "metadata": {},
   "outputs": [
    {
     "data": {
      "text/plain": [
       "Index(['Rating', 'Income', 'Gender_Male', 'Limit', 'Cards', 'Age',\n",
       "       'Student_No'],\n",
       "      dtype='object')"
      ]
     },
     "execution_count": 48,
     "metadata": {},
     "output_type": "execute_result"
    }
   ],
   "source": [
    "result = features_list[RSS_list.index(min(RSS_list))]\n",
    "data.columns[result]"
   ]
  },
  {
   "cell_type": "code",
   "execution_count": 49,
   "metadata": {},
   "outputs": [
    {
     "name": "stdout",
     "output_type": "stream",
     "text": [
      "Cross-Validation Error:9957.2382 R2 Score:0.9528 Adj R2 Score:0.9509\n"
     ]
    }
   ],
   "source": [
    "y_pred = cross_val_predict(LinearRegression(), X[:,result], y, cv=5)\n",
    "from sklearn.metrics import r2_score\n",
    "r2 =r2_score(y, y_pred)\n",
    "print(f\"Cross-Validation Error:{abs(min(RSS_list)):.4f} R2 Score:{r2:.4f} Adj R2 Score:{adj_r2(r2,X.shape[0],X.shape[1]):.4f}\")"
   ]
  },
  {
   "cell_type": "markdown",
   "metadata": {},
   "source": [
    "## Ridge regression"
   ]
  },
  {
   "cell_type": "code",
   "execution_count": 50,
   "metadata": {},
   "outputs": [],
   "source": [
    "from sklearn import linear_model\n",
    "scores_list = []\n",
    "lambdas = [0.05,0.1,0.2,0.5,1]\n",
    "for l in lambdas:\n",
    "    reg = linear_model.Ridge(alpha=l)\n",
    "    score = cross_val_score(reg,X=X,y=y,cv=5,scoring='neg_mean_squared_error')\n",
    "    scores_list.append(abs(score.mean()))"
   ]
  },
  {
   "cell_type": "code",
   "execution_count": 51,
   "metadata": {},
   "outputs": [
    {
     "data": {
      "text/plain": [
       "0.5"
      ]
     },
     "execution_count": 51,
     "metadata": {},
     "output_type": "execute_result"
    }
   ],
   "source": [
    "l = lambdas[scores_list.index(min(scores_list))]\n",
    "l"
   ]
  },
  {
   "cell_type": "code",
   "execution_count": 52,
   "metadata": {},
   "outputs": [
    {
     "name": "stdout",
     "output_type": "stream",
     "text": [
      "Cross-Validation Error:10140.2521 R2 Score:0.9519 Adj R2 Score:0.9501\n"
     ]
    }
   ],
   "source": [
    "reg = linear_model.Ridge(alpha=l)\n",
    "y_pred = cross_val_predict(reg, X, y, cv=5)\n",
    "from sklearn.metrics import r2_score\n",
    "r2 =r2_score(y, y_pred)\n",
    "print(f\"Cross-Validation Error:{abs(score.mean()):.4f} R2 Score:{r2:.4f} Adj R2 Score:{adj_r2(r2,X.shape[0],X.shape[1]):.4f}\")"
   ]
  },
  {
   "cell_type": "markdown",
   "metadata": {},
   "source": [
    "## Lasso regression"
   ]
  },
  {
   "cell_type": "code",
   "execution_count": 53,
   "metadata": {},
   "outputs": [],
   "source": [
    "from sklearn import linear_model\n",
    "scores_list = []\n",
    "lambdas = [0.05,0.1,0.2,0.5,1]\n",
    "for l in lambdas:\n",
    "    reg = linear_model.Lasso(alpha=l)\n",
    "    score = cross_val_score(reg,X=X,y=y,cv=5,scoring='neg_mean_squared_error')\n",
    "    scores_list.append(abs(score.mean()))"
   ]
  },
  {
   "cell_type": "code",
   "execution_count": 54,
   "metadata": {},
   "outputs": [
    {
     "data": {
      "text/plain": [
       "1"
      ]
     },
     "execution_count": 54,
     "metadata": {},
     "output_type": "execute_result"
    }
   ],
   "source": [
    "l = lambdas[scores_list.index(min(scores_list))]\n",
    "l"
   ]
  },
  {
   "cell_type": "code",
   "execution_count": 55,
   "metadata": {},
   "outputs": [
    {
     "name": "stdout",
     "output_type": "stream",
     "text": [
      "Cross-Validation Error:10128.5030 R2 Score:0.9520 Adj R2 Score:0.9501\n"
     ]
    }
   ],
   "source": [
    "from sklearn import linear_model\n",
    "reg = linear_model.Lasso(alpha=l)\n",
    "score = cross_val_score(reg,X=X,y=y,cv=5,scoring='neg_mean_squared_error')\n",
    "y_pred = cross_val_predict(reg, X, y, cv=5)\n",
    "from sklearn.metrics import r2_score\n",
    "r2 =r2_score(y, y_pred)\n",
    "print(f\"Cross-Validation Error:{abs(score.mean()):.4f} R2 Score:{r2:.4f} Adj R2 Score:{adj_r2(r2,X.shape[0],X.shape[1]):.4f}\")"
   ]
  },
  {
   "cell_type": "markdown",
   "metadata": {},
   "source": [
    "## PCA"
   ]
  },
  {
   "cell_type": "code",
   "execution_count": 56,
   "metadata": {},
   "outputs": [
    {
     "data": {
      "text/plain": [
       "array([0.17673128, 0.14692159, 0.13973825, 0.12399704, 0.11179468])"
      ]
     },
     "execution_count": 56,
     "metadata": {},
     "output_type": "execute_result"
    }
   ],
   "source": [
    "from sklearn.decomposition import PCA\n",
    "pca = PCA(n_components=5)\n",
    "principalComponents = pca.fit_transform(X_train)\n",
    "pca.explained_variance_ratio_"
   ]
  },
  {
   "cell_type": "code",
   "execution_count": 57,
   "metadata": {},
   "outputs": [],
   "source": [
    "from sklearn.linear_model import LinearRegression\n",
    "model = LinearRegression()\n",
    "model.fit(pca.transform(X_train),y_train)\n",
    "y_pred = model.predict(pca.transform(X_test))"
   ]
  },
  {
   "cell_type": "code",
   "execution_count": 58,
   "metadata": {},
   "outputs": [
    {
     "name": "stdout",
     "output_type": "stream",
     "text": [
      "R2 Score:0.9520 Adj R2 Score:0.9487\n"
     ]
    }
   ],
   "source": [
    "from sklearn.metrics import r2_score\n",
    "rs= r2_score(y_test, y_pred)\n",
    "print(f\"R2 Score:{r2:.4f} Adj R2 Score:{adj_r2(r2,pca.transform(X_test).shape[0],pca.transform(X_test).shape[1]):.4f}\")"
   ]
  }
 ],
 "metadata": {
  "kernelspec": {
   "display_name": "Python 3.7.6 64-bit ('base': conda)",
   "language": "python",
   "name": "python37664bitbaseconda6f005690c5a24f80b204c8f05f403d84"
  },
  "language_info": {
   "codemirror_mode": {
    "name": "ipython",
    "version": 3
   },
   "file_extension": ".py",
   "mimetype": "text/x-python",
   "name": "python",
   "nbconvert_exporter": "python",
   "pygments_lexer": "ipython3",
   "version": "3.7.7"
  }
 },
 "nbformat": 4,
 "nbformat_minor": 4
}
