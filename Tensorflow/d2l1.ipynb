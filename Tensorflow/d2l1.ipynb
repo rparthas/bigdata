{
 "metadata": {
  "language_info": {
   "codemirror_mode": {
    "name": "ipython",
    "version": 3
   },
   "file_extension": ".py",
   "mimetype": "text/x-python",
   "name": "python",
   "nbconvert_exporter": "python",
   "pygments_lexer": "ipython3",
   "version": "3.6.8-final"
  },
  "orig_nbformat": 2,
  "kernelspec": {
   "name": "python36864bitc6d66c7db72b435eb6238c20d8acae2b",
   "display_name": "Python 3.6.8 64-bit"
  }
 },
 "nbformat": 4,
 "nbformat_minor": 2,
 "cells": [
  {
   "cell_type": "code",
   "execution_count": 108,
   "metadata": {},
   "outputs": [],
   "source": [
    "import tensorflow as tf\n",
    "import numpy as np\n",
    "import os\n",
    "import pandas as pd\n",
    "import tensorflow_probability as tfp\n",
    "import d2l.tensorflow as d2l"
   ]
  },
  {
   "cell_type": "code",
   "execution_count": 40,
   "metadata": {},
   "outputs": [],
   "source": [
    "def print_tensor(x):\n",
    "    print(x)\n",
    "    print(x.shape)"
   ]
  },
  {
   "cell_type": "code",
   "execution_count": 41,
   "metadata": {
    "tags": []
   },
   "outputs": [
    {
     "output_type": "stream",
     "name": "stdout",
     "text": "tf.Tensor([ 0  1  2  3  4  5  6  7  8  9 10 11], shape=(12,), dtype=int32)\n(12,)\n"
    }
   ],
   "source": [
    "x = tf.range(12)\n",
    "print_tensor(x)"
   ]
  },
  {
   "cell_type": "code",
   "execution_count": 42,
   "metadata": {
    "tags": []
   },
   "outputs": [
    {
     "output_type": "stream",
     "name": "stdout",
     "text": "tf.Tensor(\n[[ 0  1  2  3]\n [ 4  5  6  7]\n [ 8  9 10 11]], shape=(3, 4), dtype=int32)\n(3, 4)\n"
    }
   ],
   "source": [
    "print_tensor(tf.reshape(x, (3, 4)))"
   ]
  },
  {
   "cell_type": "code",
   "execution_count": 43,
   "metadata": {
    "tags": []
   },
   "outputs": [
    {
     "output_type": "stream",
     "name": "stdout",
     "text": "tf.Tensor(\n[[ 0  1  2  3]\n [ 4  5  6  7]\n [ 8  9 10 11]], shape=(3, 4), dtype=int32)\n(3, 4)\n"
    }
   ],
   "source": [
    "print_tensor(tf.reshape(x, (3, -1)))"
   ]
  },
  {
   "cell_type": "code",
   "execution_count": 44,
   "metadata": {
    "tags": []
   },
   "outputs": [
    {
     "output_type": "stream",
     "name": "stdout",
     "text": "tf.Tensor(\n[[[0. 0. 0. 0.]\n  [0. 0. 0. 0.]\n  [0. 0. 0. 0.]]\n\n [[0. 0. 0. 0.]\n  [0. 0. 0. 0.]\n  [0. 0. 0. 0.]]], shape=(2, 3, 4), dtype=float32)\n(2, 3, 4)\n"
    }
   ],
   "source": [
    "print_tensor(tf.zeros((2, 3, 4)))"
   ]
  },
  {
   "cell_type": "code",
   "execution_count": 45,
   "metadata": {
    "tags": []
   },
   "outputs": [
    {
     "output_type": "stream",
     "name": "stdout",
     "text": "tf.Tensor(\n[[[1. 1. 1. 1.]\n  [1. 1. 1. 1.]\n  [1. 1. 1. 1.]]\n\n [[1. 1. 1. 1.]\n  [1. 1. 1. 1.]\n  [1. 1. 1. 1.]]], shape=(2, 3, 4), dtype=float32)\n(2, 3, 4)\n"
    }
   ],
   "source": [
    "print_tensor(tf.ones((2, 3, 4)))"
   ]
  },
  {
   "cell_type": "code",
   "execution_count": 46,
   "metadata": {
    "tags": []
   },
   "outputs": [
    {
     "output_type": "stream",
     "name": "stdout",
     "text": "tf.Tensor(\n[[ 0.9467958  -0.50667316 -0.13251051 -1.5174341 ]\n [-0.39561546 -0.57632405  0.38594595 -1.8558823 ]\n [ 1.0106536   1.117708    0.80902666 -0.33923778]], shape=(3, 4), dtype=float32)\n(3, 4)\n"
    }
   ],
   "source": [
    "print_tensor(tf.random.normal(shape=[3, 4]))"
   ]
  },
  {
   "cell_type": "code",
   "execution_count": 47,
   "metadata": {
    "tags": []
   },
   "outputs": [
    {
     "output_type": "stream",
     "name": "stdout",
     "text": "tf.Tensor(\n[[2 1 4 3]\n [1 2 3 4]\n [4 3 2 1]], shape=(3, 4), dtype=int32)\n(3, 4)\n"
    }
   ],
   "source": [
    "print_tensor(tf.constant([[2, 1, 4, 3], [1, 2, 3, 4], [4, 3, 2, 1]]))"
   ]
  },
  {
   "cell_type": "code",
   "execution_count": 48,
   "metadata": {},
   "outputs": [
    {
     "output_type": "execute_result",
     "data": {
      "text/plain": "(<tf.Tensor: shape=(4,), dtype=float32, numpy=array([ 3.,  4.,  6., 10.], dtype=float32)>,\n <tf.Tensor: shape=(4,), dtype=float32, numpy=array([-1.,  0.,  2.,  6.], dtype=float32)>,\n <tf.Tensor: shape=(4,), dtype=float32, numpy=array([ 2.,  4.,  8., 16.], dtype=float32)>,\n <tf.Tensor: shape=(4,), dtype=float32, numpy=array([0.5, 1. , 2. , 4. ], dtype=float32)>,\n <tf.Tensor: shape=(4,), dtype=float32, numpy=array([ 1.,  4., 16., 64.], dtype=float32)>)"
     },
     "metadata": {},
     "execution_count": 48
    }
   ],
   "source": [
    "x = tf.constant([1.0, 2, 4, 8])\n",
    "y = tf.constant([2.0, 2, 2, 2])\n",
    "x + y, x - y, x * y, x / y, x ** y"
   ]
  },
  {
   "cell_type": "code",
   "execution_count": 49,
   "metadata": {},
   "outputs": [
    {
     "output_type": "execute_result",
     "data": {
      "text/plain": "<tf.Tensor: shape=(4,), dtype=float32, numpy=\narray([2.7182817e+00, 7.3890562e+00, 5.4598148e+01, 2.9809580e+03],\n      dtype=float32)>"
     },
     "metadata": {},
     "execution_count": 49
    }
   ],
   "source": [
    "tf.exp(x)"
   ]
  },
  {
   "cell_type": "code",
   "execution_count": 50,
   "metadata": {},
   "outputs": [
    {
     "output_type": "execute_result",
     "data": {
      "text/plain": "(<tf.Tensor: shape=(6, 4), dtype=float32, numpy=\n array([[ 0.,  1.,  2.,  3.],\n        [ 4.,  5.,  6.,  7.],\n        [ 8.,  9., 10., 11.],\n        [ 2.,  1.,  4.,  3.],\n        [ 1.,  2.,  3.,  4.],\n        [ 4.,  3.,  2.,  1.]], dtype=float32)>,\n <tf.Tensor: shape=(3, 8), dtype=float32, numpy=\n array([[ 0.,  1.,  2.,  3.,  2.,  1.,  4.,  3.],\n        [ 4.,  5.,  6.,  7.,  1.,  2.,  3.,  4.],\n        [ 8.,  9., 10., 11.,  4.,  3.,  2.,  1.]], dtype=float32)>)"
     },
     "metadata": {},
     "execution_count": 50
    }
   ],
   "source": [
    "x = tf.reshape(tf.range(12, dtype=tf.float32), (3, 4))\n",
    "y = tf.constant([[2.0, 1, 4, 3], [1, 2, 3, 4], [4, 3, 2, 1]])\n",
    "tf.concat([x, y], axis=0), tf.concat([x, y], axis=1)"
   ]
  },
  {
   "cell_type": "code",
   "execution_count": 51,
   "metadata": {},
   "outputs": [
    {
     "output_type": "execute_result",
     "data": {
      "text/plain": "<tf.Tensor: shape=(3, 4), dtype=bool, numpy=\narray([[False,  True, False,  True],\n       [False, False, False, False],\n       [False, False, False, False]])>"
     },
     "metadata": {},
     "execution_count": 51
    }
   ],
   "source": [
    "x == y"
   ]
  },
  {
   "cell_type": "code",
   "execution_count": 52,
   "metadata": {},
   "outputs": [
    {
     "output_type": "execute_result",
     "data": {
      "text/plain": "<tf.Tensor: shape=(), dtype=float32, numpy=66.0>"
     },
     "metadata": {},
     "execution_count": 52
    }
   ],
   "source": [
    "tf.reduce_sum(x)"
   ]
  },
  {
   "cell_type": "code",
   "execution_count": 53,
   "metadata": {},
   "outputs": [],
   "source": [
    "def mkdir_if_not_exist(path):  #@save\n",
    "    \"\"\"Make a directory if it does not exist.\"\"\"\n",
    "    if not isinstance(path, str):\n",
    "        path = os.path.join(*path)\n",
    "    if not os.path.exists(path):\n",
    "        os.makedirs(path)"
   ]
  },
  {
   "cell_type": "code",
   "execution_count": 54,
   "metadata": {},
   "outputs": [],
   "source": [
    "data_file = './data/house_tiny.csv'\n",
    "mkdir_if_not_exist('./data')\n",
    "with open(data_file, 'w') as f:\n",
    "    f.write('NumRooms,Alley,Price\\n')  # Column names\n",
    "    f.write('NA,Pave,127500\\n')  # Each row represents a data point\n",
    "    f.write('2,NA,106000\\n')\n",
    "    f.write('4,NA,178100\\n')\n",
    "    f.write('NA,NA,140000\\n')"
   ]
  },
  {
   "cell_type": "code",
   "execution_count": 55,
   "metadata": {
    "tags": []
   },
   "outputs": [
    {
     "output_type": "stream",
     "name": "stdout",
     "text": "NumRooms Alley   Price\n0       NaN  Pave  127500\n1       2.0   NaN  106000\n2       4.0   NaN  178100\n3       NaN   NaN  140000\n"
    }
   ],
   "source": [
    "data = pd.read_csv(data_file)\n",
    "print(data)"
   ]
  },
  {
   "cell_type": "code",
   "execution_count": 56,
   "metadata": {
    "tags": []
   },
   "outputs": [
    {
     "output_type": "stream",
     "name": "stdout",
     "text": "NumRooms Alley\n0       3.0  Pave\n1       2.0   NaN\n2       4.0   NaN\n3       3.0   NaN\n"
    }
   ],
   "source": [
    "inputs, outputs = data.iloc[:, 0:2], data.iloc[:, 2]\n",
    "inputs = inputs.fillna(inputs.mean())\n",
    "print(inputs)"
   ]
  },
  {
   "cell_type": "code",
   "execution_count": 57,
   "metadata": {
    "tags": []
   },
   "outputs": [
    {
     "output_type": "stream",
     "name": "stdout",
     "text": "NumRooms  Alley_Pave  Alley_nan\n0       3.0           1          0\n1       2.0           0          1\n2       4.0           0          1\n3       3.0           0          1\n"
    }
   ],
   "source": [
    "inputs = pd.get_dummies(inputs, dummy_na=True)\n",
    "print(inputs)"
   ]
  },
  {
   "cell_type": "code",
   "execution_count": 58,
   "metadata": {},
   "outputs": [
    {
     "output_type": "execute_result",
     "data": {
      "text/plain": "(<tf.Tensor: shape=(4, 3), dtype=float64, numpy=\n array([[3., 1., 0.],\n        [2., 0., 1.],\n        [4., 0., 1.],\n        [3., 0., 1.]])>,\n <tf.Tensor: shape=(4,), dtype=int64, numpy=array([127500, 106000, 178100, 140000])>)"
     },
     "metadata": {},
     "execution_count": 58
    }
   ],
   "source": [
    "X, y = tf.constant(inputs.values), tf.constant(outputs.values)\n",
    "X, y"
   ]
  },
  {
   "cell_type": "code",
   "execution_count": 59,
   "metadata": {},
   "outputs": [
    {
     "output_type": "execute_result",
     "data": {
      "text/plain": "<tf.Tensor: shape=(4, 3), dtype=int32, numpy=\narray([[ 0,  1,  2],\n       [ 3,  4,  5],\n       [ 6,  7,  8],\n       [ 9, 10, 11]], dtype=int32)>"
     },
     "metadata": {},
     "execution_count": 59
    }
   ],
   "source": [
    "A= tf.reshape(tf.range(12),(4,3))\n",
    "A"
   ]
  },
  {
   "cell_type": "code",
   "execution_count": 60,
   "metadata": {},
   "outputs": [
    {
     "output_type": "execute_result",
     "data": {
      "text/plain": "<tf.Tensor: shape=(4, 3), dtype=bool, numpy=\narray([[ True,  True,  True],\n       [ True,  True,  True],\n       [ True,  True,  True],\n       [ True,  True,  True]])>"
     },
     "metadata": {},
     "execution_count": 60
    }
   ],
   "source": [
    "tf.transpose(tf.transpose(A)) == A"
   ]
  },
  {
   "cell_type": "code",
   "execution_count": 61,
   "metadata": {},
   "outputs": [
    {
     "output_type": "execute_result",
     "data": {
      "text/plain": "2"
     },
     "metadata": {},
     "execution_count": 61
    }
   ],
   "source": [
    "A= tf.reshape(tf.range(24),(2,3,4))\n",
    "len(A)"
   ]
  },
  {
   "cell_type": "code",
   "execution_count": 62,
   "metadata": {},
   "outputs": [
    {
     "output_type": "execute_result",
     "data": {
      "text/plain": "65.75712889109438"
     },
     "metadata": {},
     "execution_count": 62
    }
   ],
   "source": [
    "np.linalg.norm(A)"
   ]
  },
  {
   "cell_type": "code",
   "execution_count": 63,
   "metadata": {},
   "outputs": [
    {
     "output_type": "execute_result",
     "data": {
      "text/plain": "<tf.Tensor: shape=(3, 4), dtype=int32, numpy=\narray([[12, 14, 16, 18],\n       [20, 22, 24, 26],\n       [28, 30, 32, 34]], dtype=int32)>"
     },
     "metadata": {},
     "execution_count": 63
    }
   ],
   "source": [
    "tf.reduce_sum(A,axis=0)"
   ]
  },
  {
   "cell_type": "code",
   "execution_count": 64,
   "metadata": {},
   "outputs": [
    {
     "output_type": "execute_result",
     "data": {
      "text/plain": "<tf.Tensor: shape=(2, 4), dtype=int32, numpy=\narray([[12, 15, 18, 21],\n       [48, 51, 54, 57]], dtype=int32)>"
     },
     "metadata": {},
     "execution_count": 64
    }
   ],
   "source": [
    "tf.reduce_sum(A,axis=1)"
   ]
  },
  {
   "cell_type": "code",
   "execution_count": 65,
   "metadata": {},
   "outputs": [],
   "source": [
    "def f(x):\n",
    "    return 3 * x ** 2 - 4 * x"
   ]
  },
  {
   "cell_type": "code",
   "execution_count": 66,
   "metadata": {
    "tags": []
   },
   "outputs": [
    {
     "output_type": "stream",
     "name": "stdout",
     "text": "h=0.10000, numerical limit=2.30000\nh=0.01000, numerical limit=2.03000\nh=0.00100, numerical limit=2.00300\nh=0.00010, numerical limit=2.00030\nh=0.00001, numerical limit=2.00003\n"
    }
   ],
   "source": [
    "def numerical_lim(f, x, h):\n",
    "    return (f(x + h) - f(x)) / h\n",
    "\n",
    "h = 0.1\n",
    "for i in range(5):\n",
    "    print(f'h={h:.5f}, numerical limit={numerical_lim(f, 1, h):.5f}')\n",
    "    h *= 0.1\n"
   ]
  },
  {
   "cell_type": "code",
   "execution_count": 69,
   "metadata": {},
   "outputs": [
    {
     "output_type": "execute_result",
     "data": {
      "text/plain": "<tf.Tensor: shape=(4,), dtype=float32, numpy=array([0., 1., 2., 3.], dtype=float32)>"
     },
     "metadata": {},
     "execution_count": 69
    }
   ],
   "source": [
    "x = tf.range(4, dtype=tf.float32)\n",
    "x"
   ]
  },
  {
   "cell_type": "code",
   "execution_count": 70,
   "metadata": {},
   "outputs": [],
   "source": [
    "x = tf.Variable(x)"
   ]
  },
  {
   "cell_type": "code",
   "execution_count": 87,
   "metadata": {},
   "outputs": [
    {
     "output_type": "execute_result",
     "data": {
      "text/plain": "<tf.Tensor: shape=(4,), dtype=float32, numpy=array([ 0.,  1.,  8., 81.], dtype=float32)>"
     },
     "metadata": {},
     "execution_count": 87
    }
   ],
   "source": []
  },
  {
   "cell_type": "code",
   "execution_count": 89,
   "metadata": {},
   "outputs": [
    {
     "output_type": "execute_result",
     "data": {
      "text/plain": "<tf.Tensor: shape=(4,), dtype=float32, numpy=array([ 0.,  2., 16., 54.], dtype=float32)>"
     },
     "metadata": {},
     "execution_count": 89
    }
   ],
   "source": [
    "with tf.GradientTape(persistent=True) as t:\n",
    "    y = 2 * x * x * x\n",
    "y"
   ]
  },
  {
   "cell_type": "code",
   "execution_count": 91,
   "metadata": {
    "tags": []
   },
   "outputs": [
    {
     "output_type": "stream",
     "name": "stdout",
     "text": "tf.Tensor([ 0.  6. 24. 54.], shape=(4,), dtype=float32)\ntf.Tensor([ 0.  6. 24. 54.], shape=(4,), dtype=float32)\n"
    }
   ],
   "source": [
    "print(t.gradient(y, x))\n"
   ]
  },
  {
   "cell_type": "code",
   "execution_count": 80,
   "metadata": {},
   "outputs": [
    {
     "output_type": "execute_result",
     "data": {
      "text/plain": "<tf.Tensor: shape=(4,), dtype=float32, numpy=array([1., 1., 1., 1.], dtype=float32)>"
     },
     "metadata": {},
     "execution_count": 80
    }
   ],
   "source": [
    "with tf.GradientTape() as t:\n",
    "    y = tf.reduce_sum(x)\n",
    "t.gradient(y, x)"
   ]
  },
  {
   "cell_type": "code",
   "execution_count": 95,
   "metadata": {
    "tags": []
   },
   "outputs": [
    {
     "output_type": "stream",
     "name": "stdout",
     "text": "tf.Tensor([ 0.  3. 12. 27.], shape=(4,), dtype=float32)\nNone\n"
    }
   ],
   "source": [
    "with tf.GradientTape() as t2:\n",
    "  with tf.GradientTape() as t1:\n",
    "    y = x * x * x\n",
    "\n",
    "dy_dx = t1.gradient(y, x)\n",
    "d2y_dx2 = t2.gradient(dy_dx, x)\n",
    "print(dy_dx)\n",
    "print(d2y_dx2)"
   ]
  },
  {
   "cell_type": "code",
   "execution_count": 102,
   "metadata": {
    "tags": []
   },
   "outputs": [
    {
     "output_type": "stream",
     "name": "stdout",
     "text": "tf.Tensor([0.161 0.181 0.16  0.154 0.189 0.155], shape=(6,), dtype=float32)\n"
    }
   ],
   "source": [
    "fair_probs = tf.ones(6) / 6\n",
    "sample_size = 1000\n",
    "samples = tfp.distributions.Multinomial(sample_size, fair_probs).sample()\n",
    "print(samples/sample_size)"
   ]
  },
  {
   "cell_type": "code",
   "execution_count": 112,
   "metadata": {},
   "outputs": [
    {
     "output_type": "execute_result",
     "data": {
      "text/plain": "<matplotlib.legend.Legend at 0x7fed61069860>"
     },
     "metadata": {},
     "execution_count": 112
    },
    {
     "output_type": "display_data",
     "data": {
      "text/plain": "<Figure size 432x324 with 1 Axes>",
      "image/svg+xml": "<?xml version=\"1.0\" encoding=\"utf-8\" standalone=\"no\"?>\n<!DOCTYPE svg PUBLIC \"-//W3C//DTD SVG 1.1//EN\"\n  \"http://www.w3.org/Graphics/SVG/1.1/DTD/svg11.dtd\">\n<!-- Created with matplotlib (https://matplotlib.org/) -->\n<svg height=\"289.37625pt\" version=\"1.1\" viewBox=\"0 0 385.78125 289.37625\" width=\"385.78125pt\" xmlns=\"http://www.w3.org/2000/svg\" xmlns:xlink=\"http://www.w3.org/1999/xlink\">\n <defs>\n  <style type=\"text/css\">\n*{stroke-linecap:butt;stroke-linejoin:round;}\n  </style>\n </defs>\n <g id=\"figure_1\">\n  <g id=\"patch_1\">\n   <path d=\"M 0 289.37625 \nL 385.78125 289.37625 \nL 385.78125 0 \nL 0 0 \nz\n\" style=\"fill:none;\"/>\n  </g>\n  <g id=\"axes_1\">\n   <g id=\"patch_2\">\n    <path d=\"M 43.78125 251.82 \nL 378.58125 251.82 \nL 378.58125 7.2 \nL 43.78125 7.2 \nz\n\" style=\"fill:#ffffff;\"/>\n   </g>\n   <g id=\"matplotlib.axis_1\">\n    <g id=\"xtick_1\">\n     <g id=\"line2d_1\">\n      <defs>\n       <path d=\"M 0 0 \nL 0 3.5 \n\" id=\"m519efeaf93\" style=\"stroke:#000000;stroke-width:0.8;\"/>\n      </defs>\n      <g>\n       <use style=\"stroke:#000000;stroke-width:0.8;\" x=\"58.999432\" xlink:href=\"#m519efeaf93\" y=\"251.82\"/>\n      </g>\n     </g>\n     <g id=\"text_1\">\n      <!-- 0 -->\n      <defs>\n       <path d=\"M 31.78125 66.40625 \nQ 24.171875 66.40625 20.328125 58.90625 \nQ 16.5 51.421875 16.5 36.375 \nQ 16.5 21.390625 20.328125 13.890625 \nQ 24.171875 6.390625 31.78125 6.390625 \nQ 39.453125 6.390625 43.28125 13.890625 \nQ 47.125 21.390625 47.125 36.375 \nQ 47.125 51.421875 43.28125 58.90625 \nQ 39.453125 66.40625 31.78125 66.40625 \nz\nM 31.78125 74.21875 \nQ 44.046875 74.21875 50.515625 64.515625 \nQ 56.984375 54.828125 56.984375 36.375 \nQ 56.984375 17.96875 50.515625 8.265625 \nQ 44.046875 -1.421875 31.78125 -1.421875 \nQ 19.53125 -1.421875 13.0625 8.265625 \nQ 6.59375 17.96875 6.59375 36.375 \nQ 6.59375 54.828125 13.0625 64.515625 \nQ 19.53125 74.21875 31.78125 74.21875 \nz\n\" id=\"DejaVuSans-48\"/>\n      </defs>\n      <g transform=\"translate(55.818182 266.418437)scale(0.1 -0.1)\">\n       <use xlink:href=\"#DejaVuSans-48\"/>\n      </g>\n     </g>\n    </g>\n    <g id=\"xtick_2\">\n     <g id=\"line2d_2\">\n      <g>\n       <use style=\"stroke:#000000;stroke-width:0.8;\" x=\"119.933093\" xlink:href=\"#m519efeaf93\" y=\"251.82\"/>\n      </g>\n     </g>\n     <g id=\"text_2\">\n      <!-- 200 -->\n      <defs>\n       <path d=\"M 19.1875 8.296875 \nL 53.609375 8.296875 \nL 53.609375 0 \nL 7.328125 0 \nL 7.328125 8.296875 \nQ 12.9375 14.109375 22.625 23.890625 \nQ 32.328125 33.6875 34.8125 36.53125 \nQ 39.546875 41.84375 41.421875 45.53125 \nQ 43.3125 49.21875 43.3125 52.78125 \nQ 43.3125 58.59375 39.234375 62.25 \nQ 35.15625 65.921875 28.609375 65.921875 \nQ 23.96875 65.921875 18.8125 64.3125 \nQ 13.671875 62.703125 7.8125 59.421875 \nL 7.8125 69.390625 \nQ 13.765625 71.78125 18.9375 73 \nQ 24.125 74.21875 28.421875 74.21875 \nQ 39.75 74.21875 46.484375 68.546875 \nQ 53.21875 62.890625 53.21875 53.421875 \nQ 53.21875 48.921875 51.53125 44.890625 \nQ 49.859375 40.875 45.40625 35.40625 \nQ 44.1875 33.984375 37.640625 27.21875 \nQ 31.109375 20.453125 19.1875 8.296875 \nz\n\" id=\"DejaVuSans-50\"/>\n      </defs>\n      <g transform=\"translate(110.389343 266.418437)scale(0.1 -0.1)\">\n       <use xlink:href=\"#DejaVuSans-50\"/>\n       <use x=\"63.623047\" xlink:href=\"#DejaVuSans-48\"/>\n       <use x=\"127.246094\" xlink:href=\"#DejaVuSans-48\"/>\n      </g>\n     </g>\n    </g>\n    <g id=\"xtick_3\">\n     <g id=\"line2d_3\">\n      <g>\n       <use style=\"stroke:#000000;stroke-width:0.8;\" x=\"180.866754\" xlink:href=\"#m519efeaf93\" y=\"251.82\"/>\n      </g>\n     </g>\n     <g id=\"text_3\">\n      <!-- 400 -->\n      <defs>\n       <path d=\"M 37.796875 64.3125 \nL 12.890625 25.390625 \nL 37.796875 25.390625 \nz\nM 35.203125 72.90625 \nL 47.609375 72.90625 \nL 47.609375 25.390625 \nL 58.015625 25.390625 \nL 58.015625 17.1875 \nL 47.609375 17.1875 \nL 47.609375 0 \nL 37.796875 0 \nL 37.796875 17.1875 \nL 4.890625 17.1875 \nL 4.890625 26.703125 \nz\n\" id=\"DejaVuSans-52\"/>\n      </defs>\n      <g transform=\"translate(171.323004 266.418437)scale(0.1 -0.1)\">\n       <use xlink:href=\"#DejaVuSans-52\"/>\n       <use x=\"63.623047\" xlink:href=\"#DejaVuSans-48\"/>\n       <use x=\"127.246094\" xlink:href=\"#DejaVuSans-48\"/>\n      </g>\n     </g>\n    </g>\n    <g id=\"xtick_4\">\n     <g id=\"line2d_4\">\n      <g>\n       <use style=\"stroke:#000000;stroke-width:0.8;\" x=\"241.800415\" xlink:href=\"#m519efeaf93\" y=\"251.82\"/>\n      </g>\n     </g>\n     <g id=\"text_4\">\n      <!-- 600 -->\n      <defs>\n       <path d=\"M 33.015625 40.375 \nQ 26.375 40.375 22.484375 35.828125 \nQ 18.609375 31.296875 18.609375 23.390625 \nQ 18.609375 15.53125 22.484375 10.953125 \nQ 26.375 6.390625 33.015625 6.390625 \nQ 39.65625 6.390625 43.53125 10.953125 \nQ 47.40625 15.53125 47.40625 23.390625 \nQ 47.40625 31.296875 43.53125 35.828125 \nQ 39.65625 40.375 33.015625 40.375 \nz\nM 52.59375 71.296875 \nL 52.59375 62.3125 \nQ 48.875 64.0625 45.09375 64.984375 \nQ 41.3125 65.921875 37.59375 65.921875 \nQ 27.828125 65.921875 22.671875 59.328125 \nQ 17.53125 52.734375 16.796875 39.40625 \nQ 19.671875 43.65625 24.015625 45.921875 \nQ 28.375 48.1875 33.59375 48.1875 \nQ 44.578125 48.1875 50.953125 41.515625 \nQ 57.328125 34.859375 57.328125 23.390625 \nQ 57.328125 12.15625 50.6875 5.359375 \nQ 44.046875 -1.421875 33.015625 -1.421875 \nQ 20.359375 -1.421875 13.671875 8.265625 \nQ 6.984375 17.96875 6.984375 36.375 \nQ 6.984375 53.65625 15.1875 63.9375 \nQ 23.390625 74.21875 37.203125 74.21875 \nQ 40.921875 74.21875 44.703125 73.484375 \nQ 48.484375 72.75 52.59375 71.296875 \nz\n\" id=\"DejaVuSans-54\"/>\n      </defs>\n      <g transform=\"translate(232.256665 266.418437)scale(0.1 -0.1)\">\n       <use xlink:href=\"#DejaVuSans-54\"/>\n       <use x=\"63.623047\" xlink:href=\"#DejaVuSans-48\"/>\n       <use x=\"127.246094\" xlink:href=\"#DejaVuSans-48\"/>\n      </g>\n     </g>\n    </g>\n    <g id=\"xtick_5\">\n     <g id=\"line2d_5\">\n      <g>\n       <use style=\"stroke:#000000;stroke-width:0.8;\" x=\"302.734076\" xlink:href=\"#m519efeaf93\" y=\"251.82\"/>\n      </g>\n     </g>\n     <g id=\"text_5\">\n      <!-- 800 -->\n      <defs>\n       <path d=\"M 31.78125 34.625 \nQ 24.75 34.625 20.71875 30.859375 \nQ 16.703125 27.09375 16.703125 20.515625 \nQ 16.703125 13.921875 20.71875 10.15625 \nQ 24.75 6.390625 31.78125 6.390625 \nQ 38.8125 6.390625 42.859375 10.171875 \nQ 46.921875 13.96875 46.921875 20.515625 \nQ 46.921875 27.09375 42.890625 30.859375 \nQ 38.875 34.625 31.78125 34.625 \nz\nM 21.921875 38.8125 \nQ 15.578125 40.375 12.03125 44.71875 \nQ 8.5 49.078125 8.5 55.328125 \nQ 8.5 64.0625 14.71875 69.140625 \nQ 20.953125 74.21875 31.78125 74.21875 \nQ 42.671875 74.21875 48.875 69.140625 \nQ 55.078125 64.0625 55.078125 55.328125 \nQ 55.078125 49.078125 51.53125 44.71875 \nQ 48 40.375 41.703125 38.8125 \nQ 48.828125 37.15625 52.796875 32.3125 \nQ 56.78125 27.484375 56.78125 20.515625 \nQ 56.78125 9.90625 50.3125 4.234375 \nQ 43.84375 -1.421875 31.78125 -1.421875 \nQ 19.734375 -1.421875 13.25 4.234375 \nQ 6.78125 9.90625 6.78125 20.515625 \nQ 6.78125 27.484375 10.78125 32.3125 \nQ 14.796875 37.15625 21.921875 38.8125 \nz\nM 18.3125 54.390625 \nQ 18.3125 48.734375 21.84375 45.5625 \nQ 25.390625 42.390625 31.78125 42.390625 \nQ 38.140625 42.390625 41.71875 45.5625 \nQ 45.3125 48.734375 45.3125 54.390625 \nQ 45.3125 60.0625 41.71875 63.234375 \nQ 38.140625 66.40625 31.78125 66.40625 \nQ 25.390625 66.40625 21.84375 63.234375 \nQ 18.3125 60.0625 18.3125 54.390625 \nz\n\" id=\"DejaVuSans-56\"/>\n      </defs>\n      <g transform=\"translate(293.190326 266.418437)scale(0.1 -0.1)\">\n       <use xlink:href=\"#DejaVuSans-56\"/>\n       <use x=\"63.623047\" xlink:href=\"#DejaVuSans-48\"/>\n       <use x=\"127.246094\" xlink:href=\"#DejaVuSans-48\"/>\n      </g>\n     </g>\n    </g>\n    <g id=\"xtick_6\">\n     <g id=\"line2d_6\">\n      <g>\n       <use style=\"stroke:#000000;stroke-width:0.8;\" x=\"363.667736\" xlink:href=\"#m519efeaf93\" y=\"251.82\"/>\n      </g>\n     </g>\n     <g id=\"text_6\">\n      <!-- 1000 -->\n      <defs>\n       <path d=\"M 12.40625 8.296875 \nL 28.515625 8.296875 \nL 28.515625 63.921875 \nL 10.984375 60.40625 \nL 10.984375 69.390625 \nL 28.421875 72.90625 \nL 38.28125 72.90625 \nL 38.28125 8.296875 \nL 54.390625 8.296875 \nL 54.390625 0 \nL 12.40625 0 \nz\n\" id=\"DejaVuSans-49\"/>\n      </defs>\n      <g transform=\"translate(350.942736 266.418437)scale(0.1 -0.1)\">\n       <use xlink:href=\"#DejaVuSans-49\"/>\n       <use x=\"63.623047\" xlink:href=\"#DejaVuSans-48\"/>\n       <use x=\"127.246094\" xlink:href=\"#DejaVuSans-48\"/>\n       <use x=\"190.869141\" xlink:href=\"#DejaVuSans-48\"/>\n      </g>\n     </g>\n    </g>\n    <g id=\"text_7\">\n     <!-- Groups of experiments -->\n     <defs>\n      <path d=\"M 59.515625 10.40625 \nL 59.515625 29.984375 \nL 43.40625 29.984375 \nL 43.40625 38.09375 \nL 69.28125 38.09375 \nL 69.28125 6.78125 \nQ 63.578125 2.734375 56.6875 0.65625 \nQ 49.8125 -1.421875 42 -1.421875 \nQ 24.90625 -1.421875 15.25 8.5625 \nQ 5.609375 18.5625 5.609375 36.375 \nQ 5.609375 54.25 15.25 64.234375 \nQ 24.90625 74.21875 42 74.21875 \nQ 49.125 74.21875 55.546875 72.453125 \nQ 61.96875 70.703125 67.390625 67.28125 \nL 67.390625 56.78125 \nQ 61.921875 61.421875 55.765625 63.765625 \nQ 49.609375 66.109375 42.828125 66.109375 \nQ 29.4375 66.109375 22.71875 58.640625 \nQ 16.015625 51.171875 16.015625 36.375 \nQ 16.015625 21.625 22.71875 14.15625 \nQ 29.4375 6.6875 42.828125 6.6875 \nQ 48.046875 6.6875 52.140625 7.59375 \nQ 56.25 8.5 59.515625 10.40625 \nz\n\" id=\"DejaVuSans-71\"/>\n      <path d=\"M 41.109375 46.296875 \nQ 39.59375 47.171875 37.8125 47.578125 \nQ 36.03125 48 33.890625 48 \nQ 26.265625 48 22.1875 43.046875 \nQ 18.109375 38.09375 18.109375 28.8125 \nL 18.109375 0 \nL 9.078125 0 \nL 9.078125 54.6875 \nL 18.109375 54.6875 \nL 18.109375 46.1875 \nQ 20.953125 51.171875 25.484375 53.578125 \nQ 30.03125 56 36.53125 56 \nQ 37.453125 56 38.578125 55.875 \nQ 39.703125 55.765625 41.0625 55.515625 \nz\n\" id=\"DejaVuSans-114\"/>\n      <path d=\"M 30.609375 48.390625 \nQ 23.390625 48.390625 19.1875 42.75 \nQ 14.984375 37.109375 14.984375 27.296875 \nQ 14.984375 17.484375 19.15625 11.84375 \nQ 23.34375 6.203125 30.609375 6.203125 \nQ 37.796875 6.203125 41.984375 11.859375 \nQ 46.1875 17.53125 46.1875 27.296875 \nQ 46.1875 37.015625 41.984375 42.703125 \nQ 37.796875 48.390625 30.609375 48.390625 \nz\nM 30.609375 56 \nQ 42.328125 56 49.015625 48.375 \nQ 55.71875 40.765625 55.71875 27.296875 \nQ 55.71875 13.875 49.015625 6.21875 \nQ 42.328125 -1.421875 30.609375 -1.421875 \nQ 18.84375 -1.421875 12.171875 6.21875 \nQ 5.515625 13.875 5.515625 27.296875 \nQ 5.515625 40.765625 12.171875 48.375 \nQ 18.84375 56 30.609375 56 \nz\n\" id=\"DejaVuSans-111\"/>\n      <path d=\"M 8.5 21.578125 \nL 8.5 54.6875 \nL 17.484375 54.6875 \nL 17.484375 21.921875 \nQ 17.484375 14.15625 20.5 10.265625 \nQ 23.53125 6.390625 29.59375 6.390625 \nQ 36.859375 6.390625 41.078125 11.03125 \nQ 45.3125 15.671875 45.3125 23.6875 \nL 45.3125 54.6875 \nL 54.296875 54.6875 \nL 54.296875 0 \nL 45.3125 0 \nL 45.3125 8.40625 \nQ 42.046875 3.421875 37.71875 1 \nQ 33.40625 -1.421875 27.6875 -1.421875 \nQ 18.265625 -1.421875 13.375 4.4375 \nQ 8.5 10.296875 8.5 21.578125 \nz\nM 31.109375 56 \nz\n\" id=\"DejaVuSans-117\"/>\n      <path d=\"M 18.109375 8.203125 \nL 18.109375 -20.796875 \nL 9.078125 -20.796875 \nL 9.078125 54.6875 \nL 18.109375 54.6875 \nL 18.109375 46.390625 \nQ 20.953125 51.265625 25.265625 53.625 \nQ 29.59375 56 35.59375 56 \nQ 45.5625 56 51.78125 48.09375 \nQ 58.015625 40.1875 58.015625 27.296875 \nQ 58.015625 14.40625 51.78125 6.484375 \nQ 45.5625 -1.421875 35.59375 -1.421875 \nQ 29.59375 -1.421875 25.265625 0.953125 \nQ 20.953125 3.328125 18.109375 8.203125 \nz\nM 48.6875 27.296875 \nQ 48.6875 37.203125 44.609375 42.84375 \nQ 40.53125 48.484375 33.40625 48.484375 \nQ 26.265625 48.484375 22.1875 42.84375 \nQ 18.109375 37.203125 18.109375 27.296875 \nQ 18.109375 17.390625 22.1875 11.75 \nQ 26.265625 6.109375 33.40625 6.109375 \nQ 40.53125 6.109375 44.609375 11.75 \nQ 48.6875 17.390625 48.6875 27.296875 \nz\n\" id=\"DejaVuSans-112\"/>\n      <path d=\"M 44.28125 53.078125 \nL 44.28125 44.578125 \nQ 40.484375 46.53125 36.375 47.5 \nQ 32.28125 48.484375 27.875 48.484375 \nQ 21.1875 48.484375 17.84375 46.4375 \nQ 14.5 44.390625 14.5 40.28125 \nQ 14.5 37.15625 16.890625 35.375 \nQ 19.28125 33.59375 26.515625 31.984375 \nL 29.59375 31.296875 \nQ 39.15625 29.25 43.1875 25.515625 \nQ 47.21875 21.78125 47.21875 15.09375 \nQ 47.21875 7.46875 41.1875 3.015625 \nQ 35.15625 -1.421875 24.609375 -1.421875 \nQ 20.21875 -1.421875 15.453125 -0.5625 \nQ 10.6875 0.296875 5.421875 2 \nL 5.421875 11.28125 \nQ 10.40625 8.6875 15.234375 7.390625 \nQ 20.0625 6.109375 24.8125 6.109375 \nQ 31.15625 6.109375 34.5625 8.28125 \nQ 37.984375 10.453125 37.984375 14.40625 \nQ 37.984375 18.0625 35.515625 20.015625 \nQ 33.0625 21.96875 24.703125 23.78125 \nL 21.578125 24.515625 \nQ 13.234375 26.265625 9.515625 29.90625 \nQ 5.8125 33.546875 5.8125 39.890625 \nQ 5.8125 47.609375 11.28125 51.796875 \nQ 16.75 56 26.8125 56 \nQ 31.78125 56 36.171875 55.265625 \nQ 40.578125 54.546875 44.28125 53.078125 \nz\n\" id=\"DejaVuSans-115\"/>\n      <path id=\"DejaVuSans-32\"/>\n      <path d=\"M 37.109375 75.984375 \nL 37.109375 68.5 \nL 28.515625 68.5 \nQ 23.6875 68.5 21.796875 66.546875 \nQ 19.921875 64.59375 19.921875 59.515625 \nL 19.921875 54.6875 \nL 34.71875 54.6875 \nL 34.71875 47.703125 \nL 19.921875 47.703125 \nL 19.921875 0 \nL 10.890625 0 \nL 10.890625 47.703125 \nL 2.296875 47.703125 \nL 2.296875 54.6875 \nL 10.890625 54.6875 \nL 10.890625 58.5 \nQ 10.890625 67.625 15.140625 71.796875 \nQ 19.390625 75.984375 28.609375 75.984375 \nz\n\" id=\"DejaVuSans-102\"/>\n      <path d=\"M 56.203125 29.59375 \nL 56.203125 25.203125 \nL 14.890625 25.203125 \nQ 15.484375 15.921875 20.484375 11.0625 \nQ 25.484375 6.203125 34.421875 6.203125 \nQ 39.59375 6.203125 44.453125 7.46875 \nQ 49.3125 8.734375 54.109375 11.28125 \nL 54.109375 2.78125 \nQ 49.265625 0.734375 44.1875 -0.34375 \nQ 39.109375 -1.421875 33.890625 -1.421875 \nQ 20.796875 -1.421875 13.15625 6.1875 \nQ 5.515625 13.8125 5.515625 26.8125 \nQ 5.515625 40.234375 12.765625 48.109375 \nQ 20.015625 56 32.328125 56 \nQ 43.359375 56 49.78125 48.890625 \nQ 56.203125 41.796875 56.203125 29.59375 \nz\nM 47.21875 32.234375 \nQ 47.125 39.59375 43.09375 43.984375 \nQ 39.0625 48.390625 32.421875 48.390625 \nQ 24.90625 48.390625 20.390625 44.140625 \nQ 15.875 39.890625 15.1875 32.171875 \nz\n\" id=\"DejaVuSans-101\"/>\n      <path d=\"M 54.890625 54.6875 \nL 35.109375 28.078125 \nL 55.90625 0 \nL 45.3125 0 \nL 29.390625 21.484375 \nL 13.484375 0 \nL 2.875 0 \nL 24.125 28.609375 \nL 4.6875 54.6875 \nL 15.28125 54.6875 \nL 29.78125 35.203125 \nL 44.28125 54.6875 \nz\n\" id=\"DejaVuSans-120\"/>\n      <path d=\"M 9.421875 54.6875 \nL 18.40625 54.6875 \nL 18.40625 0 \nL 9.421875 0 \nz\nM 9.421875 75.984375 \nL 18.40625 75.984375 \nL 18.40625 64.59375 \nL 9.421875 64.59375 \nz\n\" id=\"DejaVuSans-105\"/>\n      <path d=\"M 52 44.1875 \nQ 55.375 50.25 60.0625 53.125 \nQ 64.75 56 71.09375 56 \nQ 79.640625 56 84.28125 50.015625 \nQ 88.921875 44.046875 88.921875 33.015625 \nL 88.921875 0 \nL 79.890625 0 \nL 79.890625 32.71875 \nQ 79.890625 40.578125 77.09375 44.375 \nQ 74.3125 48.1875 68.609375 48.1875 \nQ 61.625 48.1875 57.5625 43.546875 \nQ 53.515625 38.921875 53.515625 30.90625 \nL 53.515625 0 \nL 44.484375 0 \nL 44.484375 32.71875 \nQ 44.484375 40.625 41.703125 44.40625 \nQ 38.921875 48.1875 33.109375 48.1875 \nQ 26.21875 48.1875 22.15625 43.53125 \nQ 18.109375 38.875 18.109375 30.90625 \nL 18.109375 0 \nL 9.078125 0 \nL 9.078125 54.6875 \nL 18.109375 54.6875 \nL 18.109375 46.1875 \nQ 21.1875 51.21875 25.484375 53.609375 \nQ 29.78125 56 35.6875 56 \nQ 41.65625 56 45.828125 52.96875 \nQ 50 49.953125 52 44.1875 \nz\n\" id=\"DejaVuSans-109\"/>\n      <path d=\"M 54.890625 33.015625 \nL 54.890625 0 \nL 45.90625 0 \nL 45.90625 32.71875 \nQ 45.90625 40.484375 42.875 44.328125 \nQ 39.84375 48.1875 33.796875 48.1875 \nQ 26.515625 48.1875 22.3125 43.546875 \nQ 18.109375 38.921875 18.109375 30.90625 \nL 18.109375 0 \nL 9.078125 0 \nL 9.078125 54.6875 \nL 18.109375 54.6875 \nL 18.109375 46.1875 \nQ 21.34375 51.125 25.703125 53.5625 \nQ 30.078125 56 35.796875 56 \nQ 45.21875 56 50.046875 50.171875 \nQ 54.890625 44.34375 54.890625 33.015625 \nz\n\" id=\"DejaVuSans-110\"/>\n      <path d=\"M 18.3125 70.21875 \nL 18.3125 54.6875 \nL 36.8125 54.6875 \nL 36.8125 47.703125 \nL 18.3125 47.703125 \nL 18.3125 18.015625 \nQ 18.3125 11.328125 20.140625 9.421875 \nQ 21.96875 7.515625 27.59375 7.515625 \nL 36.8125 7.515625 \nL 36.8125 0 \nL 27.59375 0 \nQ 17.1875 0 13.234375 3.875 \nQ 9.28125 7.765625 9.28125 18.015625 \nL 9.28125 47.703125 \nL 2.6875 47.703125 \nL 2.6875 54.6875 \nL 9.28125 54.6875 \nL 9.28125 70.21875 \nz\n\" id=\"DejaVuSans-116\"/>\n     </defs>\n     <g transform=\"translate(154.035156 280.096562)scale(0.1 -0.1)\">\n      <use xlink:href=\"#DejaVuSans-71\"/>\n      <use x=\"77.490234\" xlink:href=\"#DejaVuSans-114\"/>\n      <use x=\"116.353516\" xlink:href=\"#DejaVuSans-111\"/>\n      <use x=\"177.535156\" xlink:href=\"#DejaVuSans-117\"/>\n      <use x=\"240.914062\" xlink:href=\"#DejaVuSans-112\"/>\n      <use x=\"304.390625\" xlink:href=\"#DejaVuSans-115\"/>\n      <use x=\"356.490234\" xlink:href=\"#DejaVuSans-32\"/>\n      <use x=\"388.277344\" xlink:href=\"#DejaVuSans-111\"/>\n      <use x=\"449.458984\" xlink:href=\"#DejaVuSans-102\"/>\n      <use x=\"484.664062\" xlink:href=\"#DejaVuSans-32\"/>\n      <use x=\"516.451172\" xlink:href=\"#DejaVuSans-101\"/>\n      <use x=\"576.224609\" xlink:href=\"#DejaVuSans-120\"/>\n      <use x=\"635.404297\" xlink:href=\"#DejaVuSans-112\"/>\n      <use x=\"698.880859\" xlink:href=\"#DejaVuSans-101\"/>\n      <use x=\"760.404297\" xlink:href=\"#DejaVuSans-114\"/>\n      <use x=\"801.517578\" xlink:href=\"#DejaVuSans-105\"/>\n      <use x=\"829.300781\" xlink:href=\"#DejaVuSans-109\"/>\n      <use x=\"926.712891\" xlink:href=\"#DejaVuSans-101\"/>\n      <use x=\"988.236328\" xlink:href=\"#DejaVuSans-110\"/>\n      <use x=\"1051.615234\" xlink:href=\"#DejaVuSans-116\"/>\n      <use x=\"1090.824219\" xlink:href=\"#DejaVuSans-115\"/>\n     </g>\n    </g>\n   </g>\n   <g id=\"matplotlib.axis_2\">\n    <g id=\"ytick_1\">\n     <g id=\"line2d_7\">\n      <defs>\n       <path d=\"M 0 0 \nL -3.5 0 \n\" id=\"mb32a60d100\" style=\"stroke:#000000;stroke-width:0.8;\"/>\n      </defs>\n      <g>\n       <use style=\"stroke:#000000;stroke-width:0.8;\" x=\"43.78125\" xlink:href=\"#mb32a60d100\" y=\"240.700909\"/>\n      </g>\n     </g>\n     <g id=\"text_8\">\n      <!-- 0.0 -->\n      <defs>\n       <path d=\"M 10.6875 12.40625 \nL 21 12.40625 \nL 21 0 \nL 10.6875 0 \nz\n\" id=\"DejaVuSans-46\"/>\n      </defs>\n      <g transform=\"translate(20.878125 244.500128)scale(0.1 -0.1)\">\n       <use xlink:href=\"#DejaVuSans-48\"/>\n       <use x=\"63.623047\" xlink:href=\"#DejaVuSans-46\"/>\n       <use x=\"95.410156\" xlink:href=\"#DejaVuSans-48\"/>\n      </g>\n     </g>\n    </g>\n    <g id=\"ytick_2\">\n     <g id=\"line2d_8\">\n      <g>\n       <use style=\"stroke:#000000;stroke-width:0.8;\" x=\"43.78125\" xlink:href=\"#mb32a60d100\" y=\"196.224545\"/>\n      </g>\n     </g>\n     <g id=\"text_9\">\n      <!-- 0.1 -->\n      <g transform=\"translate(20.878125 200.023764)scale(0.1 -0.1)\">\n       <use xlink:href=\"#DejaVuSans-48\"/>\n       <use x=\"63.623047\" xlink:href=\"#DejaVuSans-46\"/>\n       <use x=\"95.410156\" xlink:href=\"#DejaVuSans-49\"/>\n      </g>\n     </g>\n    </g>\n    <g id=\"ytick_3\">\n     <g id=\"line2d_9\">\n      <g>\n       <use style=\"stroke:#000000;stroke-width:0.8;\" x=\"43.78125\" xlink:href=\"#mb32a60d100\" y=\"151.748182\"/>\n      </g>\n     </g>\n     <g id=\"text_10\">\n      <!-- 0.2 -->\n      <g transform=\"translate(20.878125 155.547401)scale(0.1 -0.1)\">\n       <use xlink:href=\"#DejaVuSans-48\"/>\n       <use x=\"63.623047\" xlink:href=\"#DejaVuSans-46\"/>\n       <use x=\"95.410156\" xlink:href=\"#DejaVuSans-50\"/>\n      </g>\n     </g>\n    </g>\n    <g id=\"ytick_4\">\n     <g id=\"line2d_10\">\n      <g>\n       <use style=\"stroke:#000000;stroke-width:0.8;\" x=\"43.78125\" xlink:href=\"#mb32a60d100\" y=\"107.271818\"/>\n      </g>\n     </g>\n     <g id=\"text_11\">\n      <!-- 0.3 -->\n      <defs>\n       <path d=\"M 40.578125 39.3125 \nQ 47.65625 37.796875 51.625 33 \nQ 55.609375 28.21875 55.609375 21.1875 \nQ 55.609375 10.40625 48.1875 4.484375 \nQ 40.765625 -1.421875 27.09375 -1.421875 \nQ 22.515625 -1.421875 17.65625 -0.515625 \nQ 12.796875 0.390625 7.625 2.203125 \nL 7.625 11.71875 \nQ 11.71875 9.328125 16.59375 8.109375 \nQ 21.484375 6.890625 26.8125 6.890625 \nQ 36.078125 6.890625 40.9375 10.546875 \nQ 45.796875 14.203125 45.796875 21.1875 \nQ 45.796875 27.640625 41.28125 31.265625 \nQ 36.765625 34.90625 28.71875 34.90625 \nL 20.21875 34.90625 \nL 20.21875 43.015625 \nL 29.109375 43.015625 \nQ 36.375 43.015625 40.234375 45.921875 \nQ 44.09375 48.828125 44.09375 54.296875 \nQ 44.09375 59.90625 40.109375 62.90625 \nQ 36.140625 65.921875 28.71875 65.921875 \nQ 24.65625 65.921875 20.015625 65.03125 \nQ 15.375 64.15625 9.8125 62.3125 \nL 9.8125 71.09375 \nQ 15.4375 72.65625 20.34375 73.4375 \nQ 25.25 74.21875 29.59375 74.21875 \nQ 40.828125 74.21875 47.359375 69.109375 \nQ 53.90625 64.015625 53.90625 55.328125 \nQ 53.90625 49.265625 50.4375 45.09375 \nQ 46.96875 40.921875 40.578125 39.3125 \nz\n\" id=\"DejaVuSans-51\"/>\n      </defs>\n      <g transform=\"translate(20.878125 111.071037)scale(0.1 -0.1)\">\n       <use xlink:href=\"#DejaVuSans-48\"/>\n       <use x=\"63.623047\" xlink:href=\"#DejaVuSans-46\"/>\n       <use x=\"95.410156\" xlink:href=\"#DejaVuSans-51\"/>\n      </g>\n     </g>\n    </g>\n    <g id=\"ytick_5\">\n     <g id=\"line2d_11\">\n      <g>\n       <use style=\"stroke:#000000;stroke-width:0.8;\" x=\"43.78125\" xlink:href=\"#mb32a60d100\" y=\"62.795455\"/>\n      </g>\n     </g>\n     <g id=\"text_12\">\n      <!-- 0.4 -->\n      <g transform=\"translate(20.878125 66.594673)scale(0.1 -0.1)\">\n       <use xlink:href=\"#DejaVuSans-48\"/>\n       <use x=\"63.623047\" xlink:href=\"#DejaVuSans-46\"/>\n       <use x=\"95.410156\" xlink:href=\"#DejaVuSans-52\"/>\n      </g>\n     </g>\n    </g>\n    <g id=\"ytick_6\">\n     <g id=\"line2d_12\">\n      <g>\n       <use style=\"stroke:#000000;stroke-width:0.8;\" x=\"43.78125\" xlink:href=\"#mb32a60d100\" y=\"18.319091\"/>\n      </g>\n     </g>\n     <g id=\"text_13\">\n      <!-- 0.5 -->\n      <defs>\n       <path d=\"M 10.796875 72.90625 \nL 49.515625 72.90625 \nL 49.515625 64.59375 \nL 19.828125 64.59375 \nL 19.828125 46.734375 \nQ 21.96875 47.46875 24.109375 47.828125 \nQ 26.265625 48.1875 28.421875 48.1875 \nQ 40.625 48.1875 47.75 41.5 \nQ 54.890625 34.8125 54.890625 23.390625 \nQ 54.890625 11.625 47.5625 5.09375 \nQ 40.234375 -1.421875 26.90625 -1.421875 \nQ 22.3125 -1.421875 17.546875 -0.640625 \nQ 12.796875 0.140625 7.71875 1.703125 \nL 7.71875 11.625 \nQ 12.109375 9.234375 16.796875 8.0625 \nQ 21.484375 6.890625 26.703125 6.890625 \nQ 35.15625 6.890625 40.078125 11.328125 \nQ 45.015625 15.765625 45.015625 23.390625 \nQ 45.015625 31 40.078125 35.4375 \nQ 35.15625 39.890625 26.703125 39.890625 \nQ 22.75 39.890625 18.8125 39.015625 \nQ 14.890625 38.140625 10.796875 36.28125 \nz\n\" id=\"DejaVuSans-53\"/>\n      </defs>\n      <g transform=\"translate(20.878125 22.11831)scale(0.1 -0.1)\">\n       <use xlink:href=\"#DejaVuSans-48\"/>\n       <use x=\"63.623047\" xlink:href=\"#DejaVuSans-46\"/>\n       <use x=\"95.410156\" xlink:href=\"#DejaVuSans-53\"/>\n      </g>\n     </g>\n    </g>\n    <g id=\"text_14\">\n     <!-- Estimated probability -->\n     <defs>\n      <path d=\"M 9.8125 72.90625 \nL 55.90625 72.90625 \nL 55.90625 64.59375 \nL 19.671875 64.59375 \nL 19.671875 43.015625 \nL 54.390625 43.015625 \nL 54.390625 34.71875 \nL 19.671875 34.71875 \nL 19.671875 8.296875 \nL 56.78125 8.296875 \nL 56.78125 0 \nL 9.8125 0 \nz\n\" id=\"DejaVuSans-69\"/>\n      <path d=\"M 34.28125 27.484375 \nQ 23.390625 27.484375 19.1875 25 \nQ 14.984375 22.515625 14.984375 16.5 \nQ 14.984375 11.71875 18.140625 8.90625 \nQ 21.296875 6.109375 26.703125 6.109375 \nQ 34.1875 6.109375 38.703125 11.40625 \nQ 43.21875 16.703125 43.21875 25.484375 \nL 43.21875 27.484375 \nz\nM 52.203125 31.203125 \nL 52.203125 0 \nL 43.21875 0 \nL 43.21875 8.296875 \nQ 40.140625 3.328125 35.546875 0.953125 \nQ 30.953125 -1.421875 24.3125 -1.421875 \nQ 15.921875 -1.421875 10.953125 3.296875 \nQ 6 8.015625 6 15.921875 \nQ 6 25.140625 12.171875 29.828125 \nQ 18.359375 34.515625 30.609375 34.515625 \nL 43.21875 34.515625 \nL 43.21875 35.40625 \nQ 43.21875 41.609375 39.140625 45 \nQ 35.0625 48.390625 27.6875 48.390625 \nQ 23 48.390625 18.546875 47.265625 \nQ 14.109375 46.140625 10.015625 43.890625 \nL 10.015625 52.203125 \nQ 14.9375 54.109375 19.578125 55.046875 \nQ 24.21875 56 28.609375 56 \nQ 40.484375 56 46.34375 49.84375 \nQ 52.203125 43.703125 52.203125 31.203125 \nz\n\" id=\"DejaVuSans-97\"/>\n      <path d=\"M 45.40625 46.390625 \nL 45.40625 75.984375 \nL 54.390625 75.984375 \nL 54.390625 0 \nL 45.40625 0 \nL 45.40625 8.203125 \nQ 42.578125 3.328125 38.25 0.953125 \nQ 33.9375 -1.421875 27.875 -1.421875 \nQ 17.96875 -1.421875 11.734375 6.484375 \nQ 5.515625 14.40625 5.515625 27.296875 \nQ 5.515625 40.1875 11.734375 48.09375 \nQ 17.96875 56 27.875 56 \nQ 33.9375 56 38.25 53.625 \nQ 42.578125 51.265625 45.40625 46.390625 \nz\nM 14.796875 27.296875 \nQ 14.796875 17.390625 18.875 11.75 \nQ 22.953125 6.109375 30.078125 6.109375 \nQ 37.203125 6.109375 41.296875 11.75 \nQ 45.40625 17.390625 45.40625 27.296875 \nQ 45.40625 37.203125 41.296875 42.84375 \nQ 37.203125 48.484375 30.078125 48.484375 \nQ 22.953125 48.484375 18.875 42.84375 \nQ 14.796875 37.203125 14.796875 27.296875 \nz\n\" id=\"DejaVuSans-100\"/>\n      <path d=\"M 48.6875 27.296875 \nQ 48.6875 37.203125 44.609375 42.84375 \nQ 40.53125 48.484375 33.40625 48.484375 \nQ 26.265625 48.484375 22.1875 42.84375 \nQ 18.109375 37.203125 18.109375 27.296875 \nQ 18.109375 17.390625 22.1875 11.75 \nQ 26.265625 6.109375 33.40625 6.109375 \nQ 40.53125 6.109375 44.609375 11.75 \nQ 48.6875 17.390625 48.6875 27.296875 \nz\nM 18.109375 46.390625 \nQ 20.953125 51.265625 25.265625 53.625 \nQ 29.59375 56 35.59375 56 \nQ 45.5625 56 51.78125 48.09375 \nQ 58.015625 40.1875 58.015625 27.296875 \nQ 58.015625 14.40625 51.78125 6.484375 \nQ 45.5625 -1.421875 35.59375 -1.421875 \nQ 29.59375 -1.421875 25.265625 0.953125 \nQ 20.953125 3.328125 18.109375 8.203125 \nL 18.109375 0 \nL 9.078125 0 \nL 9.078125 75.984375 \nL 18.109375 75.984375 \nz\n\" id=\"DejaVuSans-98\"/>\n      <path d=\"M 9.421875 75.984375 \nL 18.40625 75.984375 \nL 18.40625 0 \nL 9.421875 0 \nz\n\" id=\"DejaVuSans-108\"/>\n      <path d=\"M 32.171875 -5.078125 \nQ 28.375 -14.84375 24.75 -17.8125 \nQ 21.140625 -20.796875 15.09375 -20.796875 \nL 7.90625 -20.796875 \nL 7.90625 -13.28125 \nL 13.1875 -13.28125 \nQ 16.890625 -13.28125 18.9375 -11.515625 \nQ 21 -9.765625 23.484375 -3.21875 \nL 25.09375 0.875 \nL 2.984375 54.6875 \nL 12.5 54.6875 \nL 29.59375 11.921875 \nL 46.6875 54.6875 \nL 56.203125 54.6875 \nz\n\" id=\"DejaVuSans-121\"/>\n     </defs>\n     <g transform=\"translate(14.798438 183.033437)rotate(-90)scale(0.1 -0.1)\">\n      <use xlink:href=\"#DejaVuSans-69\"/>\n      <use x=\"63.183594\" xlink:href=\"#DejaVuSans-115\"/>\n      <use x=\"115.283203\" xlink:href=\"#DejaVuSans-116\"/>\n      <use x=\"154.492188\" xlink:href=\"#DejaVuSans-105\"/>\n      <use x=\"182.275391\" xlink:href=\"#DejaVuSans-109\"/>\n      <use x=\"279.6875\" xlink:href=\"#DejaVuSans-97\"/>\n      <use x=\"340.966797\" xlink:href=\"#DejaVuSans-116\"/>\n      <use x=\"380.175781\" xlink:href=\"#DejaVuSans-101\"/>\n      <use x=\"441.699219\" xlink:href=\"#DejaVuSans-100\"/>\n      <use x=\"505.175781\" xlink:href=\"#DejaVuSans-32\"/>\n      <use x=\"536.962891\" xlink:href=\"#DejaVuSans-112\"/>\n      <use x=\"600.439453\" xlink:href=\"#DejaVuSans-114\"/>\n      <use x=\"639.302734\" xlink:href=\"#DejaVuSans-111\"/>\n      <use x=\"700.484375\" xlink:href=\"#DejaVuSans-98\"/>\n      <use x=\"763.960938\" xlink:href=\"#DejaVuSans-97\"/>\n      <use x=\"825.240234\" xlink:href=\"#DejaVuSans-98\"/>\n      <use x=\"888.716797\" xlink:href=\"#DejaVuSans-105\"/>\n      <use x=\"916.5\" xlink:href=\"#DejaVuSans-108\"/>\n      <use x=\"944.283203\" xlink:href=\"#DejaVuSans-105\"/>\n      <use x=\"972.066406\" xlink:href=\"#DejaVuSans-116\"/>\n      <use x=\"1011.275391\" xlink:href=\"#DejaVuSans-121\"/>\n     </g>\n    </g>\n   </g>\n   <g id=\"line2d_13\">\n    <path clip-path=\"url(#p2759b6ba61)\" d=\"M 58.999432 196.224545 \nL 59.3041 173.986361 \nL 59.608768 166.573634 \nL 59.913437 185.105455 \nL 60.218105 178.434 \nL 60.522773 188.811818 \nL 60.827442 189.870779 \nL 61.13211 179.545908 \nL 61.436778 186.340909 \nL 61.741447 187.329274 \nL 62.046115 176.008019 \nL 62.350783 170.280001 \nL 62.655451 168.854473 \nL 63.264788 172.503817 \nL 64.178793 176.45727 \nL 64.483461 177.497654 \nL 64.78813 180.657816 \nL 65.092798 179.281166 \nL 65.397466 182.072978 \nL 66.006803 172.133181 \nL 66.311471 173.096839 \nL 66.616139 170.565102 \nL 66.920808 171.515452 \nL 67.225476 170.809478 \nL 67.530144 171.685865 \nL 67.834813 168.056185 \nL 68.139481 170.399561 \nL 68.444149 171.206591 \nL 68.748818 170.616943 \nL 69.053486 171.370104 \nL 69.358154 170.809478 \nL 69.662822 171.515452 \nL 69.967491 169.779141 \nL 70.576827 173.416151 \nL 71.186164 174.528755 \nL 72.100169 172.975536 \nL 72.709506 170.118853 \nL 73.318842 173.059771 \nL 73.62351 172.624842 \nL 73.928179 173.096839 \nL 74.232847 172.678233 \nL 74.537515 170.565102 \nL 74.842184 169.370894 \nL 75.146852 169.044543 \nL 75.45152 170.347389 \nL 76.060857 169.694786 \nL 76.365525 170.152196 \nL 76.670193 169.84026 \nL 76.974862 170.280001 \nL 77.584198 168.247481 \nL 77.888867 168.691556 \nL 78.193535 167.731875 \nL 78.498203 168.170224 \nL 78.802872 167.921408 \nL 79.10754 168.343838 \nL 79.412208 168.099787 \nL 80.021545 170.174107 \nL 80.326213 170.541012 \nL 80.630881 170.280001 \nL 80.93555 170.635407 \nL 81.240218 169.779141 \nL 81.849555 171.645503 \nL 82.458891 172.275732 \nL 83.068228 171.762545 \nL 83.372896 172.064547 \nL 83.677564 171.27439 \nL 83.982233 172.110853 \nL 84.286901 171.338962 \nL 84.896238 171.917695 \nL 85.200906 171.685865 \nL 85.505574 172.470123 \nL 85.810243 172.737025 \nL 87.028916 171.834281 \nL 87.638252 172.347759 \nL 87.942921 172.133181 \nL 88.247589 171.464506 \nL 88.552257 171.71716 \nL 88.856926 171.066201 \nL 89.161594 169.983493 \nL 89.770931 170.498019 \nL 90.075599 169.884174 \nL 90.380267 169.709791 \nL 90.684936 169.962312 \nL 90.989604 169.370894 \nL 91.294272 169.621858 \nL 91.59894 169.456362 \nL 91.903609 169.701944 \nL 92.208277 169.538729 \nL 92.512945 169.779141 \nL 92.817614 169.22104 \nL 93.122282 169.066414 \nL 93.42695 168.524351 \nL 93.731619 168.378473 \nL 94.340955 168.854473 \nL 94.950292 168.566972 \nL 95.25496 169.168093 \nL 95.559628 167.921408 \nL 95.864297 168.153397 \nL 96.168965 168.020025 \nL 96.778302 168.471291 \nL 97.08297 168.338569 \nL 97.387638 168.908355 \nL 97.692307 168.774287 \nL 98.301643 169.880853 \nL 98.606311 170.081951 \nL 98.91098 170.616943 \nL 99.520316 169.671491 \nL 99.824985 169.538729 \nL 100.129653 169.734949 \nL 100.73899 169.47427 \nL 101.043658 168.706793 \nL 101.348326 168.585662 \nL 102.262331 169.165502 \nL 102.871668 168.925261 \nL 103.176336 169.112243 \nL 103.481004 168.691556 \nL 103.785673 168.577079 \nL 104.090341 168.165631 \nL 104.395009 168.352692 \nL 105.004346 168.13421 \nL 105.309014 167.155024 \nL 105.613682 167.343789 \nL 105.918351 167.817065 \nL 106.223019 167.714054 \nL 106.832356 168.074947 \nL 107.137024 168.531714 \nL 107.441692 168.704798 \nL 107.746361 168.599474 \nL 108.051029 168.769999 \nL 108.660365 169.647208 \nL 108.965034 169.808282 \nL 109.269702 170.235345 \nL 109.57437 170.124646 \nL 109.879039 169.750517 \nL 110.183707 168.854473 \nL 110.488375 169.277102 \nL 110.793044 168.914498 \nL 111.40238 168.716045 \nL 111.707049 168.874137 \nL 112.316385 168.679527 \nL 112.621053 169.086422 \nL 113.839727 168.70326 \nL 114.144395 168.854473 \nL 114.449063 168.760999 \nL 114.753732 169.151975 \nL 115.0584 169.298316 \nL 115.363068 168.964841 \nL 115.667736 169.110613 \nL 115.972405 168.545108 \nL 116.277073 168.926885 \nL 116.88641 168.747002 \nL 117.800415 169.859692 \nL 118.71442 170.261185 \nL 119.019088 169.943059 \nL 119.323756 170.075125 \nL 119.933093 170.777872 \nL 120.542429 171.028576 \nL 121.151766 170.840475 \nL 121.456434 170.9637 \nL 122.370439 170.687877 \nL 122.675107 171.021273 \nL 122.979776 170.929933 \nL 123.284444 171.049248 \nL 123.893781 171.700193 \nL 124.198449 171.814259 \nL 124.503117 171.515452 \nL 124.807786 170.809478 \nL 125.721791 170.549554 \nL 126.026459 170.665728 \nL 126.331127 170.981203 \nL 127.245132 170.724765 \nL 127.5498 170.443998 \nL 128.768474 170.892355 \nL 129.073142 170.03933 \nL 129.37781 170.343903 \nL 130.291815 170.106513 \nL 130.596483 169.463341 \nL 131.815157 169.909365 \nL 132.119825 169.834004 \nL 132.424493 170.126846 \nL 132.729162 170.051213 \nL 133.03383 170.158479 \nL 133.643166 169.647208 \nL 133.947835 169.934874 \nL 134.557171 169.788797 \nL 134.86184 169.894539 \nL 135.775845 169.679364 \nL 136.080513 169.258558 \nL 136.385181 169.538729 \nL 136.68985 169.469233 \nL 136.994518 169.227217 \nL 137.299186 169.331858 \nL 137.603854 169.092248 \nL 138.213191 169.300159 \nL 138.517859 169.572682 \nL 139.127196 169.437646 \nL 139.431864 169.20306 \nL 139.736533 169.304639 \nL 140.041201 168.90573 \nL 140.345869 168.841709 \nL 140.955206 169.044543 \nL 141.259874 168.98072 \nL 141.564542 169.080882 \nL 141.869211 169.343224 \nL 142.173879 169.279011 \nL 142.478547 168.891799 \nL 142.783216 169.151975 \nL 143.392552 169.026768 \nL 143.697221 168.805423 \nL 144.306557 169.000576 \nL 144.611225 168.939398 \nL 144.915894 169.192972 \nL 145.52523 169.070556 \nL 145.829899 169.321009 \nL 146.134567 169.104814 \nL 146.743904 169.600285 \nL 147.048572 169.385362 \nL 147.657908 169.569189 \nL 148.267245 170.053082 \nL 148.571913 169.538729 \nL 148.876582 169.478624 \nL 149.790587 170.193227 \nL 150.095255 170.280001 \nL 150.399923 170.218431 \nL 150.704592 170.009997 \nL 151.00926 170.243304 \nL 151.313928 169.743552 \nL 151.923265 169.625933 \nL 152.83727 170.315982 \nL 153.446606 170.196574 \nL 153.751275 170.280001 \nL 154.055943 170.220791 \nL 154.360611 170.303608 \nL 154.665279 169.962312 \nL 154.969948 169.904673 \nL 155.883953 170.152196 \nL 156.188621 170.094683 \nL 156.493289 169.898973 \nL 156.797958 169.842606 \nL 157.407294 170.280001 \nL 157.711963 170.359829 \nL 158.625967 170.189602 \nL 158.930636 170.403922 \nL 159.235304 170.077836 \nL 159.844641 170.369313 \nL 160.149309 170.179826 \nL 160.453977 170.124646 \nL 160.758646 170.202552 \nL 161.063314 170.015259 \nL 161.367982 169.961053 \nL 162.281987 170.454417 \nL 162.891324 170.605119 \nL 163.195992 170.550144 \nL 163.805329 170.827896 \nL 164.109997 170.515668 \nL 164.414665 170.589757 \nL 165.024002 170.481782 \nL 165.32867 170.301182 \nL 165.633338 170.375033 \nL 166.242675 170.269503 \nL 166.547343 170.342823 \nL 166.852012 170.165153 \nL 167.15668 170.238354 \nL 167.461348 170.18656 \nL 167.766017 170.259297 \nL 168.070685 170.207728 \nL 168.375353 169.909365 \nL 168.98469 170.054752 \nL 169.594026 169.954167 \nL 170.203363 170.097718 \nL 170.508031 169.92653 \nL 170.8127 170.118853 \nL 171.422036 169.779141 \nL 172.031373 169.921321 \nL 172.945378 169.775934 \nL 174.164051 170.407129 \nL 174.468719 170.358026 \nL 174.773388 170.192445 \nL 175.078056 170.377027 \nL 175.382724 170.096134 \nL 175.687393 170.164179 \nL 175.992061 170.116342 \nL 176.296729 170.183982 \nL 176.601397 169.906489 \nL 176.906066 169.859692 \nL 177.210734 169.927465 \nL 177.820071 169.834481 \nL 178.429407 169.629267 \nL 180.257417 170.029197 \nL 181.47609 169.95811 \nL 181.780759 170.133215 \nL 183.913437 169.820086 \nL 184.218105 169.884174 \nL 184.522773 169.62488 \nL 185.13211 169.645902 \nL 185.741447 169.880032 \nL 186.96012 170.02469 \nL 187.264788 169.981386 \nL 188.178793 170.480582 \nL 188.483461 170.332199 \nL 189.397466 170.720617 \nL 189.702135 170.573062 \nL 190.920808 170.809478 \nL 191.225476 170.561172 \nL 192.444149 170.389759 \nL 193.053486 170.002653 \nL 193.358154 169.961351 \nL 193.662822 170.121034 \nL 195.186164 170.015259 \nL 195.795501 170.032908 \nL 196.404837 169.656804 \nL 197.014174 169.284014 \nL 197.62351 169.499713 \nL 197.928179 169.460869 \nL 198.232847 169.616416 \nL 198.537515 169.577486 \nL 198.842184 169.345352 \nL 199.146852 169.307177 \nL 199.45152 169.461711 \nL 200.365525 169.156137 \nL 201.888867 168.876311 \nL 202.193535 168.745517 \nL 203.716877 169.127599 \nL 204.326213 169.334025 \nL 204.93555 169.353411 \nL 206.154223 169.299808 \nL 206.458891 169.447024 \nL 207.068228 169.465667 \nL 208.591569 169.737607 \nL 208.896238 169.610902 \nL 209.200906 169.754805 \nL 211.333584 169.591994 \nL 211.638252 169.645047 \nL 211.942921 169.52104 \nL 214.380267 169.852064 \nL 214.684936 169.642966 \nL 215.294272 169.486809 \nL 215.903609 169.331858 \nL 216.208277 169.383877 \nL 216.512945 169.263973 \nL 218.036287 169.521716 \nL 218.645623 169.199858 \nL 218.950292 169.082128 \nL 219.559628 169.100704 \nL 220.473633 169.086422 \nL 221.08297 169.2717 \nL 221.996975 169.007668 \nL 222.91098 168.829083 \nL 223.520316 168.601515 \nL 224.73899 169.049076 \nL 226.262331 168.972661 \nL 228.090341 169.346744 \nL 228.699678 169.522783 \nL 229.309014 169.538729 \nL 229.918351 169.554555 \nL 230.223019 169.601929 \nL 230.832356 169.460007 \nL 231.746361 169.36646 \nL 232.965034 169.787545 \nL 233.269702 169.833686 \nL 233.57437 169.72469 \nL 234.793044 169.831134 \nL 235.097712 169.799899 \nL 235.40238 169.922143 \nL 236.011717 169.78327 \nL 236.925722 169.842838 \nL 239.363068 169.673731 \nL 239.667736 169.718427 \nL 239.972405 169.538729 \nL 241.191078 169.642681 \nL 241.495746 169.4646 \nL 242.71442 169.64182 \nL 243.019088 169.46521 \nL 245.761103 169.277957 \nL 246.979776 169.452366 \nL 247.284444 169.280058 \nL 250.635795 169.750517 \nL 250.940464 169.651502 \nL 251.5498 169.313884 \nL 252.768474 169.413052 \nL 253.073142 169.385362 \nL 253.682479 169.538729 \nL 255.815157 169.758702 \nL 256.424493 169.360549 \nL 256.729162 169.333449 \nL 257.338498 169.484158 \nL 257.643166 169.456992 \nL 257.947835 169.293903 \nL 258.557171 169.308211 \nL 259.471176 169.363253 \nL 260.080513 169.242665 \nL 261.299186 169.204319 \nL 263.431864 169.419593 \nL 264.345869 169.406948 \nL 264.955206 169.486173 \nL 265.259874 169.32881 \nL 266.173879 169.316675 \nL 266.783216 169.460584 \nL 267.392552 169.149151 \nL 268.001889 169.033754 \nL 268.306557 168.87934 \nL 268.611225 168.919025 \nL 268.915894 168.700768 \nL 269.220562 168.676233 \nL 269.829899 168.819917 \nL 270.743904 168.874137 \nL 271.657908 168.800638 \nL 271.962577 168.6492 \nL 273.790587 168.568563 \nL 275.313928 168.763047 \nL 275.618596 168.676684 \nL 276.532601 168.730068 \nL 277.141938 168.620668 \nL 278.055943 168.612139 \nL 278.969948 168.665192 \nL 279.579284 168.434489 \nL 280.188621 168.266223 \nL 281.102626 168.502977 \nL 281.407294 168.5409 \nL 281.711963 168.457201 \nL 282.016631 168.495077 \nL 282.625967 168.388998 \nL 283.235304 168.404188 \nL 283.844641 168.298923 \nL 284.758646 168.531714 \nL 285.67265 168.583528 \nL 285.977319 168.50134 \nL 286.586655 168.634931 \nL 286.891324 168.612384 \nL 287.195992 168.708503 \nL 287.50066 168.685916 \nL 288.109997 168.818128 \nL 288.719334 168.713997 \nL 289.024002 168.63273 \nL 289.633338 168.353474 \nL 289.938007 168.448791 \nL 290.852012 168.38304 \nL 291.15668 168.477826 \nL 291.766017 168.492228 \nL 292.070685 168.58649 \nL 292.680021 168.426821 \nL 293.594026 168.650353 \nL 294.203363 168.491545 \nL 294.8127 168.620503 \nL 296.031373 168.590964 \nL 296.640709 168.604782 \nL 297.250046 168.561723 \nL 298.773388 168.737253 \nL 299.992061 168.53913 \nL 301.210734 168.622378 \nL 303.038744 168.551597 \nL 306.694764 168.904915 \nL 307.608768 168.787476 \nL 308.218105 168.745862 \nL 310.655451 168.688998 \nL 311.874125 168.768018 \nL 312.483461 168.673761 \nL 312.78813 168.760124 \nL 313.397466 168.506622 \nL 314.616139 168.74451 \nL 316.444149 168.729107 \nL 317.053486 168.793958 \nL 319.490832 168.738572 \nL 320.100169 168.750799 \nL 321.318842 168.568709 \nL 322.232847 168.767461 \nL 326.193535 168.566124 \nL 326.802872 168.628986 \nL 328.021545 168.451972 \nL 328.630881 168.514668 \nL 329.849555 168.489285 \nL 330.458891 168.601336 \nL 331.068228 168.464134 \nL 331.677564 168.476454 \nL 331.982233 168.556972 \nL 332.286901 168.439201 \nL 333.810243 168.494541 \nL 334.419579 168.260955 \nL 335.333584 168.451309 \nL 336.247589 168.298665 \nL 337.161594 168.19568 \nL 338.075599 168.287372 \nL 338.380267 168.172458 \nL 339.294272 168.36042 \nL 339.903609 168.324419 \nL 341.122282 168.204919 \nL 341.731619 168.025857 \nL 342.340955 168.086439 \nL 343.864297 168.141713 \nL 344.168965 167.934352 \nL 344.778302 167.899875 \nL 346.301643 167.861443 \nL 346.91098 167.921408 \nL 351.176336 167.639216 \nL 351.481004 167.530114 \nL 353.004346 167.586554 \nL 353.613682 167.461937 \nL 354.527687 167.367582 \nL 355.137024 167.381188 \nL 355.746361 167.25789 \nL 357.269702 167.541832 \nL 358.488375 167.387225 \nL 359.707049 167.413947 \nL 360.925722 167.440444 \nL 363.0584 167.597615 \nL 363.363068 167.492815 \nL 363.363068 167.492815 \n\" style=\"fill:none;stroke:#1f77b4;stroke-linecap:square;stroke-width:1.5;\"/>\n   </g>\n   <g id=\"line2d_14\">\n    <path clip-path=\"url(#p2759b6ba61)\" d=\"M 58.999432 240.700909 \nL 59.3041 196.224545 \nL 59.608768 211.049998 \nL 59.913437 207.343635 \nL 60.218105 187.329274 \nL 60.522773 188.811818 \nL 60.827442 183.51701 \nL 61.13211 190.665001 \nL 61.741447 182.881638 \nL 62.046115 188.137934 \nL 62.655451 189.382028 \nL 62.96012 186.693896 \nL 63.264788 181.399088 \nL 63.569456 182.325684 \nL 63.874125 177.910746 \nL 64.178793 178.928179 \nL 64.483461 172.815932 \nL 64.78813 173.986361 \nL 65.092798 170.809478 \nL 65.397466 171.96471 \nL 65.702135 174.95324 \nL 66.006803 175.839548 \nL 66.311471 174.87589 \nL 66.616139 177.40762 \nL 66.920808 176.45727 \nL 67.225476 173.986361 \nL 67.530144 174.753195 \nL 68.139481 173.269001 \nL 68.748818 174.660245 \nL 69.053486 170.061976 \nL 69.358154 169.538729 \nL 69.662822 170.280001 \nL 69.967491 169.779141 \nL 70.272159 171.645503 \nL 70.576827 169.994893 \nL 70.881496 169.538729 \nL 71.186164 168.020025 \nL 71.795501 171.400531 \nL 73.014174 173.513211 \nL 73.62351 172.624842 \nL 73.928179 171.31778 \nL 74.232847 172.678233 \nL 74.537515 172.275732 \nL 74.842184 172.727601 \nL 75.146852 171.515452 \nL 75.45152 171.96471 \nL 76.974862 170.280001 \nL 77.27953 169.976197 \nL 77.584198 171.116921 \nL 78.193535 171.901537 \nL 78.498203 172.959987 \nL 78.802872 173.312477 \nL 79.412208 171.370104 \nL 80.021545 170.809478 \nL 80.326213 169.914581 \nL 80.630881 169.662272 \nL 80.93555 168.80761 \nL 81.240218 168.577079 \nL 81.544886 168.945707 \nL 81.849555 168.719425 \nL 82.76356 169.763925 \nL 83.068228 168.982775 \nL 83.372896 169.319094 \nL 83.677564 168.562419 \nL 83.982233 168.359837 \nL 84.286901 168.691556 \nL 84.591569 167.44572 \nL 84.896238 166.746029 \nL 85.200906 167.084859 \nL 85.810243 165.740744 \nL 86.114911 165.585276 \nL 86.419579 165.921966 \nL 86.724248 166.734782 \nL 87.942921 166.110339 \nL 88.247589 166.420798 \nL 88.552257 165.817238 \nL 89.466262 168.041505 \nL 89.770931 168.317805 \nL 90.075599 169.020558 \nL 90.380267 168.854473 \nL 90.684936 169.538729 \nL 90.989604 169.370894 \nL 91.59894 168.220911 \nL 91.903609 168.069784 \nL 92.208277 168.730068 \nL 92.512945 168.176388 \nL 92.817614 168.426821 \nL 93.122282 169.066414 \nL 93.42695 169.304639 \nL 93.731619 169.925476 \nL 94.340955 170.375033 \nL 94.645623 170.217179 \nL 94.950292 170.809478 \nL 95.25496 171.021273 \nL 95.559628 171.597136 \nL 95.864297 171.799003 \nL 96.778302 171.31778 \nL 97.08297 171.515452 \nL 97.387638 172.060219 \nL 97.692307 171.901537 \nL 97.996975 172.090082 \nL 98.91098 171.627768 \nL 99.215648 171.143888 \nL 99.520316 171.331055 \nL 99.824985 170.527094 \nL 100.129653 170.061976 \nL 100.434321 170.252947 \nL 100.73899 170.763437 \nL 101.348326 171.127167 \nL 101.652994 170.674297 \nL 101.957663 170.854227 \nL 103.176336 170.330774 \nL 103.481004 169.901803 \nL 103.785673 169.779141 \nL 104.395009 170.131744 \nL 104.699678 169.420912 \nL 105.004346 169.304639 \nL 105.309014 168.899196 \nL 105.613682 169.076633 \nL 105.918351 168.677897 \nL 106.832356 170.045421 \nL 107.137024 169.370894 \nL 107.441692 169.816706 \nL 108.051029 170.142726 \nL 108.355697 169.757019 \nL 108.660365 169.918405 \nL 108.965034 170.347389 \nL 109.269702 170.503275 \nL 109.57437 170.923617 \nL 109.879039 170.809478 \nL 110.183707 170.959863 \nL 110.488375 170.323603 \nL 111.097712 170.107613 \nL 111.40238 170.515668 \nL 111.707049 169.89658 \nL 112.011717 170.301182 \nL 112.316385 170.448472 \nL 112.925722 171.237826 \nL 113.23039 171.377415 \nL 113.535058 171.021273 \nL 113.839727 171.160517 \nL 114.144395 171.053854 \nL 114.449063 170.70532 \nL 114.753732 171.085732 \nL 115.0584 170.981203 \nL 115.363068 171.116921 \nL 115.667736 170.537665 \nL 115.972405 170.20114 \nL 116.581741 170.006902 \nL 116.88641 170.144164 \nL 117.495746 170.875322 \nL 117.800415 170.547467 \nL 118.105083 170.451063 \nL 118.409751 170.128722 \nL 119.019088 170.392317 \nL 119.323756 170.075125 \nL 119.933093 169.89277 \nL 120.237761 170.023126 \nL 120.542429 170.371288 \nL 121.151766 170.623517 \nL 121.456434 170.315982 \nL 121.761103 170.656005 \nL 122.065771 170.565102 \nL 122.370439 170.262266 \nL 122.979776 170.086776 \nL 123.284444 169.790481 \nL 123.589112 169.705775 \nL 123.893781 169.414026 \nL 124.503117 169.250453 \nL 124.807786 169.374758 \nL 125.112454 169.701944 \nL 125.417122 169.619962 \nL 125.721791 169.943059 \nL 126.940464 168.823927 \nL 127.245132 168.945707 \nL 127.854469 168.794189 \nL 128.159137 168.914498 \nL 128.463805 168.645316 \nL 128.768474 168.57185 \nL 129.682479 168.927893 \nL 129.987147 169.234613 \nL 130.291815 168.970945 \nL 130.596483 168.897963 \nL 131.510488 169.799256 \nL 132.119825 169.649454 \nL 132.424493 169.759272 \nL 132.729162 169.502119 \nL 133.643166 169.828006 \nL 133.947835 170.114937 \nL 134.557171 170.324657 \nL 135.166508 170.176638 \nL 135.775845 169.679364 \nL 136.080513 169.608768 \nL 136.385181 169.364313 \nL 136.68985 169.2955 \nL 136.994518 169.400281 \nL 137.603854 169.263973 \nL 137.908523 169.538729 \nL 138.213191 169.640971 \nL 138.517859 169.572682 \nL 138.822528 169.335795 \nL 139.127196 169.437646 \nL 139.431864 169.706564 \nL 140.041201 169.905196 \nL 140.345869 170.169361 \nL 140.650537 169.770201 \nL 140.955206 169.703455 \nL 141.259874 169.801317 \nL 141.869211 169.669059 \nL 142.173879 169.9283 \nL 142.783216 170.118853 \nL 143.087884 170.373661 \nL 144.306557 170.741646 \nL 144.611225 170.516576 \nL 144.915894 170.135939 \nL 145.52523 170.319017 \nL 145.829899 169.943059 \nL 146.134567 170.034631 \nL 146.439235 169.971133 \nL 146.743904 170.215873 \nL 147.048572 169.845463 \nL 147.35324 169.78327 \nL 147.657908 170.026141 \nL 147.962577 169.660164 \nL 148.571913 169.84026 \nL 148.876582 169.628883 \nL 149.18125 169.568679 \nL 149.790587 169.746978 \nL 150.095255 169.983493 \nL 150.399923 169.922911 \nL 151.00926 170.096519 \nL 151.313928 170.328766 \nL 151.618596 170.267846 \nL 151.923265 170.061976 \nL 152.227933 170.29207 \nL 152.532601 170.087459 \nL 152.83727 170.172046 \nL 153.141938 170.399561 \nL 153.446606 170.482597 \nL 153.751275 170.422552 \nL 154.055943 170.504984 \nL 154.665279 170.385895 \nL 154.969948 170.186169 \nL 155.274616 170.128006 \nL 155.579284 170.210068 \nL 155.883953 170.431041 \nL 156.188621 170.511645 \nL 156.493289 170.314636 \nL 156.797958 170.256977 \nL 157.102626 170.061976 \nL 157.407294 169.730906 \nL 157.711963 169.67558 \nL 158.625967 169.918405 \nL 158.930636 169.72799 \nL 159.539972 170.022456 \nL 160.149309 170.179826 \nL 160.453977 169.99148 \nL 160.758646 169.937021 \nL 161.063314 170.015259 \nL 161.367982 169.829079 \nL 161.67265 169.512411 \nL 161.977319 169.591205 \nL 162.281987 169.538729 \nL 162.586655 169.616986 \nL 162.891324 169.564735 \nL 163.195992 169.383122 \nL 163.50066 169.331858 \nL 164.109997 168.973132 \nL 164.414665 169.051668 \nL 164.719334 169.001942 \nL 165.32867 169.284578 \nL 165.633338 169.234613 \nL 165.938007 169.311293 \nL 166.242675 169.261541 \nL 166.547343 169.337704 \nL 167.15668 169.238888 \nL 167.461348 169.314474 \nL 168.375353 169.785815 \nL 168.680021 169.73585 \nL 169.289358 169.881794 \nL 169.594026 169.831976 \nL 169.898695 169.538729 \nL 170.203363 169.611638 \nL 170.8127 169.877135 \nL 171.117368 169.828006 \nL 171.422036 169.899344 \nL 171.726705 170.090189 \nL 172.031373 169.801761 \nL 172.336041 169.991837 \nL 172.945378 169.894539 \nL 173.250046 170.082853 \nL 173.554714 170.03422 \nL 173.859383 170.103504 \nL 174.468719 170.475075 \nL 174.773388 170.425918 \nL 175.382724 170.560636 \nL 175.687393 170.511645 \nL 176.296729 170.299201 \nL 176.601397 170.481119 \nL 178.124739 170.242178 \nL 179.64808 170.569417 \nL 179.952749 170.298624 \nL 180.562085 170.317062 \nL 181.171422 170.445953 \nL 181.47609 170.2892 \nL 182.085427 170.636911 \nL 183.913437 170.469375 \nL 184.522773 170.594098 \nL 184.827442 170.441148 \nL 186.655451 170.703584 \nL 189.397466 170.409595 \nL 191.225476 170.254439 \nL 192.139481 170.53386 \nL 192.444149 170.693696 \nL 193.053486 170.50692 \nL 193.662822 170.221434 \nL 193.967491 170.380169 \nL 194.272159 170.338303 \nL 195.186164 170.710205 \nL 195.490832 170.568913 \nL 197.014174 170.949431 \nL 197.318842 170.711729 \nL 198.232847 170.781735 \nL 198.842184 170.795666 \nL 199.146852 170.850827 \nL 199.45152 170.616943 \nL 199.756189 170.57619 \nL 200.365525 170.208265 \nL 200.974862 170.224443 \nL 201.27953 170.375033 \nL 201.584198 170.335321 \nL 202.193535 170.539679 \nL 203.10754 170.326917 \nL 203.412208 170.194168 \nL 204.021545 170.210068 \nL 204.326213 170.078399 \nL 205.240218 170.426402 \nL 206.154223 170.218736 \nL 207.068228 169.922302 \nL 207.372896 170.067338 \nL 207.677564 170.029879 \nL 207.982233 169.811033 \nL 208.896238 169.971763 \nL 209.505574 169.808282 \nL 209.810243 169.771871 \nL 210.114911 169.914581 \nL 212.247589 169.750517 \nL 213.466262 169.871422 \nL 213.770931 169.486299 \nL 214.075599 169.538729 \nL 214.380267 169.416876 \nL 214.989604 169.43469 \nL 216.208277 169.297853 \nL 216.817614 169.487313 \nL 217.122282 169.538729 \nL 217.42695 169.248478 \nL 217.731619 169.385362 \nL 218.645623 169.36929 \nL 219.864297 169.48828 \nL 220.168965 169.454812 \nL 220.778302 169.639049 \nL 221.387638 169.655333 \nL 221.996975 169.83745 \nL 223.215648 169.950548 \nL 223.520316 169.9169 \nL 223.824985 170.047495 \nL 224.73899 169.865159 \nL 225.043658 169.669059 \nL 225.652994 169.847139 \nL 226.566999 170.071473 \nL 227.176336 170.246486 \nL 227.481004 170.132817 \nL 227.785673 170.259966 \nL 229.309014 170.094683 \nL 229.613682 170.220539 \nL 229.918351 170.187673 \nL 230.223019 169.996921 \nL 231.137024 169.978775 \nL 231.746361 170.149492 \nL 232.051029 170.195321 \nL 232.660365 170.052817 \nL 233.879039 170.002826 \nL 235.40238 170.228876 \nL 236.316385 169.9812 \nL 236.621053 170.102298 \nL 237.839727 169.750517 \nL 238.144395 169.795465 \nL 238.449063 169.689498 \nL 239.363068 169.973738 \nL 239.972405 169.837728 \nL 240.88641 169.970106 \nL 241.495746 169.761108 \nL 241.800415 169.879143 \nL 242.71442 169.862727 \nL 243.628424 170.066291 \nL 243.933093 170.182464 \nL 244.237761 170.079161 \nL 244.847098 170.091952 \nL 245.456434 170.104657 \nL 246.065771 170.117283 \nL 246.675107 170.129822 \nL 247.284444 170.357841 \nL 247.589112 170.184353 \nL 249.112454 170.321509 \nL 249.417122 170.220791 \nL 251.5498 170.438093 \nL 251.854469 170.26831 \nL 253.073142 170.500756 \nL 253.37781 170.332199 \nL 253.682479 170.37266 \nL 253.987147 170.274215 \nL 254.291815 170.314636 \nL 254.901152 170.049788 \nL 256.119825 170.142726 \nL 257.338498 170.098089 \nL 257.947835 170.17799 \nL 258.252503 170.014046 \nL 258.557171 170.121803 \nL 259.166508 170.133547 \nL 259.775845 170.347389 \nL 260.385181 170.358384 \nL 261.299186 170.40819 \nL 262.213191 170.390972 \nL 264.041201 170.554956 \nL 266.478547 170.269132 \nL 266.783216 170.176897 \nL 267.087884 170.280001 \nL 267.392552 170.123088 \nL 268.001889 170.328554 \nL 270.743904 170.152196 \nL 271.048572 170.253411 \nL 271.35324 170.226901 \nL 272.267245 170.528499 \nL 274.095255 170.432029 \nL 274.399923 170.46846 \nL 275.618596 170.17589 \nL 276.227933 170.311143 \nL 276.83727 170.321409 \nL 277.446606 170.269675 \nL 278.055943 170.465319 \nL 278.665279 170.475075 \nL 279.579284 170.520274 \nL 279.883953 170.49442 \nL 280.188621 170.590989 \nL 281.102626 170.57448 \nL 281.407294 170.609566 \nL 282.016631 170.376073 \nL 282.625967 170.385895 \nL 282.930636 170.421001 \nL 283.539972 170.249866 \nL 284.149309 170.320071 \nL 284.758646 170.150128 \nL 285.063314 170.125362 \nL 285.367982 170.220221 \nL 285.977319 170.230315 \nL 286.281987 170.324657 \nL 288.414665 170.152196 \nL 288.719334 170.245637 \nL 289.024002 170.162336 \nL 289.938007 170.382548 \nL 290.547343 170.392019 \nL 291.15668 170.401443 \nL 292.070685 170.212261 \nL 292.680021 170.164179 \nL 292.98469 170.024557 \nL 293.898695 170.068756 \nL 296.031373 169.961225 \nL 296.640709 170.028481 \nL 297.250046 169.868182 \nL 297.859383 169.878673 \nL 298.773388 169.978973 \nL 299.078056 169.899497 \nL 299.992061 170.055375 \nL 300.601397 170.065277 \nL 300.906066 170.098176 \nL 301.210734 169.963379 \nL 301.820071 170.029197 \nL 303.343412 170.081527 \nL 303.952749 170.09123 \nL 304.866754 169.913037 \nL 305.171422 169.945558 \nL 305.780759 169.790998 \nL 306.694764 169.66986 \nL 307.608768 169.930686 \nL 307.913437 169.799713 \nL 308.827442 169.950442 \nL 309.13211 169.874193 \nL 309.741447 169.992129 \nL 310.655451 169.872165 \nL 311.264788 169.935742 \nL 312.178793 169.816706 \nL 312.78813 169.826707 \nL 313.397466 169.943059 \nL 314.920808 169.940653 \nL 316.444149 169.99085 \nL 317.358154 169.874001 \nL 317.662822 169.957328 \nL 318.576827 169.841148 \nL 320.404837 169.921878 \nL 327.412208 169.447959 \nL 328.021545 169.508541 \nL 329.849555 169.488751 \nL 331.372896 169.7872 \nL 331.982233 169.647811 \nL 332.591569 169.756409 \nL 333.200906 169.815162 \nL 334.114911 169.952006 \nL 338.684936 169.558088 \nL 338.989604 169.44204 \nL 339.59894 169.403661 \nL 341.731619 169.366374 \nL 342.950292 169.433855 \nL 343.559628 169.300888 \nL 344.778302 169.51031 \nL 345.08297 169.538729 \nL 345.996975 169.293472 \nL 350.262331 169.129746 \nL 352.699678 169.308278 \nL 353.004346 169.244057 \nL 353.918351 169.419388 \nL 354.527687 169.382989 \nL 356.965034 169.193456 \nL 357.269702 169.084885 \nL 358.488375 169.104814 \nL 363.0584 168.933241 \nL 363.363068 168.960533 \nL 363.363068 168.960533 \n\" style=\"fill:none;stroke:#ff7f0e;stroke-linecap:square;stroke-width:1.5;\"/>\n   </g>\n   <g id=\"line2d_15\">\n    <path clip-path=\"url(#p2759b6ba61)\" d=\"M 58.999432 151.74818 \nL 59.3041 173.986361 \nL 59.608768 166.573634 \nL 59.913437 173.986361 \nL 60.218105 178.434 \nL 60.522773 166.573634 \nL 60.827442 170.809478 \nL 61.13211 168.426821 \nL 61.436778 161.631816 \nL 61.741447 160.643451 \nL 62.350783 166.573634 \nL 62.655451 168.854473 \nL 62.96012 173.986361 \nL 63.264788 169.538729 \nL 63.874125 172.678233 \nL 64.178793 169.044543 \nL 64.483461 168.13421 \nL 64.78813 158.419635 \nL 65.092798 158.101946 \nL 65.397466 161.856449 \nL 65.702135 159.483202 \nL 66.006803 161.014094 \nL 66.311471 160.643451 \nL 66.616139 158.590698 \nL 67.530144 162.483854 \nL 67.834813 165.09109 \nL 68.139481 163.225954 \nL 68.444149 162.867274 \nL 69.053486 167.44572 \nL 69.358154 168.267973 \nL 69.662822 170.280001 \nL 69.967491 170.981203 \nL 70.272159 172.815932 \nL 70.881496 169.538729 \nL 71.186164 170.189602 \nL 71.490832 171.868439 \nL 71.795501 172.434864 \nL 72.100169 171.96471 \nL 72.404837 173.492182 \nL 72.709506 173.019489 \nL 73.62351 168.994121 \nL 73.928179 169.538729 \nL 74.232847 168.317805 \nL 74.537515 169.709791 \nL 74.842184 170.210068 \nL 75.45152 172.77337 \nL 75.756189 172.397923 \nL 76.060857 170.475075 \nL 76.365525 169.385362 \nL 77.27953 170.70532 \nL 77.584198 170.399561 \nL 77.888867 170.809478 \nL 78.193535 170.511645 \nL 78.802872 172.638594 \nL 79.412208 173.3323 \nL 79.716877 172.374899 \nL 80.021545 172.080234 \nL 80.326213 171.167442 \nL 81.240218 170.380169 \nL 81.544886 169.538729 \nL 81.849555 169.304639 \nL 82.154223 167.921408 \nL 82.76356 166.38597 \nL 83.068228 166.202998 \nL 83.677564 166.93523 \nL 83.982233 166.216399 \nL 84.286901 167.103118 \nL 84.591569 166.399218 \nL 84.896238 167.263192 \nL 85.200906 166.573634 \nL 85.505574 165.394338 \nL 85.810243 164.741278 \nL 86.724248 164.317589 \nL 87.028916 164.660674 \nL 87.333584 165.469613 \nL 87.638252 165.793346 \nL 88.247589 165.503758 \nL 88.856926 167.022892 \nL 89.161594 167.314906 \nL 89.466262 166.280063 \nL 89.770931 165.701549 \nL 90.075599 164.70246 \nL 90.380267 165.005562 \nL 90.684936 164.455712 \nL 90.989604 165.175007 \nL 91.59894 165.750002 \nL 91.903609 164.397423 \nL 92.208277 164.28243 \nL 92.512945 163.768819 \nL 92.817614 162.867274 \nL 93.122282 162.375275 \nL 93.42695 162.6722 \nL 93.731619 162.577208 \nL 94.036287 163.250688 \nL 94.340955 162.392096 \nL 94.645623 161.924977 \nL 94.950292 160.718203 \nL 95.25496 160.643451 \nL 95.864297 161.22675 \nL 96.168965 161.872885 \nL 96.473633 161.432554 \nL 96.778302 161.710889 \nL 97.08297 162.33779 \nL 97.692307 162.172328 \nL 97.996975 162.781077 \nL 98.606311 163.291666 \nL 98.91098 161.856449 \nL 100.129653 164.175402 \nL 100.434321 164.084692 \nL 101.348326 162.867274 \nL 101.652994 163.103849 \nL 101.957663 163.023882 \nL 102.262331 162.634006 \nL 102.566999 162.867274 \nL 102.871668 162.483854 \nL 103.176336 162.714954 \nL 103.481004 163.245472 \nL 104.090341 163.091144 \nL 105.004346 163.745099 \nL 105.309014 164.248073 \nL 105.613682 164.455712 \nL 105.918351 164.086786 \nL 106.223019 164.007694 \nL 106.527687 164.212894 \nL 106.832356 164.696999 \nL 107.137024 164.895281 \nL 108.660365 163.138471 \nL 108.965034 161.991225 \nL 109.269702 161.929517 \nL 109.57437 161.602225 \nL 110.183707 162.011956 \nL 110.793044 162.932296 \nL 111.097712 162.867274 \nL 111.40238 162.28882 \nL 111.707049 161.972635 \nL 112.011717 162.168358 \nL 112.316385 162.109155 \nL 112.621053 161.548058 \nL 112.925722 161.243134 \nL 113.23039 161.687037 \nL 113.535058 161.878909 \nL 114.144395 161.278829 \nL 114.753732 161.175235 \nL 115.0584 161.364695 \nL 115.667736 161.261843 \nL 116.581741 161.813887 \nL 117.495746 160.966078 \nL 117.800415 161.147824 \nL 118.105083 161.555792 \nL 118.71442 161.456221 \nL 119.019088 161.631816 \nL 119.323756 162.029148 \nL 119.628424 161.53298 \nL 119.933093 161.263023 \nL 120.237761 161.215921 \nL 120.542429 160.950185 \nL 120.847098 160.905078 \nL 121.151766 160.643451 \nL 121.456434 160.816177 \nL 121.761103 160.557513 \nL 122.370439 160.473211 \nL 122.979776 160.812088 \nL 123.284444 160.769334 \nL 123.589112 160.518172 \nL 123.893781 160.685019 \nL 124.198449 160.229723 \nL 124.503117 160.190455 \nL 124.807786 159.94659 \nL 125.721791 160.441286 \nL 126.026459 160.804453 \nL 126.331127 160.964003 \nL 126.635795 160.922681 \nL 127.245132 160.44578 \nL 127.5498 160.604097 \nL 128.768474 160.450081 \nL 129.073142 160.797488 \nL 129.37781 160.758478 \nL 129.682479 160.338037 \nL 129.987147 160.301327 \nL 130.291815 160.075674 \nL 130.596483 160.040382 \nL 131.20582 160.344452 \nL 131.815157 159.531543 \nL 132.119825 159.499248 \nL 132.424493 159.283436 \nL 133.338498 159.735776 \nL 133.643166 160.064898 \nL 134.252503 159.639147 \nL 134.86184 159.931831 \nL 135.166508 160.253622 \nL 135.471176 160.219868 \nL 136.385181 160.643451 \nL 136.68985 160.956176 \nL 136.994518 160.574234 \nL 137.299186 160.884798 \nL 138.213191 161.291004 \nL 138.517859 161.084823 \nL 138.822528 161.049326 \nL 139.127196 160.845623 \nL 139.431864 160.979127 \nL 140.041201 161.576291 \nL 140.345869 161.539621 \nL 140.650537 161.833902 \nL 140.955206 161.302364 \nL 141.259874 161.431229 \nL 142.173879 161.325208 \nL 142.478547 161.452118 \nL 143.392552 161.347397 \nL 143.697221 161.472405 \nL 144.001889 161.119988 \nL 144.306557 161.086639 \nL 144.611225 161.368957 \nL 145.220562 161.614419 \nL 145.829899 161.54542 \nL 146.134567 161.356318 \nL 146.439235 161.322955 \nL 146.743904 161.135927 \nL 147.048572 161.410286 \nL 147.35324 161.224245 \nL 147.657908 161.19179 \nL 147.962577 161.311357 \nL 148.571913 161.246527 \nL 148.876582 161.364695 \nL 149.790587 160.821956 \nL 150.095255 160.939965 \nL 150.704592 161.468183 \nL 151.923265 160.759731 \nL 152.227933 160.875255 \nL 152.83727 160.816177 \nL 153.141938 160.930402 \nL 153.446606 160.757862 \nL 153.751275 160.871537 \nL 154.055943 160.842389 \nL 154.360611 160.95507 \nL 154.665279 161.208233 \nL 154.969948 161.178297 \nL 155.274616 161.008242 \nL 155.579284 161.118987 \nL 155.883953 161.089614 \nL 156.493289 161.30852 \nL 156.797958 161.002582 \nL 157.407294 160.945453 \nL 157.711963 161.190856 \nL 158.016631 161.02546 \nL 158.625967 161.240092 \nL 158.930636 161.481611 \nL 159.235304 161.452118 \nL 159.539972 161.691537 \nL 159.844641 161.661587 \nL 160.758646 161.971104 \nL 161.67265 162.538305 \nL 161.977319 162.506473 \nL 162.281987 162.605647 \nL 162.891324 162.28206 \nL 163.195992 162.381015 \nL 163.50066 162.350104 \nL 164.719334 162.739469 \nL 165.024002 162.707976 \nL 165.32867 162.549585 \nL 165.633338 162.518814 \nL 165.938007 162.614568 \nL 166.242675 162.835774 \nL 166.547343 162.804452 \nL 166.852012 162.898596 \nL 167.15668 163.117137 \nL 167.461348 162.960708 \nL 167.766017 162.929394 \nL 168.070685 163.022132 \nL 168.375353 163.23791 \nL 168.98469 163.174432 \nL 169.289358 163.265474 \nL 169.594026 163.233834 \nL 170.203363 163.414115 \nL 170.508031 163.624704 \nL 171.117368 163.560331 \nL 171.726705 163.856302 \nL 172.031373 163.943314 \nL 172.640709 164.234864 \nL 172.945378 164.320167 \nL 174.164051 163.835425 \nL 174.468719 163.80362 \nL 174.773388 164.005447 \nL 175.382724 163.941439 \nL 175.687393 163.678042 \nL 175.992061 163.8781 \nL 176.296729 163.616227 \nL 176.906066 163.669678 \nL 177.515402 163.608546 \nL 178.124739 163.774956 \nL 178.429407 163.631179 \nL 178.734076 163.149486 \nL 179.952749 163.481895 \nL 180.562085 163.534418 \nL 181.171422 163.807696 \nL 181.47609 163.998495 \nL 181.780759 163.858085 \nL 182.390095 164.017522 \nL 182.694764 163.8781 \nL 183.608768 164.006302 \nL 184.218105 163.622941 \nL 185.13211 163.429928 \nL 186.046115 163.133282 \nL 186.350783 163.212255 \nL 186.655451 162.973168 \nL 187.874125 162.972167 \nL 190.006803 163.409039 \nL 191.530144 163.377326 \nL 191.834813 163.554267 \nL 192.444149 163.297856 \nL 193.662822 163.494759 \nL 194.272159 163.242072 \nL 194.576827 163.316028 \nL 195.186164 163.165107 \nL 196.404837 163.359266 \nL 196.709506 163.137272 \nL 197.318842 163.282712 \nL 197.928179 163.134912 \nL 200.365525 163.799842 \nL 200.670193 163.964867 \nL 201.27953 164.007694 \nL 201.584198 164.17122 \nL 202.193535 164.024037 \nL 203.716877 163.988527 \nL 204.326213 164.123403 \nL 204.630881 163.911867 \nL 205.544886 163.928429 \nL 205.849555 164.087383 \nL 206.76356 164.102725 \nL 207.372896 164.416656 \nL 207.677564 164.299794 \nL 207.982233 164.364949 \nL 208.286901 164.248669 \nL 208.896238 164.468603 \nL 209.200906 164.35282 \nL 210.114911 164.634694 \nL 210.724248 164.850439 \nL 211.028916 164.824234 \nL 211.638252 165.037931 \nL 214.075599 165.439928 \nL 215.903609 165.194525 \nL 216.208277 165.082488 \nL 217.122282 165.262152 \nL 217.42695 165.15085 \nL 217.731619 165.210378 \nL 218.036287 165.099593 \nL 218.950292 165.192557 \nL 219.559628 165.057396 \nL 219.864297 164.948162 \nL 220.473633 164.9822 \nL 221.08297 165.015987 \nL 221.996975 165.107685 \nL 222.301643 164.999982 \nL 222.91098 165.198363 \nL 223.520316 165.313065 \nL 223.824985 165.041854 \nL 224.434321 165.07474 \nL 225.348326 165.32689 \nL 225.957663 165.034379 \nL 226.262331 165.09109 \nL 226.871668 164.962172 \nL 227.481004 165.075032 \nL 228.090341 164.947101 \nL 228.395009 165.083104 \nL 228.699678 165.059205 \nL 229.004346 164.876267 \nL 229.918351 165.201889 \nL 232.051029 165.505368 \nL 232.355697 165.481237 \nL 232.660365 165.612966 \nL 232.965034 165.510975 \nL 233.269702 165.564572 \nL 234.488375 165.237544 \nL 235.40238 165.244457 \nL 236.316385 165.556453 \nL 237.23039 165.561662 \nL 237.839727 165.741599 \nL 238.144395 165.86886 \nL 239.0584 165.872432 \nL 239.363068 165.923616 \nL 239.667736 165.824873 \nL 239.972405 165.950716 \nL 240.581741 165.828637 \nL 241.191078 165.781629 \nL 241.495746 165.906491 \nL 242.105083 165.785572 \nL 242.71442 165.665455 \nL 243.933093 165.793346 \nL 244.237761 165.770289 \nL 244.847098 166.015559 \nL 245.456434 165.896457 \nL 246.065771 165.561165 \nL 246.370439 165.610944 \nL 246.675107 165.51639 \nL 246.979776 165.566083 \nL 247.589112 165.44977 \nL 248.198449 165.334206 \nL 248.503117 165.241011 \nL 248.807786 165.361943 \nL 249.112454 165.340158 \nL 249.417122 165.460546 \nL 250.026459 165.275228 \nL 250.331127 165.324431 \nL 250.940464 165.210915 \nL 252.463805 165.175007 \nL 252.768474 165.293573 \nL 253.073142 165.272345 \nL 253.37781 165.390381 \nL 254.901152 165.215402 \nL 255.20582 165.125566 \nL 257.947835 165.485532 \nL 258.86184 165.490496 \nL 259.166508 165.537207 \nL 259.775845 165.428032 \nL 260.68985 165.500298 \nL 261.299186 165.392058 \nL 261.603854 165.438351 \nL 261.908523 165.284467 \nL 262.822528 165.29024 \nL 263.431864 165.31612 \nL 263.736533 165.22987 \nL 264.041201 165.275858 \nL 264.650537 165.104252 \nL 266.478547 165.378034 \nL 267.087884 165.273161 \nL 267.392552 165.31834 \nL 268.001889 165.019878 \nL 268.306557 165.129881 \nL 268.915894 165.155549 \nL 269.829899 165.418409 \nL 270.743904 165.487288 \nL 271.35324 165.511638 \nL 271.962577 165.66293 \nL 273.18125 165.836577 \nL 273.485918 165.753502 \nL 273.790587 165.796666 \nL 275.313928 165.447649 \nL 275.618596 165.553345 \nL 276.227933 165.576965 \nL 277.446606 165.747703 \nL 277.751275 165.542661 \nL 278.055943 165.585276 \nL 278.969948 165.404822 \nL 279.883953 165.532176 \nL 280.493289 165.372122 \nL 280.797958 165.170401 \nL 281.102626 165.212943 \nL 281.711963 165.115393 \nL 282.016631 165.157836 \nL 282.625967 165.00032 \nL 282.930636 165.103179 \nL 283.539972 165.006715 \nL 283.844641 165.048959 \nL 284.453977 164.893021 \nL 285.063314 165.037215 \nL 285.67265 164.941839 \nL 285.977319 165.043392 \nL 287.195992 164.913188 \nL 288.109997 164.742603 \nL 290.852012 165.05607 \nL 291.15668 164.922043 \nL 292.070685 164.986575 \nL 292.680021 164.894187 \nL 293.594026 165.131471 \nL 293.898695 165.056521 \nL 294.508031 165.137058 \nL 295.422036 164.970887 \nL 295.726705 165.068225 \nL 296.640709 164.903161 \nL 297.250046 165.039966 \nL 297.859383 165.232733 \nL 298.468719 165.085437 \nL 299.992061 165.057396 \nL 303.64808 165.46726 \nL 304.257417 165.433215 \nL 307.3041 165.32001 \nL 307.913437 165.449949 \nL 312.78813 165.240414 \nL 313.397466 165.261337 \nL 314.311471 165.053983 \nL 315.225476 165.217867 \nL 317.662822 164.986442 \nL 318.272159 164.955366 \nL 319.186164 165.169122 \nL 322.232847 165.065382 \nL 322.537515 165.152719 \nL 323.146852 165.121835 \nL 324.670193 165.198078 \nL 326.498203 165.156868 \nL 327.10754 165.277879 \nL 327.716877 165.347978 \nL 328.326213 165.367496 \nL 328.630881 165.201531 \nL 330.76356 165.394908 \nL 331.372896 165.314715 \nL 332.286901 165.318923 \nL 333.810243 165.096014 \nL 334.724248 165.297271 \nL 335.333584 165.365395 \nL 336.856926 165.388247 \nL 338.684936 165.78316 \nL 339.903609 165.818709 \nL 341.42695 165.838751 \nL 342.036287 165.904098 \nL 342.340955 165.793346 \nL 344.168965 165.940748 \nL 344.473633 165.878198 \nL 344.778302 165.95788 \nL 345.387638 165.927679 \nL 348.73899 166.184315 \nL 349.348326 166.24729 \nL 349.957663 166.310006 \nL 350.566999 166.093896 \nL 352.090341 166.157971 \nL 353.004346 166.067174 \nL 357.879039 166.513244 \nL 358.488375 166.438036 \nL 359.40238 166.573634 \nL 363.363068 166.380907 \nL 363.363068 166.380907 \n\" style=\"fill:none;stroke:#2ca02c;stroke-linecap:square;stroke-width:1.5;\"/>\n   </g>\n   <g id=\"line2d_16\">\n    <path clip-path=\"url(#p2759b6ba61)\" d=\"M 58.999432 196.224545 \nL 59.3041 173.986361 \nL 59.608768 166.573634 \nL 59.913437 151.74818 \nL 60.218105 151.74818 \nL 60.522773 144.335454 \nL 60.827442 151.74818 \nL 61.13211 151.74818 \nL 61.436778 156.689998 \nL 61.741447 156.195819 \nL 62.046115 163.8781 \nL 62.350783 162.867274 \nL 62.655451 158.590698 \nL 63.569456 157.307727 \nL 63.874125 156.980694 \nL 64.178793 161.631816 \nL 64.483461 161.111624 \nL 64.78813 162.867274 \nL 65.092798 166.573634 \nL 65.397466 163.8781 \nL 65.702135 165.284467 \nL 66.006803 164.720454 \nL 66.311471 165.980619 \nL 66.616139 168.854473 \nL 67.530144 167.084859 \nL 68.748818 170.616943 \nL 69.053486 170.061976 \nL 69.358154 170.809478 \nL 69.662822 170.280001 \nL 69.967491 168.577079 \nL 70.272159 162.28206 \nL 70.576827 163.152376 \nL 71.490832 162.33779 \nL 71.795501 161.057186 \nL 72.100169 162.867274 \nL 72.404837 161.631816 \nL 72.709506 161.41696 \nL 73.014174 163.103849 \nL 73.318842 162.867274 \nL 73.62351 163.54803 \nL 73.928179 163.312039 \nL 74.232847 162.213207 \nL 74.537515 162.867274 \nL 75.146852 162.455455 \nL 75.45152 160.643451 \nL 75.756189 160.48461 \nL 76.060857 161.891912 \nL 76.365525 161.717019 \nL 76.670193 163.055733 \nL 76.974862 162.867274 \nL 77.27953 161.955874 \nL 77.584198 163.225954 \nL 77.888867 162.33779 \nL 78.193535 163.562213 \nL 78.498203 159.959202 \nL 78.802872 159.160907 \nL 79.10754 159.050275 \nL 79.412208 160.251018 \nL 79.716877 160.127786 \nL 80.021545 159.372702 \nL 80.326213 159.265317 \nL 80.630881 159.778636 \nL 80.93555 158.450102 \nL 81.240218 158.960565 \nL 81.849555 158.770767 \nL 82.154223 159.257178 \nL 82.458891 158.590698 \nL 83.068228 160.643451 \nL 83.372896 159.984546 \nL 83.677564 160.426494 \nL 83.982233 160.321938 \nL 84.286901 161.278829 \nL 84.591569 161.166705 \nL 84.896238 160.540023 \nL 85.505574 162.361861 \nL 85.810243 162.742339 \nL 86.114911 162.620181 \nL 86.419579 162.011956 \nL 86.724248 161.900395 \nL 87.028916 162.269474 \nL 87.333584 161.684392 \nL 87.638252 161.579797 \nL 87.942921 161.940684 \nL 88.247589 161.835605 \nL 88.552257 161.278829 \nL 88.856926 161.631816 \nL 89.161594 161.53298 \nL 89.466262 162.316821 \nL 89.770931 162.213207 \nL 90.075599 162.543415 \nL 90.380267 162.439615 \nL 90.684936 162.761373 \nL 91.59894 162.455455 \nL 91.903609 163.173305 \nL 92.512945 162.967442 \nL 93.122282 163.556063 \nL 93.42695 163.452488 \nL 93.731619 162.577208 \nL 94.340955 161.631816 \nL 94.645623 161.924977 \nL 94.950292 162.586958 \nL 95.559628 160.937513 \nL 95.864297 159.768509 \nL 96.168965 159.703301 \nL 96.473633 159.997827 \nL 97.08297 159.866881 \nL 97.387638 159.102539 \nL 97.692307 159.392558 \nL 97.996975 158.298962 \nL 98.301643 158.248573 \nL 98.606311 158.538466 \nL 98.91098 159.160907 \nL 99.215648 159.43958 \nL 99.520316 159.050275 \nL 100.129653 158.942889 \nL 100.73899 160.127786 \nL 101.043658 160.387478 \nL 101.348326 160.325769 \nL 101.652994 160.580364 \nL 101.957663 161.144596 \nL 102.262331 161.389913 \nL 102.871668 162.483854 \nL 103.176336 162.714954 \nL 103.785673 163.768819 \nL 104.090341 163.986645 \nL 104.395009 163.608546 \nL 105.004346 163.452488 \nL 105.309014 163.666682 \nL 105.613682 163.300487 \nL 105.918351 163.225954 \nL 106.223019 163.437484 \nL 106.527687 163.929608 \nL 106.832356 163.571015 \nL 107.441692 163.423228 \nL 107.746361 163.903211 \nL 108.051029 163.828181 \nL 108.355697 164.299794 \nL 108.660365 163.952062 \nL 108.965034 164.147653 \nL 109.879039 163.926235 \nL 110.183707 164.380523 \nL 110.488375 164.044589 \nL 111.40238 163.831356 \nL 111.707049 164.273138 \nL 112.011717 163.693265 \nL 112.621053 164.563402 \nL 112.925722 164.491408 \nL 113.23039 164.171744 \nL 113.535058 164.596911 \nL 113.839727 164.280196 \nL 114.144395 164.211337 \nL 114.449063 164.629313 \nL 114.753732 164.559307 \nL 115.363068 164.899794 \nL 115.667736 164.829463 \nL 115.972405 165.233038 \nL 116.277073 164.455712 \nL 116.581741 164.857007 \nL 116.88641 164.788373 \nL 117.191078 164.952105 \nL 117.495746 164.653238 \nL 117.800415 165.045241 \nL 118.105083 164.748966 \nL 118.409751 164.909556 \nL 118.71442 164.616979 \nL 119.019088 165.001241 \nL 119.323756 164.711142 \nL 119.628424 164.868711 \nL 119.933093 165.245981 \nL 120.237761 164.958984 \nL 120.542429 165.332099 \nL 120.847098 165.483531 \nL 121.151766 165.199569 \nL 121.456434 165.566083 \nL 122.065771 165.433215 \nL 122.370439 165.793346 \nL 122.675107 165.726468 \nL 122.979776 166.081795 \nL 123.284444 166.014187 \nL 123.589112 166.364828 \nL 123.893781 166.504357 \nL 124.503117 167.191363 \nL 124.807786 167.325159 \nL 125.112454 167.253701 \nL 125.417122 167.385993 \nL 125.721791 167.314906 \nL 126.026459 167.043219 \nL 126.331127 167.174668 \nL 126.635795 167.50438 \nL 127.245132 167.759671 \nL 127.854469 167.618604 \nL 128.159137 167.353922 \nL 128.463805 167.285778 \nL 128.768474 167.024847 \nL 129.073142 166.958711 \nL 129.37781 166.701439 \nL 129.682479 166.82815 \nL 129.987147 166.383564 \nL 130.291815 166.510547 \nL 130.596483 166.824916 \nL 130.901152 166.573634 \nL 131.20582 166.137591 \nL 131.815157 166.758952 \nL 132.424493 166.634899 \nL 132.729162 166.390609 \nL 133.03383 165.966039 \nL 133.338498 166.089542 \nL 133.643166 165.850442 \nL 133.947835 165.973415 \nL 134.252503 165.916054 \nL 135.166508 165.21513 \nL 135.471176 165.514673 \nL 136.385181 165.875971 \nL 136.68985 165.820784 \nL 136.994518 166.112142 \nL 137.299186 165.711689 \nL 137.603854 166.001224 \nL 138.213191 165.551191 \nL 138.517859 165.668265 \nL 139.127196 166.236692 \nL 139.431864 166.182022 \nL 139.736533 165.793346 \nL 140.041201 166.073901 \nL 140.345869 165.688532 \nL 140.650537 165.802055 \nL 140.955206 166.079455 \nL 141.259874 165.698334 \nL 141.564542 165.810564 \nL 141.869211 166.084883 \nL 142.173879 166.194886 \nL 142.783216 166.090198 \nL 143.087884 165.87786 \nL 143.392552 165.987015 \nL 144.001889 165.885309 \nL 144.306557 165.676722 \nL 144.611225 165.627334 \nL 145.220562 165.842807 \nL 145.52523 165.637295 \nL 145.829899 165.588729 \nL 146.439235 165.801478 \nL 146.743904 165.598955 \nL 147.35324 165.809438 \nL 147.657908 165.608969 \nL 147.962577 165.561662 \nL 148.267245 165.363394 \nL 148.571913 165.468009 \nL 148.876582 165.421656 \nL 149.18125 165.52537 \nL 149.485918 165.777639 \nL 149.790587 165.581969 \nL 150.095255 165.239347 \nL 150.399923 165.194525 \nL 150.704592 165.297271 \nL 151.313928 165.208132 \nL 151.618596 165.455649 \nL 151.923265 165.556201 \nL 152.227933 165.511227 \nL 152.532601 165.177731 \nL 152.83727 165.278211 \nL 153.446606 165.191198 \nL 153.751275 165.005562 \nL 154.055943 165.105299 \nL 154.360611 164.921115 \nL 154.969948 165.119244 \nL 155.274616 165.357668 \nL 155.579284 165.314874 \nL 155.883953 165.411768 \nL 156.188621 165.230082 \nL 156.493289 165.326638 \nL 156.797958 165.284467 \nL 157.102626 165.104862 \nL 157.407294 165.338183 \nL 157.711963 165.296364 \nL 158.016631 165.52767 \nL 158.321299 165.349516 \nL 158.625967 165.443646 \nL 158.930636 165.402019 \nL 159.539972 165.050782 \nL 159.844641 165.010712 \nL 160.149309 164.570196 \nL 160.453977 164.531809 \nL 160.758646 164.759179 \nL 161.063314 164.588083 \nL 161.367982 164.813942 \nL 161.977319 164.474455 \nL 162.586655 164.660674 \nL 162.891324 164.883013 \nL 163.50066 164.806651 \nL 164.109997 165.245345 \nL 164.719334 165.167777 \nL 165.32867 165.345241 \nL 165.938007 165.267985 \nL 166.242675 165.35568 \nL 166.852012 165.279019 \nL 167.15668 165.116076 \nL 167.461348 165.203214 \nL 167.766017 165.414101 \nL 168.070685 165.376039 \nL 168.680021 165.177334 \nL 169.898695 165.030164 \nL 170.203363 165.236915 \nL 170.8127 165.163608 \nL 171.117368 165.247784 \nL 171.726705 164.455712 \nL 172.031373 164.541114 \nL 172.336041 164.26834 \nL 172.640709 164.353781 \nL 172.945378 164.320167 \nL 173.250046 164.405018 \nL 174.773388 164.23892 \nL 175.078056 163.973363 \nL 175.382724 163.941439 \nL 175.992061 164.224671 \nL 176.296729 164.422793 \nL 176.601397 164.39004 \nL 176.906066 164.586718 \nL 178.124739 164.455712 \nL 179.343412 164.888925 \nL 179.64808 165.07989 \nL 180.257417 165.013065 \nL 180.866754 165.279642 \nL 181.171422 165.135349 \nL 182.085427 165.255816 \nL 182.999432 164.938479 \nL 184.827442 165.391899 \nL 186.350783 165.335234 \nL 187.264788 165.449432 \nL 187.874125 165.279907 \nL 188.178793 165.038766 \nL 190.006803 164.956936 \nL 190.311471 165.132273 \nL 191.530144 165.111496 \nL 191.834813 165.284467 \nL 192.139481 165.152017 \nL 192.748818 165.192173 \nL 193.967491 165.17123 \nL 194.576827 165.410204 \nL 194.881496 165.578642 \nL 195.186164 165.448491 \nL 195.490832 165.517033 \nL 195.795501 165.387598 \nL 196.709506 165.886363 \nL 197.318842 165.628719 \nL 198.842184 165.864592 \nL 199.756189 165.773126 \nL 200.365525 165.999746 \nL 200.974862 166.033951 \nL 201.584198 165.973031 \nL 201.888867 166.132024 \nL 205.849555 165.836968 \nL 207.982233 166.180306 \nL 208.591569 165.940841 \nL 209.200906 166.153484 \nL 209.810243 166.274734 \nL 210.114911 166.066531 \nL 211.028916 166.336429 \nL 211.333584 166.484859 \nL 212.247589 166.220647 \nL 212.552257 166.280063 \nL 212.856926 165.987651 \nL 213.161594 166.135013 \nL 214.075599 166.137591 \nL 214.989604 166.400239 \nL 215.294272 166.19867 \nL 217.122282 166.630657 \nL 217.42695 166.772824 \nL 218.950292 166.630008 \nL 219.25496 166.348584 \nL 220.168965 166.349857 \nL 220.473633 166.406118 \nL 221.08297 166.100782 \nL 221.692307 166.047126 \nL 222.301643 166.242339 \nL 222.606311 166.215398 \nL 223.215648 165.832362 \nL 224.129653 165.918367 \nL 224.434321 165.810564 \nL 225.043658 165.840507 \nL 225.652994 165.789078 \nL 225.957663 165.925531 \nL 227.481004 165.87786 \nL 228.090341 165.907027 \nL 228.395009 165.881604 \nL 228.699678 165.696863 \nL 229.613682 165.860111 \nL 229.918351 165.755861 \nL 230.527687 165.863909 \nL 230.832356 165.760202 \nL 231.441692 165.789224 \nL 231.746361 165.686199 \nL 232.355697 165.715321 \nL 232.965034 165.588729 \nL 235.40238 165.934611 \nL 236.316385 165.78532 \nL 236.621053 165.608969 \nL 239.0584 166.022691 \nL 239.363068 165.848613 \nL 240.88641 165.656343 \nL 241.191078 165.484624 \nL 241.495746 165.609983 \nL 241.800415 165.51291 \nL 242.71442 165.591817 \nL 243.019088 165.568939 \nL 243.628424 165.816489 \nL 244.542429 165.747298 \nL 244.847098 165.506011 \nL 245.761103 165.583665 \nL 246.065771 165.488846 \nL 246.675107 165.588477 \nL 246.979776 165.422147 \nL 248.503117 165.669352 \nL 249.112454 165.482483 \nL 249.721791 165.651478 \nL 250.026459 165.700163 \nL 250.331127 165.536564 \nL 252.159137 165.82653 \nL 252.463805 165.734461 \nL 252.768474 165.503035 \nL 253.987147 165.694749 \nL 254.596483 165.582201 \nL 255.815157 165.496673 \nL 256.424493 165.728423 \nL 257.338498 165.52767 \nL 258.86184 165.761282 \nL 259.166508 165.6048 \nL 260.080513 165.676483 \nL 260.385181 165.588258 \nL 260.994518 165.613555 \nL 261.908523 165.61787 \nL 262.213191 165.663692 \nL 262.517859 165.509928 \nL 263.127196 165.535192 \nL 263.431864 165.31612 \nL 264.041201 165.341848 \nL 264.345869 165.321707 \nL 264.650537 165.433215 \nL 264.955206 165.413001 \nL 265.259874 165.261649 \nL 266.478547 165.247605 \nL 267.697221 165.622734 \nL 268.001889 165.602534 \nL 268.306557 165.45311 \nL 268.915894 165.671215 \nL 269.220562 165.651067 \nL 269.829899 165.418409 \nL 270.439235 165.315073 \nL 271.657908 165.428324 \nL 273.18125 165.394338 \nL 273.790587 165.60767 \nL 274.399923 165.631344 \nL 274.704592 165.674489 \nL 275.00926 165.592235 \nL 275.313928 165.635313 \nL 276.532601 165.371009 \nL 277.751275 165.295224 \nL 278.055943 165.152865 \nL 278.665279 165.177334 \nL 278.969948 165.09724 \nL 280.493289 165.372122 \nL 281.407294 165.620428 \nL 284.453977 165.973415 \nL 285.063314 165.815402 \nL 286.281987 165.799616 \nL 287.805329 166.061057 \nL 288.109997 166.160178 \nL 291.461348 166.010887 \nL 291.766017 166.108523 \nL 292.070685 165.973654 \nL 292.98469 166.091663 \nL 293.594026 165.766021 \nL 294.508031 165.769156 \nL 295.726705 165.982906 \nL 296.336041 166.060447 \nL 296.640709 165.985172 \nL 297.250046 166.062416 \nL 299.382724 165.991879 \nL 299.992061 166.068221 \nL 300.296729 165.99408 \nL 300.601397 165.752077 \nL 301.515402 165.755165 \nL 302.124739 165.664441 \nL 302.429407 165.535855 \nL 302.734076 165.574168 \nL 303.343412 165.373567 \nL 303.952749 165.450214 \nL 305.780759 165.677895 \nL 306.085427 165.551191 \nL 306.694764 165.517278 \nL 311.874125 165.28912 \nL 312.483461 165.416785 \nL 313.702135 165.245193 \nL 314.006803 165.335234 \nL 315.225476 165.112219 \nL 316.139481 165.170043 \nL 316.748818 165.138351 \nL 318.272159 165.216376 \nL 319.490832 165.205401 \nL 319.795501 165.293494 \nL 320.404837 165.106625 \nL 321.318842 165.111728 \nL 321.928179 165.183749 \nL 323.45152 165.311169 \nL 324.060857 165.228962 \nL 329.544886 165.806515 \nL 331.372896 165.662572 \nL 331.677564 165.547771 \nL 332.896238 165.585276 \nL 334.724248 165.444548 \nL 335.028916 165.33137 \nL 336.856926 165.436966 \nL 339.294272 165.028314 \nL 340.817614 165.148729 \nL 341.42695 165.119847 \nL 342.340955 165.124532 \nL 342.950292 164.952847 \nL 344.778302 165.105299 \nL 345.08297 165.043776 \nL 345.996975 165.190138 \nL 347.824985 165.058284 \nL 348.129653 164.95064 \nL 348.73899 165.063062 \nL 349.348326 164.941905 \nL 349.652994 164.881515 \nL 350.262331 164.993494 \nL 352.699678 164.929777 \nL 353.004346 165.008213 \nL 353.309014 164.948506 \nL 353.613682 165.026764 \nL 353.918351 164.921261 \nL 354.527687 164.939937 \nL 354.832356 164.880608 \nL 355.441692 164.990631 \nL 356.051029 164.963498 \nL 356.660365 164.709088 \nL 357.57437 164.578772 \nL 359.097712 164.649036 \nL 361.535058 164.634694 \nL 363.363068 164.779757 \nL 363.363068 164.779757 \n\" style=\"fill:none;stroke:#d62728;stroke-linecap:square;stroke-width:1.5;\"/>\n   </g>\n   <g id=\"line2d_17\">\n    <path clip-path=\"url(#p2759b6ba61)\" d=\"M 58.999432 18.319091 \nL 59.3041 107.271813 \nL 59.608768 122.097267 \nL 59.913437 96.152733 \nL 60.522773 122.097267 \nL 60.827442 139.040649 \nL 61.13211 140.629094 \nL 61.436778 146.806363 \nL 61.741447 142.85291 \nL 62.046115 135.57496 \nL 62.655451 144.905663 \nL 62.96012 139.040649 \nL 63.264788 142.85291 \nL 63.569456 137.849317 \nL 64.178793 139.393636 \nL 64.483461 144.725601 \nL 64.78813 147.300548 \nL 65.092798 147.512337 \nL 65.397466 143.66157 \nL 65.702135 144.013165 \nL 66.006803 146.188634 \nL 66.311471 144.631961 \nL 66.616139 144.905663 \nL 66.920808 143.511815 \nL 67.225476 143.805976 \nL 67.530144 142.546176 \nL 67.834813 145.817998 \nL 68.748818 146.357105 \nL 69.053486 147.823796 \nL 69.358154 147.93592 \nL 69.967491 150.546119 \nL 70.272159 150.577752 \nL 70.576827 149.467341 \nL 71.186164 151.74818 \nL 71.795501 151.74818 \nL 72.404837 153.72491 \nL 72.709506 153.681938 \nL 73.014174 152.694487 \nL 73.62351 154.471226 \nL 73.928179 154.416761 \nL 74.537515 156.024757 \nL 74.842184 155.944067 \nL 75.45152 154.174168 \nL 75.756189 154.130844 \nL 76.060857 154.869333 \nL 76.365525 154.815518 \nL 76.670193 154.009694 \nL 76.974862 154.713275 \nL 77.27953 156.122904 \nL 77.584198 156.052347 \nL 78.193535 154.527957 \nL 78.498203 155.169439 \nL 79.716877 154.971105 \nL 80.326213 156.133176 \nL 80.630881 156.072269 \nL 80.93555 157.231571 \nL 81.240218 157.758503 \nL 82.154223 157.524334 \nL 82.458891 158.020488 \nL 82.76356 157.378098 \nL 83.372896 157.239093 \nL 83.677564 158.256917 \nL 83.982233 158.178501 \nL 84.286901 157.572469 \nL 84.591569 158.550449 \nL 84.896238 158.471356 \nL 85.505574 159.329378 \nL 85.810243 160.243668 \nL 86.419579 161.034454 \nL 87.333584 159.318628 \nL 87.638252 159.238939 \nL 87.942921 158.697612 \nL 88.247589 159.084492 \nL 88.552257 159.91731 \nL 88.856926 159.38554 \nL 89.161594 159.309164 \nL 89.466262 158.353579 \nL 89.770931 159.160907 \nL 90.075599 159.520747 \nL 90.380267 160.301327 \nL 90.684936 159.796285 \nL 91.903609 161.133104 \nL 92.208277 160.643451 \nL 92.817614 162.073055 \nL 93.122282 161.588088 \nL 93.42695 162.28206 \nL 93.731619 162.577208 \nL 94.036287 161.717019 \nL 94.340955 162.011956 \nL 94.645623 161.924977 \nL 94.950292 161.465705 \nL 95.25496 161.38473 \nL 95.559628 162.040236 \nL 95.864297 162.320433 \nL 96.778302 162.066699 \nL 97.08297 161.631816 \nL 97.387638 161.553996 \nL 97.692307 161.824855 \nL 98.301643 161.669832 \nL 98.606311 160.915066 \nL 99.215648 161.446034 \nL 99.520316 161.373662 \nL 99.824985 161.631816 \nL 100.129653 161.232112 \nL 100.434321 161.162888 \nL 100.73899 160.772369 \nL 101.043658 161.347397 \nL 101.652994 161.842107 \nL 101.957663 161.457811 \nL 102.262331 161.700934 \nL 102.566999 161.014094 \nL 102.871668 160.950185 \nL 103.176336 160.277899 \nL 103.481004 159.91731 \nL 103.785673 160.162627 \nL 104.090341 160.703152 \nL 104.395009 160.939965 \nL 104.699678 161.468183 \nL 105.004346 161.696845 \nL 105.309014 162.213207 \nL 105.613682 162.145255 \nL 105.918351 162.365122 \nL 106.223019 162.011956 \nL 106.527687 161.946582 \nL 107.441692 160.921435 \nL 107.746361 160.311951 \nL 108.355697 160.7526 \nL 108.660365 160.697691 \nL 108.965034 160.913011 \nL 109.269702 160.857798 \nL 109.57437 161.069573 \nL 109.879039 161.543571 \nL 110.183707 161.485614 \nL 111.40238 162.28882 \nL 112.316385 162.109155 \nL 112.621053 161.548058 \nL 112.925722 161.742873 \nL 113.23039 161.687037 \nL 113.535058 161.38473 \nL 113.839727 161.82294 \nL 114.449063 162.198911 \nL 115.0584 161.605107 \nL 115.363068 161.791234 \nL 115.667736 162.213207 \nL 116.88641 161.994049 \nL 117.191078 162.172328 \nL 117.800415 162.064863 \nL 118.105083 162.468127 \nL 118.71442 161.907759 \nL 119.019088 161.407191 \nL 119.323756 161.58215 \nL 119.933093 161.484301 \nL 120.237761 161.656285 \nL 120.542429 161.607473 \nL 120.847098 161.777164 \nL 121.151766 162.162162 \nL 121.456434 162.327511 \nL 122.065771 162.225786 \nL 122.370439 162.388457 \nL 122.979776 161.866025 \nL 123.589112 162.188645 \nL 123.893781 162.555523 \nL 124.198449 162.505254 \nL 124.503117 162.661364 \nL 124.807786 163.020992 \nL 125.112454 162.969284 \nL 125.417122 163.121134 \nL 125.721791 162.867274 \nL 126.331127 163.167791 \nL 126.635795 162.917133 \nL 126.940464 163.26438 \nL 127.245132 163.015524 \nL 127.5498 162.965672 \nL 127.854469 163.112186 \nL 128.159137 163.062348 \nL 128.463805 163.207158 \nL 129.073142 163.8781 \nL 129.37781 163.825815 \nL 129.682479 164.155752 \nL 129.987147 164.292795 \nL 130.291815 164.61794 \nL 130.901152 164.884664 \nL 131.20582 165.203214 \nL 131.510488 164.774733 \nL 131.815157 164.720454 \nL 132.119825 165.035724 \nL 132.424493 164.613248 \nL 132.729162 164.743332 \nL 133.03383 165.054632 \nL 133.338498 165.00032 \nL 133.643166 165.12725 \nL 133.947835 165.073083 \nL 134.557171 165.323298 \nL 134.86184 165.268999 \nL 135.166508 165.037931 \nL 135.471176 165.161686 \nL 135.775845 164.932872 \nL 136.68985 165.299571 \nL 137.299186 165.194525 \nL 137.603854 165.486056 \nL 137.908523 165.604277 \nL 138.213191 165.380785 \nL 138.517859 165.328752 \nL 138.822528 165.446224 \nL 139.127196 165.73128 \nL 139.431864 165.846353 \nL 140.041201 165.407586 \nL 141.564542 165.974078 \nL 141.869211 165.759049 \nL 142.173879 165.870238 \nL 142.783216 165.767903 \nL 143.087884 165.556725 \nL 143.392552 165.507058 \nL 144.001889 165.726468 \nL 144.611225 166.258199 \nL 144.915894 166.364086 \nL 145.52523 166.261519 \nL 145.829899 166.366286 \nL 146.134567 166.625295 \nL 146.439235 166.264773 \nL 147.35324 166.115118 \nL 147.657908 165.761282 \nL 147.962577 165.865254 \nL 148.267245 165.514673 \nL 148.876582 166.022691 \nL 149.18125 165.974628 \nL 149.790587 166.176972 \nL 150.095255 166.12887 \nL 150.704592 165.591817 \nL 151.00926 165.692913 \nL 151.923265 166.428287 \nL 152.227933 165.945851 \nL 152.532601 166.044157 \nL 153.141938 165.951922 \nL 153.446606 166.192275 \nL 153.751275 166.145982 \nL 154.055943 165.95788 \nL 154.360611 165.912628 \nL 154.969948 166.104474 \nL 155.274616 166.059188 \nL 155.579284 165.874321 \nL 155.883953 165.830043 \nL 156.188621 165.647044 \nL 156.493289 165.603747 \nL 157.102626 165.931046 \nL 157.407294 166.024546 \nL 157.711963 165.843768 \nL 158.016631 165.80053 \nL 158.321299 165.893567 \nL 158.930636 165.402019 \nL 159.235304 165.49542 \nL 159.539972 165.31952 \nL 160.453977 165.863432 \nL 160.758646 165.954063 \nL 161.063314 165.779415 \nL 161.367982 165.473828 \nL 161.67265 165.564804 \nL 161.977319 165.524044 \nL 162.281987 165.221904 \nL 163.195992 165.10406 \nL 163.805329 164.768802 \nL 164.109997 164.731164 \nL 164.414665 164.565576 \nL 165.024002 164.747004 \nL 165.633338 165.053075 \nL 165.938007 164.888925 \nL 166.547343 164.814684 \nL 166.852012 164.903161 \nL 167.15668 164.741278 \nL 167.461348 164.829463 \nL 167.766017 164.544454 \nL 168.070685 164.508812 \nL 168.680021 164.68452 \nL 168.98469 164.648784 \nL 169.289358 164.490719 \nL 169.898695 164.786457 \nL 170.203363 164.629313 \nL 170.508031 164.715404 \nL 170.8127 164.438448 \nL 171.117368 164.404058 \nL 171.726705 164.81536 \nL 172.031373 164.660674 \nL 172.336041 164.745294 \nL 172.640709 164.710546 \nL 172.945378 164.794583 \nL 173.250046 164.523306 \nL 173.859383 164.691041 \nL 174.164051 164.422184 \nL 174.468719 164.388834 \nL 174.773388 164.472394 \nL 175.078056 164.439084 \nL 175.687393 164.836276 \nL 175.992061 164.68676 \nL 176.296729 164.768464 \nL 176.601397 164.734823 \nL 177.515402 164.977051 \nL 177.820071 164.829463 \nL 178.124739 165.023012 \nL 178.429407 164.989239 \nL 178.734076 165.068517 \nL 179.343412 164.439667 \nL 179.952749 164.040645 \nL 180.257417 164.121309 \nL 180.562085 163.645607 \nL 181.171422 163.697056 \nL 182.085427 163.608546 \nL 182.694764 163.8781 \nL 185.436778 163.508756 \nL 186.350783 163.212255 \nL 186.96012 163.263439 \nL 187.569456 163.52443 \nL 189.092798 163.282937 \nL 189.397466 163.048702 \nL 190.311471 163.176135 \nL 191.530144 162.969284 \nL 191.834813 162.638274 \nL 192.444149 162.689975 \nL 194.272159 163.04218 \nL 195.490832 162.644398 \nL 195.795501 162.817853 \nL 196.100169 162.793311 \nL 196.404837 162.965672 \nL 198.842184 162.770586 \nL 199.146852 162.939633 \nL 199.45152 162.91541 \nL 200.060857 163.250688 \nL 201.584198 163.128059 \nL 201.888867 162.914588 \nL 202.498203 163.055733 \nL 202.802872 162.937797 \nL 203.412208 163.171582 \nL 204.021545 162.843965 \nL 205.240218 163.121558 \nL 205.849555 162.890291 \nL 206.76356 163.096062 \nL 207.372896 162.684991 \nL 208.591569 162.867274 \nL 210.114911 162.397451 \nL 210.419579 162.376071 \nL 210.724248 162.087377 \nL 212.247589 162.33779 \nL 212.552257 162.140682 \nL 212.856926 162.208037 \nL 213.466262 161.81665 \nL 213.770931 161.971628 \nL 214.380267 161.844579 \nL 215.59894 162.370689 \nL 216.512945 162.309173 \nL 216.817614 162.031733 \nL 218.036287 162.038121 \nL 218.645623 162.253078 \nL 218.950292 162.233102 \nL 219.864297 162.594022 \nL 220.168965 162.657481 \nL 220.473633 162.553177 \nL 220.778302 162.616463 \nL 221.387638 162.409182 \nL 221.692307 162.472388 \nL 222.301643 162.349627 \nL 222.91098 162.392805 \nL 223.215648 162.537821 \nL 223.520316 162.517873 \nL 223.824985 162.333887 \nL 224.129653 162.314389 \nL 224.434321 162.458484 \nL 224.73899 162.357222 \nL 225.043658 162.419249 \nL 225.348326 162.237125 \nL 226.871668 162.142113 \nL 227.176336 161.962462 \nL 227.785673 161.84552 \nL 228.090341 161.747367 \nL 229.309014 161.914207 \nL 231.137024 161.727862 \nL 231.441692 161.631816 \nL 231.746361 161.692723 \nL 232.051029 161.440746 \nL 233.879039 161.881056 \nL 234.488375 161.614691 \nL 235.097712 161.657425 \nL 235.40238 161.410286 \nL 236.925722 161.707847 \nL 237.535058 161.598142 \nL 238.144395 161.5647 \nL 238.449063 161.698827 \nL 239.0584 161.590083 \nL 239.363068 161.498478 \nL 239.972405 161.689959 \nL 241.191078 162.143326 \nL 241.495746 162.126002 \nL 242.409751 162.443161 \nL 245.456434 162.34125 \nL 246.065771 162.596077 \nL 246.675107 162.488824 \nL 248.198449 162.688511 \nL 249.112454 162.564835 \nL 249.417122 162.33441 \nL 250.940464 162.321009 \nL 252.768474 162.570528 \nL 253.682479 162.380809 \nL 254.291815 162.416969 \nL 254.901152 162.59102 \nL 256.119825 162.249545 \nL 257.03383 162.474429 \nL 257.643166 162.101023 \nL 259.166508 162.29273 \nL 259.471176 162.209237 \nL 259.775845 162.328167 \nL 261.299186 162.315495 \nL 261.908523 162.350495 \nL 262.213191 162.334622 \nL 262.517859 162.451763 \nL 262.822528 162.369403 \nL 264.041201 162.504333 \nL 264.650537 162.538305 \nL 265.869211 162.736461 \nL 266.783216 162.49284 \nL 267.087884 162.607178 \nL 268.001889 162.624496 \nL 268.306557 162.737978 \nL 268.915894 162.770586 \nL 269.220562 162.818999 \nL 269.829899 162.594513 \nL 270.134567 162.707054 \nL 270.743904 162.611658 \nL 271.048572 162.468451 \nL 271.35324 162.516812 \nL 271.657908 162.374149 \nL 274.704592 162.224281 \nL 275.618596 162.492469 \nL 276.227933 162.524666 \nL 278.055943 162.743724 \nL 278.360611 162.728474 \nL 278.969948 162.88265 \nL 280.493289 163.050557 \nL 281.102626 163.019587 \nL 282.321299 163.382323 \nL 282.625967 163.366497 \nL 282.930636 163.108992 \nL 283.539972 163.259005 \nL 284.149309 163.287994 \nL 284.758646 163.196952 \nL 285.367982 163.106394 \nL 285.977319 163.135562 \nL 286.281987 163.060777 \nL 287.195992 163.13413 \nL 287.805329 163.044705 \nL 288.109997 162.793444 \nL 290.547343 163.086439 \nL 292.98469 163.026321 \nL 293.898695 163.155331 \nL 294.508031 163.068392 \nL 295.422036 163.25365 \nL 295.726705 163.067358 \nL 296.945378 163.293839 \nL 297.250046 163.108681 \nL 297.554714 163.150924 \nL 298.164051 163.121909 \nL 298.468719 163.220486 \nL 298.773388 163.149486 \nL 299.382724 163.289518 \nL 299.992061 163.316532 \nL 300.601397 163.399422 \nL 300.906066 163.328819 \nL 301.210734 163.426018 \nL 301.515402 163.243954 \nL 302.124739 163.270842 \nL 302.734076 163.242072 \nL 305.47609 163.224185 \nL 307.608768 163.39805 \nL 308.218105 163.423904 \nL 308.827442 163.557985 \nL 311.874125 163.469389 \nL 312.483461 163.54803 \nL 313.092798 163.466506 \nL 314.006803 163.689925 \nL 314.311471 163.781716 \nL 316.139481 163.485732 \nL 321.014174 163.370924 \nL 322.537515 163.457896 \nL 323.756189 163.506304 \nL 324.670193 163.567787 \nL 325.888867 163.311025 \nL 326.193535 163.399164 \nL 326.498203 163.335314 \nL 327.10754 163.460461 \nL 329.544886 163.054885 \nL 331.068228 163.091144 \nL 335.333584 163.553034 \nL 335.638252 163.442189 \nL 337.770931 163.595596 \nL 338.684936 163.605318 \nL 339.294272 163.676153 \nL 340.208277 163.685558 \nL 341.122282 163.694909 \nL 341.731619 163.764942 \nL 342.645623 163.678539 \nL 343.559628 163.830534 \nL 344.168965 163.709808 \nL 344.473633 163.697056 \nL 344.778302 163.494865 \nL 345.692307 163.69353 \nL 346.301643 163.762456 \nL 349.652994 164.043217 \nL 350.262331 163.97105 \nL 351.785673 164.046219 \nL 353.613682 164.061887 \nL 355.137024 164.181453 \nL 356.051029 164.052091 \nL 357.879039 164.158085 \nL 358.183707 164.100213 \nL 358.793044 164.165441 \nL 360.621053 164.314659 \nL 360.925722 164.167489 \nL 361.23039 164.24456 \nL 361.535058 164.097755 \nL 363.0584 164.08047 \nL 363.363068 164.157091 \nL 363.363068 164.157091 \n\" style=\"fill:none;stroke:#9467bd;stroke-linecap:square;stroke-width:1.5;\"/>\n   </g>\n   <g id=\"line2d_18\">\n    <path clip-path=\"url(#p2759b6ba61)\" d=\"M 58.999432 196.224545 \nL 59.3041 173.986361 \nL 59.608768 166.573634 \nL 59.913437 185.105455 \nL 60.218105 196.224545 \nL 60.522773 188.811818 \nL 60.827442 164.455712 \nL 61.13211 168.426821 \nL 61.436778 161.631816 \nL 61.741447 169.538729 \nL 62.046115 171.96471 \nL 62.655451 168.854473 \nL 62.96012 170.809478 \nL 63.264788 175.468912 \nL 63.874125 177.910746 \nL 64.178793 173.986361 \nL 65.092798 177.163244 \nL 65.397466 176.008019 \nL 65.702135 178.820754 \nL 66.311471 180.213051 \nL 66.616139 179.118249 \nL 66.920808 179.751817 \nL 67.225476 181.928572 \nL 67.530144 180.887869 \nL 67.834813 178.434 \nL 68.139481 177.573168 \nL 68.444149 175.376253 \nL 68.748818 171.96471 \nL 69.053486 172.678233 \nL 69.358154 172.080234 \nL 69.662822 167.809092 \nL 69.967491 169.779141 \nL 70.272159 170.475075 \nL 70.576827 172.275732 \nL 70.881496 172.874453 \nL 71.186164 172.359179 \nL 71.490832 169.750517 \nL 71.795501 169.331858 \nL 72.100169 166.910576 \nL 72.404837 166.573634 \nL 72.709506 168.185096 \nL 73.014174 166.88907 \nL 73.318842 166.573634 \nL 74.232847 168.317805 \nL 74.537515 167.999162 \nL 74.842184 168.531714 \nL 75.146852 169.868182 \nL 75.45152 169.538729 \nL 75.756189 170.809478 \nL 76.060857 171.255356 \nL 76.365525 172.452699 \nL 76.670193 172.101773 \nL 76.974862 171.021273 \nL 77.27953 171.434444 \nL 77.584198 170.399561 \nL 78.498203 171.591483 \nL 78.802872 171.290826 \nL 79.10754 171.662973 \nL 79.412208 171.370104 \nL 79.716877 171.730315 \nL 80.021545 171.444856 \nL 80.326213 172.420297 \nL 80.630881 172.75091 \nL 80.93555 173.681728 \nL 81.240218 173.986361 \nL 81.849555 173.401147 \nL 83.068228 174.542315 \nL 83.677564 173.986361 \nL 83.982233 174.254291 \nL 84.286901 173.456884 \nL 84.591569 174.247988 \nL 84.896238 174.503531 \nL 85.200906 173.730752 \nL 85.810243 173.236765 \nL 87.333584 174.459518 \nL 87.638252 174.220451 \nL 87.942921 174.912958 \nL 88.247589 175.132659 \nL 88.856926 173.761735 \nL 89.466262 174.206546 \nL 89.770931 173.550318 \nL 90.075599 173.770457 \nL 90.380267 173.13105 \nL 91.294272 172.531526 \nL 93.122282 173.789564 \nL 93.42695 173.20608 \nL 94.036287 173.602947 \nL 94.950292 175.294489 \nL 95.25496 175.468912 \nL 95.559628 176.008019 \nL 95.864297 176.173726 \nL 96.168965 175.975146 \nL 96.473633 176.138448 \nL 97.996975 175.193089 \nL 98.301643 174.670617 \nL 98.91098 174.997193 \nL 99.215648 174.822386 \nL 100.129653 175.294489 \nL 100.434321 174.797977 \nL 100.73899 174.630951 \nL 101.348326 174.939428 \nL 101.957663 173.986361 \nL 102.262331 173.830853 \nL 103.481004 174.440205 \nL 104.395009 173.096839 \nL 104.699678 173.25 \nL 105.004346 173.108543 \nL 105.309014 173.259623 \nL 105.613682 173.119942 \nL 105.918351 173.269001 \nL 106.223019 173.13105 \nL 106.527687 171.861699 \nL 106.832356 171.452902 \nL 107.137024 171.888421 \nL 107.441692 172.040522 \nL 107.746361 172.466988 \nL 108.051029 172.339091 \nL 108.355697 171.939903 \nL 108.965034 172.234263 \nL 109.269702 171.842923 \nL 109.879039 171.603704 \nL 110.183707 171.749389 \nL 110.793044 171.515452 \nL 111.40238 171.80111 \nL 111.707049 172.197083 \nL 112.011717 172.334385 \nL 112.316385 171.96471 \nL 113.23039 171.625886 \nL 114.144395 172.031356 \nL 114.449063 171.920525 \nL 114.753732 171.569168 \nL 115.363068 171.356041 \nL 115.667736 171.489028 \nL 116.277073 172.221426 \nL 116.581741 171.879586 \nL 116.88641 172.23991 \nL 117.191078 171.438242 \nL 117.495746 171.336218 \nL 118.105083 170.222978 \nL 118.71442 170.938489 \nL 119.019088 171.066201 \nL 119.323756 170.969121 \nL 119.628424 171.095401 \nL 119.933093 170.777872 \nL 120.237761 170.683662 \nL 120.847098 169.843958 \nL 121.151766 169.972644 \nL 121.456434 169.452366 \nL 121.761103 169.581702 \nL 122.065771 169.923621 \nL 122.979776 169.665201 \nL 123.284444 169.790481 \nL 123.893781 168.582693 \nL 124.198449 168.71126 \nL 124.503117 168.63273 \nL 124.807786 168.964841 \nL 125.417122 168.401431 \nL 126.026459 168.250722 \nL 126.331127 167.775703 \nL 126.635795 168.102716 \nL 126.940464 168.228261 \nL 127.5498 168.869617 \nL 127.854469 168.794189 \nL 128.463805 169.033754 \nL 128.768474 168.958598 \nL 129.073142 169.076633 \nL 129.682479 168.927893 \nL 130.291815 169.160206 \nL 130.596483 169.463341 \nL 131.20582 168.566972 \nL 131.815157 168.797457 \nL 132.119825 168.726708 \nL 132.729162 169.319094 \nL 133.03383 169.064797 \nL 133.643166 168.924015 \nL 133.947835 168.494342 \nL 134.252503 168.606161 \nL 134.557171 168.538454 \nL 134.86184 168.6492 \nL 135.166508 168.936256 \nL 135.471176 168.868053 \nL 135.775845 169.151975 \nL 136.080513 169.258558 \nL 136.68985 168.600554 \nL 136.994518 168.881102 \nL 137.299186 168.987083 \nL 137.908523 168.170224 \nL 138.213191 168.277709 \nL 138.822528 168.152012 \nL 139.431864 167.524706 \nL 139.736533 167.632595 \nL 140.041201 167.573107 \nL 140.345869 167.680015 \nL 140.650537 167.455449 \nL 141.259874 167.667767 \nL 141.869211 167.225302 \nL 142.173879 166.844175 \nL 142.478547 167.112741 \nL 142.783216 166.895929 \nL 143.087884 167.162374 \nL 143.697221 167.051874 \nL 144.001889 167.156065 \nL 145.220562 166.312624 \nL 145.52523 166.573634 \nL 145.829899 166.677308 \nL 146.134567 166.625295 \nL 146.439235 166.728068 \nL 146.743904 166.676234 \nL 147.048572 166.931492 \nL 147.35324 167.032157 \nL 147.657908 167.284446 \nL 147.962577 167.23142 \nL 148.267245 167.481316 \nL 148.571913 167.578753 \nL 149.18125 167.47215 \nL 149.485918 166.971635 \nL 150.095255 166.870148 \nL 150.399923 167.115432 \nL 150.704592 167.064546 \nL 151.00926 166.867212 \nL 151.313928 167.110083 \nL 151.618596 166.91389 \nL 151.923265 167.009677 \nL 152.227933 166.959971 \nL 152.532601 167.199389 \nL 153.141938 166.669282 \nL 153.446606 166.621306 \nL 154.360611 166.904141 \nL 154.665279 166.856025 \nL 154.969948 166.948962 \nL 155.579284 166.853361 \nL 155.883953 166.527162 \nL 156.797958 167.218224 \nL 157.102626 167.308027 \nL 157.407294 167.122729 \nL 158.321299 166.981676 \nL 158.625967 167.070829 \nL 158.930636 167.024257 \nL 159.235304 167.247518 \nL 159.539972 167.066322 \nL 159.844641 166.752258 \nL 160.453977 167.061902 \nL 160.758646 166.617893 \nL 161.367982 167.057554 \nL 161.67265 167.012262 \nL 161.977319 167.098432 \nL 162.891324 166.963782 \nL 163.50066 167.263192 \nL 163.805329 167.218224 \nL 164.109997 167.430602 \nL 164.719334 167.340468 \nL 165.024002 167.040912 \nL 165.633338 166.953774 \nL 165.938007 167.036929 \nL 166.547343 166.824916 \nL 167.15668 166.990079 \nL 167.461348 166.947385 \nL 168.070685 166.61493 \nL 168.375353 166.697184 \nL 168.98469 166.614592 \nL 169.289358 166.696163 \nL 169.594026 166.655093 \nL 169.898695 166.736107 \nL 170.508031 166.169675 \nL 170.8127 166.251346 \nL 171.422036 166.533564 \nL 171.726705 166.373835 \nL 172.031373 166.573634 \nL 172.640709 166.375432 \nL 173.250046 166.297632 \nL 173.859383 166.102989 \nL 174.164051 166.182466 \nL 174.773388 166.106694 \nL 175.382724 166.263964 \nL 176.296729 166.151151 \nL 176.601397 166.228859 \nL 177.210734 166.040074 \nL 178.429407 166.347292 \nL 178.734076 166.310238 \nL 179.038744 166.498571 \nL 179.343412 166.349008 \nL 180.562085 166.758952 \nL 180.866754 166.38878 \nL 181.47609 166.316123 \nL 182.085427 165.914729 \nL 183.608768 166.392836 \nL 184.218105 166.645602 \nL 186.046115 166.963782 \nL 186.350783 166.821317 \nL 186.96012 167.066647 \nL 187.569456 166.783925 \nL 188.78813 166.955557 \nL 189.397466 166.988336 \nL 189.702135 167.159757 \nL 190.006803 167.124001 \nL 190.311471 166.779544 \nL 193.662822 167.510682 \nL 193.967491 167.475186 \nL 194.272159 167.63974 \nL 194.576827 167.404662 \nL 195.186164 167.434042 \nL 196.100169 167.329699 \nL 196.404837 167.098432 \nL 197.928179 167.319777 \nL 201.888867 166.983704 \nL 203.10754 167.136627 \nL 205.240218 166.912677 \nL 205.544886 167.065765 \nL 207.068228 166.908502 \nL 207.372896 166.604015 \nL 208.286901 166.694414 \nL 209.200906 166.60365 \nL 209.810243 166.812754 \nL 210.114911 166.871938 \nL 210.724248 166.722189 \nL 211.028916 166.69224 \nL 211.333584 166.484859 \nL 211.942921 166.514689 \nL 212.552257 166.368135 \nL 212.856926 166.51504 \nL 213.466262 166.544453 \nL 214.380267 166.718697 \nL 214.989604 166.48694 \nL 215.903609 166.832219 \nL 216.512945 166.859843 \nL 217.42695 166.858192 \nL 217.731619 166.573634 \nL 218.340955 166.771684 \nL 218.645623 166.743073 \nL 219.25496 166.939353 \nL 220.778302 166.796576 \nL 221.387638 167.073374 \nL 221.692307 166.878459 \nL 224.129653 167.31081 \nL 224.73899 167.172097 \nL 225.652994 167.412304 \nL 225.957663 167.545795 \nL 226.566999 167.246298 \nL 227.785673 167.214738 \nL 228.090341 167.26691 \nL 228.395009 167.079352 \nL 229.004346 167.104066 \nL 229.309014 167.076641 \nL 229.613682 166.89076 \nL 231.137024 167.071313 \nL 231.441692 166.965843 \nL 232.355697 167.041807 \nL 232.660365 166.859239 \nL 232.965034 166.910576 \nL 233.269702 166.728877 \nL 233.57437 166.780266 \nL 233.879039 166.599422 \nL 234.488375 166.779186 \nL 235.097712 166.650453 \nL 236.316385 166.777072 \nL 236.925722 166.649665 \nL 237.535058 166.826201 \nL 237.839727 166.649274 \nL 238.753732 166.573634 \nL 239.0584 166.398337 \nL 239.667736 166.648512 \nL 240.581741 166.499134 \nL 240.88641 166.400093 \nL 241.495746 166.573634 \nL 241.800415 166.400961 \nL 242.105083 166.376619 \nL 242.409751 166.204847 \nL 243.323756 166.280063 \nL 244.237761 166.062416 \nL 244.542429 166.038948 \nL 245.151766 166.210269 \nL 245.761103 166.235599 \nL 246.065771 166.356676 \nL 249.721791 166.148023 \nL 251.854469 166.409948 \nL 252.463805 166.223981 \nL 253.073142 166.24831 \nL 253.37781 166.156016 \nL 254.291815 166.227248 \nL 254.596483 166.135557 \nL 256.119825 166.642275 \nL 257.338498 166.619112 \nL 258.252503 166.686805 \nL 258.557171 166.528435 \nL 260.385181 166.461663 \nL 261.299186 166.529051 \nL 264.041201 166.397668 \nL 264.345869 166.507744 \nL 265.259874 166.508035 \nL 266.783216 166.660461 \nL 267.087884 166.573634 \nL 268.306557 166.939962 \nL 268.611225 166.853361 \nL 268.915894 166.895929 \nL 269.220562 166.809639 \nL 270.743904 166.957055 \nL 271.962577 166.933686 \nL 272.267245 166.975466 \nL 272.571913 166.827063 \nL 273.18125 166.847403 \nL 273.485918 166.762896 \nL 273.790587 166.867623 \nL 274.095255 166.783335 \nL 275.618596 166.990079 \nL 276.532601 166.801719 \nL 277.751275 166.903551 \nL 279.274616 166.798883 \nL 279.883953 166.941208 \nL 280.493289 166.716192 \nL 280.797958 166.69566 \nL 281.407294 166.411386 \nL 281.711963 166.512873 \nL 282.016631 166.432058 \nL 283.539972 166.694168 \nL 283.844641 166.553573 \nL 285.67265 166.792534 \nL 286.891324 166.534048 \nL 287.50066 166.672344 \nL 288.109997 166.691769 \nL 289.024002 166.750131 \nL 289.938007 166.632234 \nL 290.547343 166.47623 \nL 294.203363 166.93804 \nL 294.508031 166.803489 \nL 295.117368 166.822 \nL 295.726705 166.726086 \nL 296.945378 166.706343 \nL 297.250046 166.800845 \nL 297.859383 166.592523 \nL 300.906066 166.405799 \nL 301.515402 166.536434 \nL 301.820071 166.517904 \nL 302.429407 166.647763 \nL 303.038744 166.610609 \nL 303.64808 166.684274 \nL 306.085427 166.591893 \nL 306.694764 166.664703 \nL 307.608768 166.555488 \nL 308.218105 166.519328 \nL 309.13211 166.573634 \nL 311.874125 166.841246 \nL 312.178793 166.716192 \nL 314.006803 166.87439 \nL 314.616139 166.679535 \nL 315.834813 166.924951 \nL 319.490832 167.231778 \nL 319.795501 167.109911 \nL 321.62351 167.209257 \nL 321.928179 167.088412 \nL 322.537515 167.207057 \nL 324.060857 166.965127 \nL 324.974862 167.116446 \nL 326.193535 167.198401 \nL 326.802872 167.112741 \nL 328.630881 167.309889 \nL 329.240218 167.174668 \nL 330.154223 167.222565 \nL 331.068228 167.021388 \nL 331.982233 167.168637 \nL 332.286901 167.052411 \nL 333.200906 167.100175 \nL 333.505574 167.033847 \nL 333.810243 167.115432 \nL 335.333584 166.883861 \nL 335.942921 166.997224 \nL 336.856926 167.044544 \nL 337.161594 167.125128 \nL 338.075599 166.977819 \nL 338.989604 167.121536 \nL 340.512945 167.134599 \nL 341.42695 167.276566 \nL 341.731619 167.211975 \nL 342.645623 167.400805 \nL 343.559628 167.255451 \nL 344.778302 167.473582 \nL 345.08297 167.551488 \nL 345.996975 167.312553 \nL 349.043658 167.242574 \nL 352.395009 167.481004 \nL 355.746361 167.394741 \nL 359.097712 167.67126 \nL 359.40238 167.519941 \nL 360.011717 167.533017 \nL 360.621053 167.501165 \nL 361.839727 167.706034 \nL 362.144395 167.734665 \nL 362.449063 167.629414 \nL 363.0584 167.686656 \nL 363.363068 167.670723 \nL 363.363068 167.670723 \n\" style=\"fill:none;stroke:#8c564b;stroke-linecap:square;stroke-width:1.5;\"/>\n   </g>\n   <g id=\"line2d_19\">\n    <path clip-path=\"url(#p2759b6ba61)\" d=\"M 43.78125 166.425382 \nL 378.58125 166.425382 \n\" style=\"fill:none;stroke:#000000;stroke-dasharray:5.55,2.4;stroke-dashoffset:0;stroke-width:1.5;\"/>\n   </g>\n   <g id=\"patch_3\">\n    <path d=\"M 43.78125 251.82 \nL 43.78125 7.2 \n\" style=\"fill:none;stroke:#000000;stroke-linecap:square;stroke-linejoin:miter;stroke-width:0.8;\"/>\n   </g>\n   <g id=\"patch_4\">\n    <path d=\"M 378.58125 251.82 \nL 378.58125 7.2 \n\" style=\"fill:none;stroke:#000000;stroke-linecap:square;stroke-linejoin:miter;stroke-width:0.8;\"/>\n   </g>\n   <g id=\"patch_5\">\n    <path d=\"M 43.78125 251.82 \nL 378.58125 251.82 \n\" style=\"fill:none;stroke:#000000;stroke-linecap:square;stroke-linejoin:miter;stroke-width:0.8;\"/>\n   </g>\n   <g id=\"patch_6\">\n    <path d=\"M 43.78125 7.2 \nL 378.58125 7.2 \n\" style=\"fill:none;stroke:#000000;stroke-linecap:square;stroke-linejoin:miter;stroke-width:0.8;\"/>\n   </g>\n   <g id=\"legend_1\">\n    <g id=\"patch_7\">\n     <path d=\"M 295.726562 103.26875 \nL 371.58125 103.26875 \nQ 373.58125 103.26875 373.58125 101.26875 \nL 373.58125 14.2 \nQ 373.58125 12.2 371.58125 12.2 \nL 295.726562 12.2 \nQ 293.726562 12.2 293.726562 14.2 \nL 293.726562 101.26875 \nQ 293.726562 103.26875 295.726562 103.26875 \nz\n\" style=\"fill:#ffffff;opacity:0.8;stroke:#cccccc;stroke-linejoin:miter;\"/>\n    </g>\n    <g id=\"line2d_20\">\n     <path d=\"M 297.726562 20.298437 \nL 317.726562 20.298437 \n\" style=\"fill:none;stroke:#1f77b4;stroke-linecap:square;stroke-width:1.5;\"/>\n    </g>\n    <g id=\"line2d_21\"/>\n    <g id=\"text_15\">\n     <!-- P(die=1) -->\n     <defs>\n      <path d=\"M 19.671875 64.796875 \nL 19.671875 37.40625 \nL 32.078125 37.40625 \nQ 38.96875 37.40625 42.71875 40.96875 \nQ 46.484375 44.53125 46.484375 51.125 \nQ 46.484375 57.671875 42.71875 61.234375 \nQ 38.96875 64.796875 32.078125 64.796875 \nz\nM 9.8125 72.90625 \nL 32.078125 72.90625 \nQ 44.34375 72.90625 50.609375 67.359375 \nQ 56.890625 61.8125 56.890625 51.125 \nQ 56.890625 40.328125 50.609375 34.8125 \nQ 44.34375 29.296875 32.078125 29.296875 \nL 19.671875 29.296875 \nL 19.671875 0 \nL 9.8125 0 \nz\n\" id=\"DejaVuSans-80\"/>\n      <path d=\"M 31 75.875 \nQ 24.46875 64.65625 21.28125 53.65625 \nQ 18.109375 42.671875 18.109375 31.390625 \nQ 18.109375 20.125 21.3125 9.0625 \nQ 24.515625 -2 31 -13.1875 \nL 23.1875 -13.1875 \nQ 15.875 -1.703125 12.234375 9.375 \nQ 8.59375 20.453125 8.59375 31.390625 \nQ 8.59375 42.28125 12.203125 53.3125 \nQ 15.828125 64.359375 23.1875 75.875 \nz\n\" id=\"DejaVuSans-40\"/>\n      <path d=\"M 10.59375 45.40625 \nL 73.1875 45.40625 \nL 73.1875 37.203125 \nL 10.59375 37.203125 \nz\nM 10.59375 25.484375 \nL 73.1875 25.484375 \nL 73.1875 17.1875 \nL 10.59375 17.1875 \nz\n\" id=\"DejaVuSans-61\"/>\n      <path d=\"M 8.015625 75.875 \nL 15.828125 75.875 \nQ 23.140625 64.359375 26.78125 53.3125 \nQ 30.421875 42.28125 30.421875 31.390625 \nQ 30.421875 20.453125 26.78125 9.375 \nQ 23.140625 -1.703125 15.828125 -13.1875 \nL 8.015625 -13.1875 \nQ 14.5 -2 17.703125 9.0625 \nQ 20.90625 20.125 20.90625 31.390625 \nQ 20.90625 42.671875 17.703125 53.65625 \nQ 14.5 64.65625 8.015625 75.875 \nz\n\" id=\"DejaVuSans-41\"/>\n     </defs>\n     <g transform=\"translate(325.726562 23.798437)scale(0.1 -0.1)\">\n      <use xlink:href=\"#DejaVuSans-80\"/>\n      <use x=\"60.302734\" xlink:href=\"#DejaVuSans-40\"/>\n      <use x=\"99.316406\" xlink:href=\"#DejaVuSans-100\"/>\n      <use x=\"162.792969\" xlink:href=\"#DejaVuSans-105\"/>\n      <use x=\"190.576172\" xlink:href=\"#DejaVuSans-101\"/>\n      <use x=\"252.099609\" xlink:href=\"#DejaVuSans-61\"/>\n      <use x=\"335.888672\" xlink:href=\"#DejaVuSans-49\"/>\n      <use x=\"399.511719\" xlink:href=\"#DejaVuSans-41\"/>\n     </g>\n    </g>\n    <g id=\"line2d_22\">\n     <path d=\"M 297.726562 34.976562 \nL 317.726562 34.976562 \n\" style=\"fill:none;stroke:#ff7f0e;stroke-linecap:square;stroke-width:1.5;\"/>\n    </g>\n    <g id=\"line2d_23\"/>\n    <g id=\"text_16\">\n     <!-- P(die=2) -->\n     <g transform=\"translate(325.726562 38.476562)scale(0.1 -0.1)\">\n      <use xlink:href=\"#DejaVuSans-80\"/>\n      <use x=\"60.302734\" xlink:href=\"#DejaVuSans-40\"/>\n      <use x=\"99.316406\" xlink:href=\"#DejaVuSans-100\"/>\n      <use x=\"162.792969\" xlink:href=\"#DejaVuSans-105\"/>\n      <use x=\"190.576172\" xlink:href=\"#DejaVuSans-101\"/>\n      <use x=\"252.099609\" xlink:href=\"#DejaVuSans-61\"/>\n      <use x=\"335.888672\" xlink:href=\"#DejaVuSans-50\"/>\n      <use x=\"399.511719\" xlink:href=\"#DejaVuSans-41\"/>\n     </g>\n    </g>\n    <g id=\"line2d_24\">\n     <path d=\"M 297.726562 49.654687 \nL 317.726562 49.654687 \n\" style=\"fill:none;stroke:#2ca02c;stroke-linecap:square;stroke-width:1.5;\"/>\n    </g>\n    <g id=\"line2d_25\"/>\n    <g id=\"text_17\">\n     <!-- P(die=3) -->\n     <g transform=\"translate(325.726562 53.154687)scale(0.1 -0.1)\">\n      <use xlink:href=\"#DejaVuSans-80\"/>\n      <use x=\"60.302734\" xlink:href=\"#DejaVuSans-40\"/>\n      <use x=\"99.316406\" xlink:href=\"#DejaVuSans-100\"/>\n      <use x=\"162.792969\" xlink:href=\"#DejaVuSans-105\"/>\n      <use x=\"190.576172\" xlink:href=\"#DejaVuSans-101\"/>\n      <use x=\"252.099609\" xlink:href=\"#DejaVuSans-61\"/>\n      <use x=\"335.888672\" xlink:href=\"#DejaVuSans-51\"/>\n      <use x=\"399.511719\" xlink:href=\"#DejaVuSans-41\"/>\n     </g>\n    </g>\n    <g id=\"line2d_26\">\n     <path d=\"M 297.726562 64.332812 \nL 317.726562 64.332812 \n\" style=\"fill:none;stroke:#d62728;stroke-linecap:square;stroke-width:1.5;\"/>\n    </g>\n    <g id=\"line2d_27\"/>\n    <g id=\"text_18\">\n     <!-- P(die=4) -->\n     <g transform=\"translate(325.726562 67.832812)scale(0.1 -0.1)\">\n      <use xlink:href=\"#DejaVuSans-80\"/>\n      <use x=\"60.302734\" xlink:href=\"#DejaVuSans-40\"/>\n      <use x=\"99.316406\" xlink:href=\"#DejaVuSans-100\"/>\n      <use x=\"162.792969\" xlink:href=\"#DejaVuSans-105\"/>\n      <use x=\"190.576172\" xlink:href=\"#DejaVuSans-101\"/>\n      <use x=\"252.099609\" xlink:href=\"#DejaVuSans-61\"/>\n      <use x=\"335.888672\" xlink:href=\"#DejaVuSans-52\"/>\n      <use x=\"399.511719\" xlink:href=\"#DejaVuSans-41\"/>\n     </g>\n    </g>\n    <g id=\"line2d_28\">\n     <path d=\"M 297.726562 79.010937 \nL 317.726562 79.010937 \n\" style=\"fill:none;stroke:#9467bd;stroke-linecap:square;stroke-width:1.5;\"/>\n    </g>\n    <g id=\"line2d_29\"/>\n    <g id=\"text_19\">\n     <!-- P(die=5) -->\n     <g transform=\"translate(325.726562 82.510937)scale(0.1 -0.1)\">\n      <use xlink:href=\"#DejaVuSans-80\"/>\n      <use x=\"60.302734\" xlink:href=\"#DejaVuSans-40\"/>\n      <use x=\"99.316406\" xlink:href=\"#DejaVuSans-100\"/>\n      <use x=\"162.792969\" xlink:href=\"#DejaVuSans-105\"/>\n      <use x=\"190.576172\" xlink:href=\"#DejaVuSans-101\"/>\n      <use x=\"252.099609\" xlink:href=\"#DejaVuSans-61\"/>\n      <use x=\"335.888672\" xlink:href=\"#DejaVuSans-53\"/>\n      <use x=\"399.511719\" xlink:href=\"#DejaVuSans-41\"/>\n     </g>\n    </g>\n    <g id=\"line2d_30\">\n     <path d=\"M 297.726562 93.689062 \nL 317.726562 93.689062 \n\" style=\"fill:none;stroke:#8c564b;stroke-linecap:square;stroke-width:1.5;\"/>\n    </g>\n    <g id=\"line2d_31\"/>\n    <g id=\"text_20\">\n     <!-- P(die=6) -->\n     <g transform=\"translate(325.726562 97.189062)scale(0.1 -0.1)\">\n      <use xlink:href=\"#DejaVuSans-80\"/>\n      <use x=\"60.302734\" xlink:href=\"#DejaVuSans-40\"/>\n      <use x=\"99.316406\" xlink:href=\"#DejaVuSans-100\"/>\n      <use x=\"162.792969\" xlink:href=\"#DejaVuSans-105\"/>\n      <use x=\"190.576172\" xlink:href=\"#DejaVuSans-101\"/>\n      <use x=\"252.099609\" xlink:href=\"#DejaVuSans-61\"/>\n      <use x=\"335.888672\" xlink:href=\"#DejaVuSans-54\"/>\n      <use x=\"399.511719\" xlink:href=\"#DejaVuSans-41\"/>\n     </g>\n    </g>\n   </g>\n  </g>\n </g>\n <defs>\n  <clipPath id=\"p2759b6ba61\">\n   <rect height=\"244.62\" width=\"334.8\" x=\"43.78125\" y=\"7.2\"/>\n  </clipPath>\n </defs>\n</svg>\n"
     },
     "metadata": {
      "needs_background": "light"
     }
    }
   ],
   "source": [
    "counts = tfp.distributions.Multinomial(10, fair_probs).sample(1000)\n",
    "cum_counts = tf.cumsum(counts, axis=0)\n",
    "estimates = cum_counts / tf.reduce_sum(cum_counts, axis=1, keepdims=True)\n",
    "\n",
    "d2l.set_figsize((6, 4.5))\n",
    "for i in range(6):\n",
    "    d2l.plt.plot(estimates[:, i].numpy(),\n",
    "                 label=(\"P(die=\" + str(i + 1) + \")\"))\n",
    "d2l.plt.axhline(y=0.167, color='black', linestyle='dashed')\n",
    "d2l.plt.gca().set_xlabel('Groups of experiments')\n",
    "d2l.plt.gca().set_ylabel('Estimated probability')\n",
    "d2l.plt.legend()"
   ]
  },
  {
   "cell_type": "code",
   "execution_count": null,
   "metadata": {},
   "outputs": [],
   "source": []
  }
 ]
}