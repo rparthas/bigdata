{
 "metadata": {
  "language_info": {
   "codemirror_mode": {
    "name": "ipython",
    "version": 3
   },
   "file_extension": ".py",
   "mimetype": "text/x-python",
   "name": "python",
   "nbconvert_exporter": "python",
   "pygments_lexer": "ipython3",
   "version": "3.6.8-final"
  },
  "orig_nbformat": 2,
  "kernelspec": {
   "name": "python36864bitc6d66c7db72b435eb6238c20d8acae2b",
   "display_name": "Python 3.6.8 64-bit"
  }
 },
 "nbformat": 4,
 "nbformat_minor": 2,
 "cells": [
  {
   "cell_type": "code",
   "execution_count": 1,
   "metadata": {},
   "outputs": [],
   "source": [
    "import pandas as pd\n",
    "import numpy as np\n",
    "from sklearn.preprocessing import MinMaxScaler\n",
    "from sklearn.pipeline import make_pipeline\n",
    "from sklearn.svm import SVC\n",
    "from sklearn.feature_selection import SelectKBest,chi2\n",
    "from sklearn.ensemble import RandomForestClassifier\n",
    "from sklearn.model_selection import GridSearchCV\n",
    "from sklearn.neighbors import KNeighborsClassifier\n",
    "from sklearn.ensemble import GradientBoostingClassifier\n",
    "from sklearn.decomposition import PCA"
   ]
  },
  {
   "cell_type": "code",
   "execution_count": 2,
   "metadata": {},
   "outputs": [],
   "source": [
    "train = pd.read_csv('data/train.csv')\n",
    "test=pd.read_csv('data/test.csv')"
   ]
  },
  {
   "cell_type": "code",
   "execution_count": 12,
   "metadata": {},
   "outputs": [
    {
     "output_type": "execute_result",
     "data": {
      "text/plain": "Index(['Elevation(meters)', 'Aspect(degrees)', 'Slope(degrees)',\n       'Horizontal_Distance_To_Hydrology(meters)',\n       'Vertical_Distance_To_Hydrology(meters)',\n       'Horizontal_Distance_To_Roadways(meters)', 'Hillshade_9am',\n       'Hillshade_Noon', 'Hillshade_3pm',\n       'Horizontal_Distance_To_Fire_Points(meters)', 'Wilderness_Area_1',\n       'Wilderness_Area_2', 'Wilderness_Area_3', 'Wilderness_Area_4',\n       'Soil_Type_1', 'Soil_Type_2', 'Soil_Type_3', 'Soil_Type_4',\n       'Soil_Type_5', 'Soil_Type_6', 'Soil_Type_7', 'Soil_Type_8',\n       'Soil_Type_9', 'Soil_Type_10', 'Soil_Type_11', 'Soil_Type_12',\n       'Soil_Type_13', 'Soil_Type_14', 'Soil_Type_15', 'Soil_Type_16',\n       'Soil_Type_17', 'Soil_Type_18', 'Soil_Type_19', 'Soil_Type_20',\n       'Soil_Type_21', 'Soil_Type_22', 'Soil_Type_23', 'Soil_Type_24',\n       'Soil_Type_25', 'Soil_Type_26', 'Soil_Type_27', 'Soil_Type_28',\n       'Soil_Type_29', 'Soil_Type_30', 'Soil_Type_31', 'Soil_Type_32',\n       'Soil_Type_33', 'Soil_Type_34', 'Soil_Type_35', 'Soil_Type_36',\n       'Soil_Type_37', 'Soil_Type_38', 'Soil_Type_39', 'Soil_Type_40',\n       'Cover_Type'],\n      dtype='object')"
     },
     "metadata": {},
     "execution_count": 12
    }
   ],
   "source": [
    "train.columns"
   ]
  },
  {
   "cell_type": "code",
   "execution_count": 13,
   "metadata": {},
   "outputs": [
    {
     "output_type": "execute_result",
     "data": {
      "text/plain": "5    14165\n7    10592\n6     1788\n1     1025\n3      868\n2      475\n4      137\nName: Cover_Type, dtype: int64"
     },
     "metadata": {},
     "execution_count": 13
    }
   ],
   "source": [
    "train['Cover_Type'].value_counts()"
   ]
  },
  {
   "cell_type": "code",
   "execution_count": 17,
   "metadata": {},
   "outputs": [
    {
     "output_type": "execute_result",
     "data": {
      "text/plain": "0.48760757314974185"
     },
     "metadata": {},
     "execution_count": 17
    }
   ],
   "source": [
    "train['Cover_Type'].value_counts().max()/train['Cover_Type'].value_counts().sum()"
   ]
  },
  {
   "cell_type": "code",
   "execution_count": 3,
   "metadata": {},
   "outputs": [],
   "source": [
    "sc_X = MinMaxScaler()\n",
    "train_X = sc_X.fit_transform(train.loc[:,train.columns != 'Cover_Type'])\n",
    "train_y = train.loc[:,train.columns == 'Cover_Type']\n",
    "test_X = sc_X.transform(test)\n",
    "cols = train.columns"
   ]
  },
  {
   "cell_type": "code",
   "execution_count": 19,
   "metadata": {},
   "outputs": [],
   "source": [
    "def return_best_features(features,target,cols):\n",
    " bestfeatures = SelectKBest(score_func=chi2, k='all')\n",
    " fit = bestfeatures.fit(features,target)\n",
    " dfscores = pd.DataFrame(fit.scores_)\n",
    " dfcolumns = pd.DataFrame(cols)\n",
    " featureScores = pd.concat([dfcolumns,dfscores,pd.DataFrame(bestfeatures.pvalues_)],axis=1)\n",
    " featureScores.columns = ['Specs','Score','Pvalue']\n",
    " return featureScores"
   ]
  },
  {
   "cell_type": "code",
   "execution_count": 20,
   "metadata": {
    "tags": []
   },
   "outputs": [
    {
     "output_type": "stream",
     "name": "stdout",
     "text": "(47, 3)\n(15, 3)\n"
    }
   ],
   "source": [
    "best_features = return_best_features(train_X,train_y,cols)\n",
    "mean_score = best_features['Score'].describe()['mean']\n",
    "print(best_features[best_features['Pvalue'] < 0.05].shape)\n",
    "print(best_features[best_features['Score'] >= mean_score].shape)"
   ]
  },
  {
   "cell_type": "code",
   "execution_count": 21,
   "metadata": {},
   "outputs": [],
   "source": [
    "def find_model(pipeline,param_grid):\n",
    "    grid = GridSearchCV(pipeline, n_jobs=-1, param_grid=param_grid,scoring=['neg_log_loss','accuracy'],refit='neg_log_loss')\n",
    "    grid.fit(train_X, train_y)\n",
    "    print(grid.best_params_)\n",
    "    print(grid.best_score_)\n",
    "    print(grid.cv_results_['mean_test_accuracy'].mean())\n",
    "    return grid"
   ]
  },
  {
   "cell_type": "code",
   "execution_count": 22,
   "metadata": {},
   "outputs": [],
   "source": [
    "def write_csv(grid):\n",
    "    result=pd.DataFrame(grid.predict_proba(test_X))\n",
    "    pd.DataFrame([[1.0,2.0,3.0,4.0,5.0,6.0,7.0]]).append(result).to_csv('submission.csv',index=False,header=False)"
   ]
  },
  {
   "cell_type": "code",
   "execution_count": 23,
   "metadata": {
    "tags": []
   },
   "outputs": [
    {
     "output_type": "stream",
     "name": "stdout",
     "text": "{'randomforestclassifier__n_estimators': 200, 'selectkbest__k': 47}\n-0.4004530729093367\n0.77184165232358\n"
    }
   ],
   "source": [
    "pipeline = make_pipeline(SelectKBest(chi2,'all'),RandomForestClassifier(random_state=43))\n",
    "param_grid ={\n",
    "    'randomforestclassifier__n_estimators':[100,150,200],\n",
    "    'selectkbest__k':[15,47,'all']\n",
    "}\n",
    "rff_grid = find_model(pipeline,param_grid)"
   ]
  },
  {
   "cell_type": "code",
   "execution_count": 24,
   "metadata": {
    "tags": []
   },
   "outputs": [
    {
     "output_type": "stream",
     "name": "stdout",
     "text": "{'kneighborsclassifier__n_neighbors': 14, 'selectkbest__k': 47}\n-0.7758791133398094\n0.790518809933612\n"
    }
   ],
   "source": [
    "pipeline = make_pipeline(SelectKBest(chi2,'all'), KNeighborsClassifier())\n",
    "param_grid ={\n",
    "    'kneighborsclassifier__n_neighbors':np.arange(8,15),\n",
    "    'selectkbest__k':[47]\n",
    "}\n",
    "knn_grid = find_model(pipeline,param_grid)"
   ]
  },
  {
   "cell_type": "code",
   "execution_count": 25,
   "metadata": {
    "tags": []
   },
   "outputs": [
    {
     "output_type": "stream",
     "name": "stdout",
     "text": "{'gradientboostingclassifier__n_estimators': 200, 'selectkbest__k': 'all'}\n-0.5366669001440135\n0.7162172499521898\n"
    }
   ],
   "source": [
    "pipeline = make_pipeline(SelectKBest(chi2,'all'),GradientBoostingClassifier(random_state=43))\n",
    "param_grid ={\n",
    "    'gradientboostingclassifier__n_estimators':[100,150,200],\n",
    "    'selectkbest__k':[15,47,'all']\n",
    "}\n",
    "grad_boosting_grid = find_model(pipeline,param_grid)\n"
   ]
  },
  {
   "cell_type": "code",
   "execution_count": 43,
   "metadata": {
    "tags": []
   },
   "outputs": [
    {
     "output_type": "stream",
     "name": "stdout",
     "text": "0.9077166417676557\n"
    }
   ],
   "source": [
    "pca = PCA(n_components=20)\n",
    "r = pca.fit(train_X,train_y)\n",
    "print(pca.explained_variance_ratio_.sum())"
   ]
  },
  {
   "cell_type": "code",
   "execution_count": 44,
   "metadata": {
    "tags": []
   },
   "outputs": [
    {
     "output_type": "stream",
     "name": "stdout",
     "text": "{'pca__n_components': 20, 'randomforestclassifier__n_estimators': 200}\n-0.46952047677383507\n0.8281162746222988\n"
    }
   ],
   "source": [
    "pipeline = make_pipeline(PCA(),RandomForestClassifier(random_state=43))\n",
    "param_grid ={\n",
    "    'randomforestclassifier__n_estimators':[100,150,200],\n",
    "    'pca__n_components':[15,20,25]\n",
    "}\n",
    "rf_pca_grid = find_model(pipeline,param_grid)"
   ]
  },
  {
   "cell_type": "code",
   "execution_count": 45,
   "metadata": {
    "tags": []
   },
   "outputs": [
    {
     "output_type": "stream",
     "name": "stdout",
     "text": "{'gradientboostingclassifier__n_estimators': 200, 'pca__n_components': 20}\n-0.6393681906511526\n0.7374411933448077\n"
    }
   ],
   "source": [
    "pipeline = make_pipeline(PCA(),GradientBoostingClassifier(random_state=43))\n",
    "param_grid ={\n",
    "    'gradientboostingclassifier__n_estimators':[100,150,200],\n",
    "    'pca__n_components':[20]\n",
    "}\n",
    "grad_boosting_grid = find_model(pipeline,param_grid)"
   ]
  },
  {
   "cell_type": "code",
   "execution_count": 46,
   "metadata": {
    "tags": []
   },
   "outputs": [
    {
     "output_type": "stream",
     "name": "stdout",
     "text": "{'kneighborsclassifier__n_neighbors': 14, 'pca__n_components': 20}\n-0.8237840704496664\n0.771526924022621\n"
    }
   ],
   "source": [
    "pipeline = make_pipeline(PCA(), KNeighborsClassifier())\n",
    "param_grid ={\n",
    "    'kneighborsclassifier__n_neighbors':np.arange(8,15),\n",
    "    'pca__n_components':[20]\n",
    "}\n",
    "knn_grid = find_model(pipeline,param_grid)"
   ]
  },
  {
   "cell_type": "code",
   "execution_count": 47,
   "metadata": {},
   "outputs": [],
   "source": [
    "write_csv(rf_pca_grid)"
   ]
  },
  {
   "cell_type": "code",
   "execution_count": 47,
   "metadata": {
    "tags": []
   },
   "outputs": [
    {
     "output_type": "stream",
     "name": "stdout",
     "text": "Model: \"sequential_11\"\n_________________________________________________________________\nLayer (type)                 Output Shape              Param #   \n=================================================================\ndense_25 (Dense)             (None, 14)                294       \n_________________________________________________________________\ndense_26 (Dense)             (None, 10)                150       \n_________________________________________________________________\ndense_27 (Dense)             (None, 7)                 77        \n=================================================================\nTotal params: 521\nTrainable params: 521\nNon-trainable params: 0\n_________________________________________________________________\nNone\n"
    }
   ],
   "source": [
    "from keras.models import Sequential\n",
    "from tensorflow import random\n",
    "from keras.layers import Dense, Activation\n",
    "\n",
    "model = Sequential()\n",
    "model.add(Dense(14, input_dim=20, activation='relu'))\n",
    "model.add(Dense(10, input_dim=20, activation='sigmoid'))\n",
    "model.add(Dense(7,activation='softmax'))\n",
    "model.compile(optimizer='adam', loss='categorical_crossentropy', metrics=['accuracy'])\n",
    "print(model.summary())"
   ]
  },
  {
   "cell_type": "code",
   "execution_count": 51,
   "metadata": {
    "tags": []
   },
   "outputs": [],
   "source": [
    "pca = PCA(n_components=20)\n",
    "history = model.fit(x=pca.fit_transform(train_X), y=pd.get_dummies(train_y['Cover_Type']), epochs=20, validation_split=0.3, shuffle=False,verbose=0)"
   ]
  },
  {
   "cell_type": "code",
   "execution_count": 52,
   "metadata": {
    "tags": []
   },
   "outputs": [
    {
     "output_type": "stream",
     "name": "stdout",
     "text": "0.7161216139793396\n0.7264814376831055\n0.664169430732727\n0.6431282162666321\n"
    }
   ],
   "source": [
    "print(history.history['val_accuracy'][len(history.history['val_accuracy'])-1])\n",
    "print(history.history['accuracy'][len(history.history['accuracy'])-1])\n",
    "print(history.history['val_loss'][len(history.history['val_loss'])-1])\n",
    "print(history.history['loss'][len(history.history['loss'])-1])\n"
   ]
  },
  {
   "cell_type": "code",
   "execution_count": 53,
   "metadata": {
    "tags": []
   },
   "outputs": [],
   "source": [
    "result = model.predict(pca.fit_transform(test_X))\n"
   ]
  },
  {
   "cell_type": "code",
   "execution_count": 54,
   "metadata": {},
   "outputs": [],
   "source": [
    "pd.DataFrame([[1.0,2.0,3.0,4.0,5.0,6.0,7.0]]).append(pd.DataFrame(result)).to_csv('submission.csv',index=False,header=False)"
   ]
  }
 ]
}