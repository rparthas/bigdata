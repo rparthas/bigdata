{
 "metadata": {
  "language_info": {
   "codemirror_mode": {
    "name": "ipython",
    "version": 3
   },
   "file_extension": ".py",
   "mimetype": "text/x-python",
   "name": "python",
   "nbconvert_exporter": "python",
   "pygments_lexer": "ipython3",
   "version": "3.6.8-final"
  },
  "orig_nbformat": 2,
  "kernelspec": {
   "name": "python36864bitc4644ebd35af45be9b4a2c5bf182f1bf",
   "display_name": "Python 3.6.8 64-bit"
  }
 },
 "nbformat": 4,
 "nbformat_minor": 2,
 "cells": [
  {
   "cell_type": "code",
   "execution_count": 50,
   "metadata": {},
   "outputs": [],
   "source": [
    "import pandas as pd\n",
    "import numpy as np\n",
    "from sklearn.base import BaseEstimator, TransformerMixin\n",
    "from sklearn.pipeline import make_pipeline\n",
    "from sklearn.preprocessing import MinMaxScaler,PolynomialFeatures\n",
    "from sklearn.model_selection import cross_val_score\n",
    "from sklearn.feature_selection import SelectKBest, f_regression, SelectFromModel\n",
    "from sklearn.metrics import mean_absolute_error\n",
    "from sklearn.ensemble import RandomForestRegressor,StackingRegressor\n",
    "import xgboost as xgb\n",
    "import lightgbm as lgb\n",
    "import seaborn as sns\n",
    "import matplotlib.pyplot as plt"
   ]
  },
  {
   "cell_type": "code",
   "execution_count": 115,
   "metadata": {},
   "outputs": [],
   "source": [
    "train = pd.read_csv('data/News_Train.csv')\n",
    "test = pd.read_csv('data/News_Test.csv')\n",
    "X_train = train.loc[:,train.columns != 'shares']\n",
    "y_train = train.loc[:,train.columns == 'shares']"
   ]
  },
  {
   "cell_type": "code",
   "execution_count": 52,
   "metadata": {},
   "outputs": [
    {
     "output_type": "execute_result",
     "data": {
      "text/plain": "shares                           1.000000\nkw_avg_avg                       0.107429\nnum_imgs                         0.090645\nkw_max_avg                       0.079531\nkw_min_avg                       0.077779\nLDA_03                           0.075461\nnum_hrefs                        0.072622\nglobal_subjectivity              0.064016\nabs_title_sentiment_polarity     0.047195\nkw_max_min                       0.041228\nglobal_rate_negative_words       0.037965\nkw_min_max                       0.037648\nnum_self_hrefs                   0.035308\nkw_avg_min                       0.034295\nself_reference_avg_sharess       0.029220\nself_reference_max_shares        0.028921\navg_positive_polarity            0.028890\nnum_videos                       0.028749\nrate_negative_words              0.028205\nkw_avg_max                       0.023130\nself_reference_min_shares        0.023078\nweekday_is_sunday                0.021041\nn_tokens_content                 0.019353\nkw_min_min                       0.018588\ntitle_subjectivity               0.018348\nis_weekend                       0.018204\nmin_positive_polarity            0.017045\nLDA_01                           0.011302\nweekday_is_monday                0.009373\ndata_channel_is_entertainment    0.008710\nmax_positive_polarity            0.006418\ndata_channel_is_socmed           0.005794\nglobal_rate_positive_words       0.004370\nweekday_is_saturday              0.003460\ndata_channel_is_lifestyle        0.002742\naverage_token_length             0.002703\nweekday_is_wednesday             0.000381\nn_non_stop_words                -0.000042\nabs_title_subjectivity          -0.000489\nweekday_is_friday               -0.000629\nkw_max_max                      -0.008245\nnum_keywords                    -0.009732\nn_unique_tokens                 -0.011017\nweekday_is_tuesday              -0.011826\nweekday_is_thursday             -0.012769\ntitle_sentiment_polarity        -0.014473\nLDA_00                          -0.014762\nn_tokens_title                  -0.015418\nLDA_04                          -0.018215\ndata_channel_is_tech            -0.019705\nmax_negative_polarity           -0.022182\nrate_positive_words             -0.022858\ndata_channel_is_bus             -0.022866\nn_non_stop_unique_tokens        -0.035478\nglobal_sentiment_polarity       -0.037820\nmin_negative_polarity           -0.042182\ndata_channel_is_world           -0.044712\nLDA_02                          -0.055645\navg_negative_polarity           -0.063230\nName: shares, dtype: float64"
     },
     "metadata": {},
     "execution_count": 52
    }
   ],
   "source": [
    "train.corr()['shares'].sort_values(ascending=False)"
   ]
  },
  {
   "cell_type": "code",
   "execution_count": 53,
   "metadata": {},
   "outputs": [],
   "source": [
    "class FeatureSelector(BaseEstimator, TransformerMixin ):\n",
    "    def __init__( self, feature_names ):\n",
    "        self._feature_names = feature_names \n",
    "      \n",
    "    def fit( self, X, y = None ):\n",
    "        return self \n",
    "    \n",
    "    def transform( self, X, y = None ):\n",
    "        return X[ self._feature_names ] "
   ]
  },
  {
   "cell_type": "code",
   "execution_count": 92,
   "metadata": {},
   "outputs": [],
   "source": [
    "class CustomTransformer(BaseEstimator, TransformerMixin ):\n",
    "    def __init__( self ):\n",
    "        pass\n",
    "      \n",
    "    def fit( self, X, y = None ):\n",
    "        return self \n",
    "    \n",
    "    def transform( self, X, y = None ):\n",
    "        kw_shares = X.apply(lambda row: row['kw_avg_min']+row['kw_avg_max']+row['kw_avg_avg'],axis=1)\n",
    "        return X.assign(kw_shares=kw_shares)"
   ]
  },
  {
   "cell_type": "code",
   "execution_count": 127,
   "metadata": {},
   "outputs": [],
   "source": [
    "def save(model):\n",
    "    model.fit(X_train,y_train)\n",
    "    pred = model.predict(test)\n",
    "    pd.DataFrame(pred,columns=['shares']).to_csv('data/submission.csv',index=False)\n",
    "\n",
    "def eval_score(model):\n",
    "    model.fit(X_train,y_train)\n",
    "    y_pred =model.predict(X_train)\n",
    "    print(mean_absolute_error(y_train,y_pred))\n",
    "    \n",
    "def cross_score(pipeline, model):\n",
    "    transformed = pipeline.transform(X_train)\n",
    "    scores = cross_val_score(model,transformed,y_train,cv=5,scoring='neg_mean_absolute_error')\n",
    "    print(scores.mean())"
   ]
  },
  {
   "cell_type": "code",
   "execution_count": 56,
   "metadata": {},
   "outputs": [
    {
     "output_type": "execute_result",
     "data": {
      "text/plain": "<BarContainer object of 58 artists>"
     },
     "metadata": {},
     "execution_count": 56
    },
    {
     "output_type": "display_data",
     "data": {
      "text/plain": "<Figure size 432x288 with 1 Axes>",
      "image/svg+xml": "<?xml version=\"1.0\" encoding=\"utf-8\" standalone=\"no\"?>\n<!DOCTYPE svg PUBLIC \"-//W3C//DTD SVG 1.1//EN\"\n  \"http://www.w3.org/Graphics/SVG/1.1/DTD/svg11.dtd\">\n<!-- Created with matplotlib (https://matplotlib.org/) -->\n<svg height=\"248.518125pt\" version=\"1.1\" viewBox=\"0 0 372.103125 248.518125\" width=\"372.103125pt\" xmlns=\"http://www.w3.org/2000/svg\" xmlns:xlink=\"http://www.w3.org/1999/xlink\">\n <defs>\n  <style type=\"text/css\">\n*{stroke-linecap:butt;stroke-linejoin:round;}\n  </style>\n </defs>\n <g id=\"figure_1\">\n  <g id=\"patch_1\">\n   <path d=\"M 0 248.518125 \nL 372.103125 248.518125 \nL 372.103125 0 \nL 0 0 \nz\n\" style=\"fill:none;\"/>\n  </g>\n  <g id=\"axes_1\">\n   <g id=\"patch_2\">\n    <path d=\"M 30.103125 224.64 \nL 364.903125 224.64 \nL 364.903125 7.2 \nL 30.103125 7.2 \nz\n\" style=\"fill:#ffffff;\"/>\n   </g>\n   <g id=\"patch_3\">\n    <path clip-path=\"url(#p68e1a802e6)\" d=\"M 45.321307 224.64 \nL 46.385515 224.64 \nL 46.385515 217.070212 \nL 45.321307 217.070212 \nz\n\" style=\"fill:#1f77b4;\"/>\n   </g>\n   <g id=\"patch_4\">\n    <path clip-path=\"url(#p68e1a802e6)\" d=\"M 50.642349 224.64 \nL 51.706558 224.64 \nL 51.706558 214.107446 \nL 50.642349 214.107446 \nz\n\" style=\"fill:#1f77b4;\"/>\n   </g>\n   <g id=\"patch_5\">\n    <path clip-path=\"url(#p68e1a802e6)\" d=\"M 55.963392 224.64 \nL 57.027601 224.64 \nL 57.027601 219.862707 \nL 55.963392 219.862707 \nz\n\" style=\"fill:#1f77b4;\"/>\n   </g>\n   <g id=\"patch_6\">\n    <path clip-path=\"url(#p68e1a802e6)\" d=\"M 61.284435 224.64 \nL 62.348643 224.64 \nL 62.348643 224.627212 \nL 61.284435 224.627212 \nz\n\" style=\"fill:#1f77b4;\"/>\n   </g>\n   <g id=\"patch_7\">\n    <path clip-path=\"url(#p68e1a802e6)\" d=\"M 66.605477 224.64 \nL 67.669686 224.64 \nL 67.669686 197.098968 \nL 66.605477 197.098968 \nz\n\" style=\"fill:#1f77b4;\"/>\n   </g>\n   <g id=\"patch_8\">\n    <path clip-path=\"url(#p68e1a802e6)\" d=\"M 71.92652 224.64 \nL 72.990728 224.64 \nL 72.990728 126.128641 \nL 71.92652 126.128641 \nz\n\" style=\"fill:#1f77b4;\"/>\n   </g>\n   <g id=\"patch_9\">\n    <path clip-path=\"url(#p68e1a802e6)\" d=\"M 77.247562 224.64 \nL 78.311771 224.64 \nL 78.311771 197.321177 \nL 77.247562 197.321177 \nz\n\" style=\"fill:#1f77b4;\"/>\n   </g>\n   <g id=\"patch_10\">\n    <path clip-path=\"url(#p68e1a802e6)\" d=\"M 82.568605 224.64 \nL 83.632813 224.64 \nL 83.632813 75.083115 \nL 82.568605 75.083115 \nz\n\" style=\"fill:#1f77b4;\"/>\n   </g>\n   <g id=\"patch_11\">\n    <path clip-path=\"url(#p68e1a802e6)\" d=\"M 87.889648 224.64 \nL 88.953856 224.64 \nL 88.953856 205.171631 \nL 87.889648 205.171631 \nz\n\" style=\"fill:#1f77b4;\"/>\n   </g>\n   <g id=\"patch_12\">\n    <path clip-path=\"url(#p68e1a802e6)\" d=\"M 93.21069 224.64 \nL 94.274899 224.64 \nL 94.274899 223.739432 \nL 93.21069 223.739432 \nz\n\" style=\"fill:#1f77b4;\"/>\n   </g>\n   <g id=\"patch_13\">\n    <path clip-path=\"url(#p68e1a802e6)\" d=\"M 98.531733 224.64 \nL 99.595941 224.64 \nL 99.595941 220.578039 \nL 98.531733 220.578039 \nz\n\" style=\"fill:#1f77b4;\"/>\n   </g>\n   <g id=\"patch_14\">\n    <path clip-path=\"url(#p68e1a802e6)\" d=\"M 103.852775 224.64 \nL 104.916984 224.64 \nL 104.916984 223.725137 \nL 103.852775 223.725137 \nz\n\" style=\"fill:#1f77b4;\"/>\n   </g>\n   <g id=\"patch_15\">\n    <path clip-path=\"url(#p68e1a802e6)\" d=\"M 109.173818 224.64 \nL 110.238026 224.64 \nL 110.238026 221.115754 \nL 109.173818 221.115754 \nz\n\" style=\"fill:#1f77b4;\"/>\n   </g>\n   <g id=\"patch_16\">\n    <path clip-path=\"url(#p68e1a802e6)\" d=\"M 114.494861 224.64 \nL 115.559069 224.64 \nL 115.559069 211.078854 \nL 114.494861 211.078854 \nz\n\" style=\"fill:#1f77b4;\"/>\n   </g>\n   <g id=\"patch_17\">\n    <path clip-path=\"url(#p68e1a802e6)\" d=\"M 119.815903 224.64 \nL 120.880112 224.64 \nL 120.880112 222.501228 \nL 119.815903 222.501228 \nz\n\" style=\"fill:#1f77b4;\"/>\n   </g>\n   <g id=\"patch_18\">\n    <path clip-path=\"url(#p68e1a802e6)\" d=\"M 125.136946 224.64 \nL 126.201154 224.64 \nL 126.201154 213.821019 \nL 125.136946 213.821019 \nz\n\" style=\"fill:#1f77b4;\"/>\n   </g>\n   <g id=\"patch_19\">\n    <path clip-path=\"url(#p68e1a802e6)\" d=\"M 130.457988 224.64 \nL 131.522197 224.64 \nL 131.522197 183.677224 \nL 130.457988 183.677224 \nz\n\" style=\"fill:#1f77b4;\"/>\n   </g>\n   <g id=\"patch_20\">\n    <path clip-path=\"url(#p68e1a802e6)\" d=\"M 135.779031 224.64 \nL 136.843239 224.64 \nL 136.843239 214.718566 \nL 135.779031 214.718566 \nz\n\" style=\"fill:#1f77b4;\"/>\n   </g>\n   <g id=\"patch_21\">\n    <path clip-path=\"url(#p68e1a802e6)\" d=\"M 141.100074 224.64 \nL 142.164282 224.64 \nL 142.164282 189.063575 \nL 141.100074 189.063575 \nz\n\" style=\"fill:#1f77b4;\"/>\n   </g>\n   <g id=\"patch_22\">\n    <path clip-path=\"url(#p68e1a802e6)\" d=\"M 146.421116 224.64 \nL 147.485325 224.64 \nL 147.485325 198.622208 \nL 146.421116 198.622208 \nz\n\" style=\"fill:#1f77b4;\"/>\n   </g>\n   <g id=\"patch_23\">\n    <path clip-path=\"url(#p68e1a802e6)\" d=\"M 151.742159 224.64 \nL 152.806367 224.64 \nL 152.806367 194.191265 \nL 151.742159 194.191265 \nz\n\" style=\"fill:#1f77b4;\"/>\n   </g>\n   <g id=\"patch_24\">\n    <path clip-path=\"url(#p68e1a802e6)\" d=\"M 157.063201 224.64 \nL 158.12741 224.64 \nL 158.12741 221.351214 \nL 157.063201 221.351214 \nz\n\" style=\"fill:#1f77b4;\"/>\n   </g>\n   <g id=\"patch_25\">\n    <path clip-path=\"url(#p68e1a802e6)\" d=\"M 162.384244 224.64 \nL 163.448452 224.64 \nL 163.448452 210.836115 \nL 162.384244 210.836115 \nz\n\" style=\"fill:#1f77b4;\"/>\n   </g>\n   <g id=\"patch_26\">\n    <path clip-path=\"url(#p68e1a802e6)\" d=\"M 167.705286 224.64 \nL 168.769495 224.64 \nL 168.769495 112.646531 \nL 167.705286 112.646531 \nz\n\" style=\"fill:#1f77b4;\"/>\n   </g>\n   <g id=\"patch_27\">\n    <path clip-path=\"url(#p68e1a802e6)\" d=\"M 173.026329 224.64 \nL 174.090538 224.64 \nL 174.090538 107.862815 \nL 173.026329 107.862815 \nz\n\" style=\"fill:#1f77b4;\"/>\n   </g>\n   <g id=\"patch_28\">\n    <path clip-path=\"url(#p68e1a802e6)\" d=\"M 178.347372 224.64 \nL 179.41158 224.64 \nL 179.41158 17.554286 \nL 178.347372 17.554286 \nz\n\" style=\"fill:#1f77b4;\"/>\n   </g>\n   <g id=\"patch_29\">\n    <path clip-path=\"url(#p68e1a802e6)\" d=\"M 183.668414 224.64 \nL 184.732623 224.64 \nL 184.732623 210.884565 \nL 183.668414 210.884565 \nz\n\" style=\"fill:#1f77b4;\"/>\n   </g>\n   <g id=\"patch_30\">\n    <path clip-path=\"url(#p68e1a802e6)\" d=\"M 188.989457 224.64 \nL 190.053665 224.64 \nL 190.053665 204.982642 \nL 188.989457 204.982642 \nz\n\" style=\"fill:#1f77b4;\"/>\n   </g>\n   <g id=\"patch_31\">\n    <path clip-path=\"url(#p68e1a802e6)\" d=\"M 194.310499 224.64 \nL 195.374708 224.64 \nL 195.374708 204.65324 \nL 194.310499 204.65324 \nz\n\" style=\"fill:#1f77b4;\"/>\n   </g>\n   <g id=\"patch_32\">\n    <path clip-path=\"url(#p68e1a802e6)\" d=\"M 199.631542 224.64 \nL 200.695751 224.64 \nL 200.695751 220.770092 \nL 199.631542 220.770092 \nz\n\" style=\"fill:#1f77b4;\"/>\n   </g>\n   <g id=\"patch_33\">\n    <path clip-path=\"url(#p68e1a802e6)\" d=\"M 204.952585 224.64 \nL 206.016793 224.64 \nL 206.016793 219.389333 \nL 204.952585 219.389333 \nz\n\" style=\"fill:#1f77b4;\"/>\n   </g>\n   <g id=\"patch_34\">\n    <path clip-path=\"url(#p68e1a802e6)\" d=\"M 210.273627 224.64 \nL 211.337836 224.64 \nL 211.337836 224.522997 \nL 210.273627 224.522997 \nz\n\" style=\"fill:#1f77b4;\"/>\n   </g>\n   <g id=\"patch_35\">\n    <path clip-path=\"url(#p68e1a802e6)\" d=\"M 215.59467 224.64 \nL 216.658878 224.64 \nL 216.658878 218.815465 \nL 215.59467 218.815465 \nz\n\" style=\"fill:#1f77b4;\"/>\n   </g>\n   <g id=\"patch_36\">\n    <path clip-path=\"url(#p68e1a802e6)\" d=\"M 220.915712 224.64 \nL 221.979921 224.64 \nL 221.979921 224.445059 \nL 220.915712 224.445059 \nz\n\" style=\"fill:#1f77b4;\"/>\n   </g>\n   <g id=\"patch_37\">\n    <path clip-path=\"url(#p68e1a802e6)\" d=\"M 226.236755 224.64 \nL 227.300964 224.64 \nL 227.300964 223.457398 \nL 226.236755 223.457398 \nz\n\" style=\"fill:#1f77b4;\"/>\n   </g>\n   <g id=\"patch_38\">\n    <path clip-path=\"url(#p68e1a802e6)\" d=\"M 231.557798 224.64 \nL 232.622006 224.64 \nL 232.622006 212.698333 \nL 231.557798 212.698333 \nz\n\" style=\"fill:#1f77b4;\"/>\n   </g>\n   <g id=\"patch_39\">\n    <path clip-path=\"url(#p68e1a802e6)\" d=\"M 236.87884 224.64 \nL 237.943049 224.64 \nL 237.943049 215.0191 \nL 236.87884 215.0191 \nz\n\" style=\"fill:#1f77b4;\"/>\n   </g>\n   <g id=\"patch_40\">\n    <path clip-path=\"url(#p68e1a802e6)\" d=\"M 242.199883 224.64 \nL 243.264091 224.64 \nL 243.264091 217.520859 \nL 242.199883 217.520859 \nz\n\" style=\"fill:#1f77b4;\"/>\n   </g>\n   <g id=\"patch_41\">\n    <path clip-path=\"url(#p68e1a802e6)\" d=\"M 247.520925 224.64 \nL 248.585134 224.64 \nL 248.585134 219.698085 \nL 247.520925 219.698085 \nz\n\" style=\"fill:#1f77b4;\"/>\n   </g>\n   <g id=\"patch_42\">\n    <path clip-path=\"url(#p68e1a802e6)\" d=\"M 252.841968 224.64 \nL 253.906176 224.64 \nL 253.906176 164.206545 \nL 252.841968 164.206545 \nz\n\" style=\"fill:#1f77b4;\"/>\n   </g>\n   <g id=\"patch_43\">\n    <path clip-path=\"url(#p68e1a802e6)\" d=\"M 258.163011 224.64 \nL 259.227219 224.64 \nL 259.227219 118.818239 \nL 258.163011 118.818239 \nz\n\" style=\"fill:#1f77b4;\"/>\n   </g>\n   <g id=\"patch_44\">\n    <path clip-path=\"url(#p68e1a802e6)\" d=\"M 263.484053 224.64 \nL 264.548262 224.64 \nL 264.548262 215.010743 \nL 263.484053 215.010743 \nz\n\" style=\"fill:#1f77b4;\"/>\n   </g>\n   <g id=\"patch_45\">\n    <path clip-path=\"url(#p68e1a802e6)\" d=\"M 268.805096 224.64 \nL 269.869304 224.64 \nL 269.869304 146.632 \nL 268.805096 146.632 \nz\n\" style=\"fill:#1f77b4;\"/>\n   </g>\n   <g id=\"patch_46\">\n    <path clip-path=\"url(#p68e1a802e6)\" d=\"M 274.126138 224.64 \nL 275.190347 224.64 \nL 275.190347 193.954438 \nL 274.126138 193.954438 \nz\n\" style=\"fill:#1f77b4;\"/>\n   </g>\n   <g id=\"patch_47\">\n    <path clip-path=\"url(#p68e1a802e6)\" d=\"M 279.447181 224.64 \nL 280.511389 224.64 \nL 280.511389 223.100116 \nL 279.447181 223.100116 \nz\n\" style=\"fill:#1f77b4;\"/>\n   </g>\n   <g id=\"patch_48\">\n    <path clip-path=\"url(#p68e1a802e6)\" d=\"M 284.768224 224.64 \nL 285.832432 224.64 \nL 285.832432 193.752758 \nL 284.768224 193.752758 \nz\n\" style=\"fill:#1f77b4;\"/>\n   </g>\n   <g id=\"patch_49\">\n    <path clip-path=\"url(#p68e1a802e6)\" d=\"M 290.089266 224.64 \nL 291.153475 224.64 \nL 291.153475 211.086455 \nL 290.089266 211.086455 \nz\n\" style=\"fill:#1f77b4;\"/>\n   </g>\n   <g id=\"patch_50\">\n    <path clip-path=\"url(#p68e1a802e6)\" d=\"M 295.410309 224.64 \nL 296.474517 224.64 \nL 296.474517 205.762745 \nL 295.410309 205.762745 \nz\n\" style=\"fill:#1f77b4;\"/>\n   </g>\n   <g id=\"patch_51\">\n    <path clip-path=\"url(#p68e1a802e6)\" d=\"M 300.731351 224.64 \nL 301.79556 224.64 \nL 301.79556 205.017239 \nL 300.731351 205.017239 \nz\n\" style=\"fill:#1f77b4;\"/>\n   </g>\n   <g id=\"patch_52\">\n    <path clip-path=\"url(#p68e1a802e6)\" d=\"M 306.052394 224.64 \nL 307.116602 224.64 \nL 307.116602 215.899368 \nL 306.052394 215.899368 \nz\n\" style=\"fill:#1f77b4;\"/>\n   </g>\n   <g id=\"patch_53\">\n    <path clip-path=\"url(#p68e1a802e6)\" d=\"M 311.373437 224.64 \nL 312.437645 224.64 \nL 312.437645 222.222845 \nL 311.373437 222.222845 \nz\n\" style=\"fill:#1f77b4;\"/>\n   </g>\n   <g id=\"patch_54\">\n    <path clip-path=\"url(#p68e1a802e6)\" d=\"M 316.694479 224.64 \nL 317.758688 224.64 \nL 317.758688 148.380983 \nL 316.694479 148.380983 \nz\n\" style=\"fill:#1f77b4;\"/>\n   </g>\n   <g id=\"patch_55\">\n    <path clip-path=\"url(#p68e1a802e6)\" d=\"M 322.015522 224.64 \nL 323.07973 224.64 \nL 323.07973 187.628267 \nL 322.015522 187.628267 \nz\n\" style=\"fill:#1f77b4;\"/>\n   </g>\n   <g id=\"patch_56\">\n    <path clip-path=\"url(#p68e1a802e6)\" d=\"M 327.336564 224.64 \nL 328.400773 224.64 \nL 328.400773 211.697508 \nL 327.336564 211.697508 \nz\n\" style=\"fill:#1f77b4;\"/>\n   </g>\n   <g id=\"patch_57\">\n    <path clip-path=\"url(#p68e1a802e6)\" d=\"M 332.657607 224.64 \nL 333.721815 224.64 \nL 333.721815 214.906847 \nL 332.657607 214.906847 \nz\n\" style=\"fill:#1f77b4;\"/>\n   </g>\n   <g id=\"patch_58\">\n    <path clip-path=\"url(#p68e1a802e6)\" d=\"M 337.978649 224.64 \nL 339.042858 224.64 \nL 339.042858 217.715598 \nL 337.978649 217.715598 \nz\n\" style=\"fill:#1f77b4;\"/>\n   </g>\n   <g id=\"patch_59\">\n    <path clip-path=\"url(#p68e1a802e6)\" d=\"M 343.299692 224.64 \nL 344.363901 224.64 \nL 344.363901 224.489007 \nL 343.299692 224.489007 \nz\n\" style=\"fill:#1f77b4;\"/>\n   </g>\n   <g id=\"patch_60\">\n    <path clip-path=\"url(#p68e1a802e6)\" d=\"M 348.620735 224.64 \nL 349.684943 224.64 \nL 349.684943 179.59765 \nL 348.620735 179.59765 \nz\n\" style=\"fill:#1f77b4;\"/>\n   </g>\n   <g id=\"matplotlib.axis_1\">\n    <g id=\"xtick_1\">\n     <g id=\"line2d_1\">\n      <defs>\n       <path d=\"M 0 0 \nL 0 3.5 \n\" id=\"mf70b2b3b8d\" style=\"stroke:#000000;stroke-width:0.8;\"/>\n      </defs>\n      <g>\n       <use style=\"stroke:#000000;stroke-width:0.8;\" x=\"48.24788\" xlink:href=\"#mf70b2b3b8d\" y=\"224.64\"/>\n      </g>\n     </g>\n     <g id=\"text_1\">\n      <!-- 0 -->\n      <defs>\n       <path d=\"M 31.78125 66.40625 \nQ 24.171875 66.40625 20.328125 58.90625 \nQ 16.5 51.421875 16.5 36.375 \nQ 16.5 21.390625 20.328125 13.890625 \nQ 24.171875 6.390625 31.78125 6.390625 \nQ 39.453125 6.390625 43.28125 13.890625 \nQ 47.125 21.390625 47.125 36.375 \nQ 47.125 51.421875 43.28125 58.90625 \nQ 39.453125 66.40625 31.78125 66.40625 \nz\nM 31.78125 74.21875 \nQ 44.046875 74.21875 50.515625 64.515625 \nQ 56.984375 54.828125 56.984375 36.375 \nQ 56.984375 17.96875 50.515625 8.265625 \nQ 44.046875 -1.421875 31.78125 -1.421875 \nQ 19.53125 -1.421875 13.0625 8.265625 \nQ 6.59375 17.96875 6.59375 36.375 \nQ 6.59375 54.828125 13.0625 64.515625 \nQ 19.53125 74.21875 31.78125 74.21875 \nz\n\" id=\"DejaVuSans-48\"/>\n      </defs>\n      <g transform=\"translate(45.06663 239.238437)scale(0.1 -0.1)\">\n       <use xlink:href=\"#DejaVuSans-48\"/>\n      </g>\n     </g>\n    </g>\n    <g id=\"xtick_2\">\n     <g id=\"line2d_2\">\n      <g>\n       <use style=\"stroke:#000000;stroke-width:0.8;\" x=\"101.458306\" xlink:href=\"#mf70b2b3b8d\" y=\"224.64\"/>\n      </g>\n     </g>\n     <g id=\"text_2\">\n      <!-- 10 -->\n      <defs>\n       <path d=\"M 12.40625 8.296875 \nL 28.515625 8.296875 \nL 28.515625 63.921875 \nL 10.984375 60.40625 \nL 10.984375 69.390625 \nL 28.421875 72.90625 \nL 38.28125 72.90625 \nL 38.28125 8.296875 \nL 54.390625 8.296875 \nL 54.390625 0 \nL 12.40625 0 \nz\n\" id=\"DejaVuSans-49\"/>\n      </defs>\n      <g transform=\"translate(95.095806 239.238437)scale(0.1 -0.1)\">\n       <use xlink:href=\"#DejaVuSans-49\"/>\n       <use x=\"63.623047\" xlink:href=\"#DejaVuSans-48\"/>\n      </g>\n     </g>\n    </g>\n    <g id=\"xtick_3\">\n     <g id=\"line2d_3\">\n      <g>\n       <use style=\"stroke:#000000;stroke-width:0.8;\" x=\"154.668732\" xlink:href=\"#mf70b2b3b8d\" y=\"224.64\"/>\n      </g>\n     </g>\n     <g id=\"text_3\">\n      <!-- 20 -->\n      <defs>\n       <path d=\"M 19.1875 8.296875 \nL 53.609375 8.296875 \nL 53.609375 0 \nL 7.328125 0 \nL 7.328125 8.296875 \nQ 12.9375 14.109375 22.625 23.890625 \nQ 32.328125 33.6875 34.8125 36.53125 \nQ 39.546875 41.84375 41.421875 45.53125 \nQ 43.3125 49.21875 43.3125 52.78125 \nQ 43.3125 58.59375 39.234375 62.25 \nQ 35.15625 65.921875 28.609375 65.921875 \nQ 23.96875 65.921875 18.8125 64.3125 \nQ 13.671875 62.703125 7.8125 59.421875 \nL 7.8125 69.390625 \nQ 13.765625 71.78125 18.9375 73 \nQ 24.125 74.21875 28.421875 74.21875 \nQ 39.75 74.21875 46.484375 68.546875 \nQ 53.21875 62.890625 53.21875 53.421875 \nQ 53.21875 48.921875 51.53125 44.890625 \nQ 49.859375 40.875 45.40625 35.40625 \nQ 44.1875 33.984375 37.640625 27.21875 \nQ 31.109375 20.453125 19.1875 8.296875 \nz\n\" id=\"DejaVuSans-50\"/>\n      </defs>\n      <g transform=\"translate(148.306232 239.238437)scale(0.1 -0.1)\">\n       <use xlink:href=\"#DejaVuSans-50\"/>\n       <use x=\"63.623047\" xlink:href=\"#DejaVuSans-48\"/>\n      </g>\n     </g>\n    </g>\n    <g id=\"xtick_4\">\n     <g id=\"line2d_4\">\n      <g>\n       <use style=\"stroke:#000000;stroke-width:0.8;\" x=\"207.879158\" xlink:href=\"#mf70b2b3b8d\" y=\"224.64\"/>\n      </g>\n     </g>\n     <g id=\"text_4\">\n      <!-- 30 -->\n      <defs>\n       <path d=\"M 40.578125 39.3125 \nQ 47.65625 37.796875 51.625 33 \nQ 55.609375 28.21875 55.609375 21.1875 \nQ 55.609375 10.40625 48.1875 4.484375 \nQ 40.765625 -1.421875 27.09375 -1.421875 \nQ 22.515625 -1.421875 17.65625 -0.515625 \nQ 12.796875 0.390625 7.625 2.203125 \nL 7.625 11.71875 \nQ 11.71875 9.328125 16.59375 8.109375 \nQ 21.484375 6.890625 26.8125 6.890625 \nQ 36.078125 6.890625 40.9375 10.546875 \nQ 45.796875 14.203125 45.796875 21.1875 \nQ 45.796875 27.640625 41.28125 31.265625 \nQ 36.765625 34.90625 28.71875 34.90625 \nL 20.21875 34.90625 \nL 20.21875 43.015625 \nL 29.109375 43.015625 \nQ 36.375 43.015625 40.234375 45.921875 \nQ 44.09375 48.828125 44.09375 54.296875 \nQ 44.09375 59.90625 40.109375 62.90625 \nQ 36.140625 65.921875 28.71875 65.921875 \nQ 24.65625 65.921875 20.015625 65.03125 \nQ 15.375 64.15625 9.8125 62.3125 \nL 9.8125 71.09375 \nQ 15.4375 72.65625 20.34375 73.4375 \nQ 25.25 74.21875 29.59375 74.21875 \nQ 40.828125 74.21875 47.359375 69.109375 \nQ 53.90625 64.015625 53.90625 55.328125 \nQ 53.90625 49.265625 50.4375 45.09375 \nQ 46.96875 40.921875 40.578125 39.3125 \nz\n\" id=\"DejaVuSans-51\"/>\n      </defs>\n      <g transform=\"translate(201.516658 239.238437)scale(0.1 -0.1)\">\n       <use xlink:href=\"#DejaVuSans-51\"/>\n       <use x=\"63.623047\" xlink:href=\"#DejaVuSans-48\"/>\n      </g>\n     </g>\n    </g>\n    <g id=\"xtick_5\">\n     <g id=\"line2d_5\">\n      <g>\n       <use style=\"stroke:#000000;stroke-width:0.8;\" x=\"261.089584\" xlink:href=\"#mf70b2b3b8d\" y=\"224.64\"/>\n      </g>\n     </g>\n     <g id=\"text_5\">\n      <!-- 40 -->\n      <defs>\n       <path d=\"M 37.796875 64.3125 \nL 12.890625 25.390625 \nL 37.796875 25.390625 \nz\nM 35.203125 72.90625 \nL 47.609375 72.90625 \nL 47.609375 25.390625 \nL 58.015625 25.390625 \nL 58.015625 17.1875 \nL 47.609375 17.1875 \nL 47.609375 0 \nL 37.796875 0 \nL 37.796875 17.1875 \nL 4.890625 17.1875 \nL 4.890625 26.703125 \nz\n\" id=\"DejaVuSans-52\"/>\n      </defs>\n      <g transform=\"translate(254.727084 239.238437)scale(0.1 -0.1)\">\n       <use xlink:href=\"#DejaVuSans-52\"/>\n       <use x=\"63.623047\" xlink:href=\"#DejaVuSans-48\"/>\n      </g>\n     </g>\n    </g>\n    <g id=\"xtick_6\">\n     <g id=\"line2d_6\">\n      <g>\n       <use style=\"stroke:#000000;stroke-width:0.8;\" x=\"314.30001\" xlink:href=\"#mf70b2b3b8d\" y=\"224.64\"/>\n      </g>\n     </g>\n     <g id=\"text_6\">\n      <!-- 50 -->\n      <defs>\n       <path d=\"M 10.796875 72.90625 \nL 49.515625 72.90625 \nL 49.515625 64.59375 \nL 19.828125 64.59375 \nL 19.828125 46.734375 \nQ 21.96875 47.46875 24.109375 47.828125 \nQ 26.265625 48.1875 28.421875 48.1875 \nQ 40.625 48.1875 47.75 41.5 \nQ 54.890625 34.8125 54.890625 23.390625 \nQ 54.890625 11.625 47.5625 5.09375 \nQ 40.234375 -1.421875 26.90625 -1.421875 \nQ 22.3125 -1.421875 17.546875 -0.640625 \nQ 12.796875 0.140625 7.71875 1.703125 \nL 7.71875 11.625 \nQ 12.109375 9.234375 16.796875 8.0625 \nQ 21.484375 6.890625 26.703125 6.890625 \nQ 35.15625 6.890625 40.078125 11.328125 \nQ 45.015625 15.765625 45.015625 23.390625 \nQ 45.015625 31 40.078125 35.4375 \nQ 35.15625 39.890625 26.703125 39.890625 \nQ 22.75 39.890625 18.8125 39.015625 \nQ 14.890625 38.140625 10.796875 36.28125 \nz\n\" id=\"DejaVuSans-53\"/>\n      </defs>\n      <g transform=\"translate(307.93751 239.238437)scale(0.1 -0.1)\">\n       <use xlink:href=\"#DejaVuSans-53\"/>\n       <use x=\"63.623047\" xlink:href=\"#DejaVuSans-48\"/>\n      </g>\n     </g>\n    </g>\n   </g>\n   <g id=\"matplotlib.axis_2\">\n    <g id=\"ytick_1\">\n     <g id=\"line2d_7\">\n      <defs>\n       <path d=\"M 0 0 \nL -3.5 0 \n\" id=\"m5c86985b71\" style=\"stroke:#000000;stroke-width:0.8;\"/>\n      </defs>\n      <g>\n       <use style=\"stroke:#000000;stroke-width:0.8;\" x=\"30.103125\" xlink:href=\"#m5c86985b71\" y=\"224.64\"/>\n      </g>\n     </g>\n     <g id=\"text_7\">\n      <!-- 0.0 -->\n      <defs>\n       <path d=\"M 10.6875 12.40625 \nL 21 12.40625 \nL 21 0 \nL 10.6875 0 \nz\n\" id=\"DejaVuSans-46\"/>\n      </defs>\n      <g transform=\"translate(7.2 228.439219)scale(0.1 -0.1)\">\n       <use xlink:href=\"#DejaVuSans-48\"/>\n       <use x=\"63.623047\" xlink:href=\"#DejaVuSans-46\"/>\n       <use x=\"95.410156\" xlink:href=\"#DejaVuSans-48\"/>\n      </g>\n     </g>\n    </g>\n    <g id=\"ytick_2\">\n     <g id=\"line2d_8\">\n      <g>\n       <use style=\"stroke:#000000;stroke-width:0.8;\" x=\"30.103125\" xlink:href=\"#m5c86985b71\" y=\"183.222857\"/>\n      </g>\n     </g>\n     <g id=\"text_8\">\n      <!-- 0.2 -->\n      <g transform=\"translate(7.2 187.022076)scale(0.1 -0.1)\">\n       <use xlink:href=\"#DejaVuSans-48\"/>\n       <use x=\"63.623047\" xlink:href=\"#DejaVuSans-46\"/>\n       <use x=\"95.410156\" xlink:href=\"#DejaVuSans-50\"/>\n      </g>\n     </g>\n    </g>\n    <g id=\"ytick_3\">\n     <g id=\"line2d_9\">\n      <g>\n       <use style=\"stroke:#000000;stroke-width:0.8;\" x=\"30.103125\" xlink:href=\"#m5c86985b71\" y=\"141.805714\"/>\n      </g>\n     </g>\n     <g id=\"text_9\">\n      <!-- 0.4 -->\n      <g transform=\"translate(7.2 145.604933)scale(0.1 -0.1)\">\n       <use xlink:href=\"#DejaVuSans-48\"/>\n       <use x=\"63.623047\" xlink:href=\"#DejaVuSans-46\"/>\n       <use x=\"95.410156\" xlink:href=\"#DejaVuSans-52\"/>\n      </g>\n     </g>\n    </g>\n    <g id=\"ytick_4\">\n     <g id=\"line2d_10\">\n      <g>\n       <use style=\"stroke:#000000;stroke-width:0.8;\" x=\"30.103125\" xlink:href=\"#m5c86985b71\" y=\"100.388571\"/>\n      </g>\n     </g>\n     <g id=\"text_10\">\n      <!-- 0.6 -->\n      <defs>\n       <path d=\"M 33.015625 40.375 \nQ 26.375 40.375 22.484375 35.828125 \nQ 18.609375 31.296875 18.609375 23.390625 \nQ 18.609375 15.53125 22.484375 10.953125 \nQ 26.375 6.390625 33.015625 6.390625 \nQ 39.65625 6.390625 43.53125 10.953125 \nQ 47.40625 15.53125 47.40625 23.390625 \nQ 47.40625 31.296875 43.53125 35.828125 \nQ 39.65625 40.375 33.015625 40.375 \nz\nM 52.59375 71.296875 \nL 52.59375 62.3125 \nQ 48.875 64.0625 45.09375 64.984375 \nQ 41.3125 65.921875 37.59375 65.921875 \nQ 27.828125 65.921875 22.671875 59.328125 \nQ 17.53125 52.734375 16.796875 39.40625 \nQ 19.671875 43.65625 24.015625 45.921875 \nQ 28.375 48.1875 33.59375 48.1875 \nQ 44.578125 48.1875 50.953125 41.515625 \nQ 57.328125 34.859375 57.328125 23.390625 \nQ 57.328125 12.15625 50.6875 5.359375 \nQ 44.046875 -1.421875 33.015625 -1.421875 \nQ 20.359375 -1.421875 13.671875 8.265625 \nQ 6.984375 17.96875 6.984375 36.375 \nQ 6.984375 53.65625 15.1875 63.9375 \nQ 23.390625 74.21875 37.203125 74.21875 \nQ 40.921875 74.21875 44.703125 73.484375 \nQ 48.484375 72.75 52.59375 71.296875 \nz\n\" id=\"DejaVuSans-54\"/>\n      </defs>\n      <g transform=\"translate(7.2 104.18779)scale(0.1 -0.1)\">\n       <use xlink:href=\"#DejaVuSans-48\"/>\n       <use x=\"63.623047\" xlink:href=\"#DejaVuSans-46\"/>\n       <use x=\"95.410156\" xlink:href=\"#DejaVuSans-54\"/>\n      </g>\n     </g>\n    </g>\n    <g id=\"ytick_5\">\n     <g id=\"line2d_11\">\n      <g>\n       <use style=\"stroke:#000000;stroke-width:0.8;\" x=\"30.103125\" xlink:href=\"#m5c86985b71\" y=\"58.971429\"/>\n      </g>\n     </g>\n     <g id=\"text_11\">\n      <!-- 0.8 -->\n      <defs>\n       <path d=\"M 31.78125 34.625 \nQ 24.75 34.625 20.71875 30.859375 \nQ 16.703125 27.09375 16.703125 20.515625 \nQ 16.703125 13.921875 20.71875 10.15625 \nQ 24.75 6.390625 31.78125 6.390625 \nQ 38.8125 6.390625 42.859375 10.171875 \nQ 46.921875 13.96875 46.921875 20.515625 \nQ 46.921875 27.09375 42.890625 30.859375 \nQ 38.875 34.625 31.78125 34.625 \nz\nM 21.921875 38.8125 \nQ 15.578125 40.375 12.03125 44.71875 \nQ 8.5 49.078125 8.5 55.328125 \nQ 8.5 64.0625 14.71875 69.140625 \nQ 20.953125 74.21875 31.78125 74.21875 \nQ 42.671875 74.21875 48.875 69.140625 \nQ 55.078125 64.0625 55.078125 55.328125 \nQ 55.078125 49.078125 51.53125 44.71875 \nQ 48 40.375 41.703125 38.8125 \nQ 48.828125 37.15625 52.796875 32.3125 \nQ 56.78125 27.484375 56.78125 20.515625 \nQ 56.78125 9.90625 50.3125 4.234375 \nQ 43.84375 -1.421875 31.78125 -1.421875 \nQ 19.734375 -1.421875 13.25 4.234375 \nQ 6.78125 9.90625 6.78125 20.515625 \nQ 6.78125 27.484375 10.78125 32.3125 \nQ 14.796875 37.15625 21.921875 38.8125 \nz\nM 18.3125 54.390625 \nQ 18.3125 48.734375 21.84375 45.5625 \nQ 25.390625 42.390625 31.78125 42.390625 \nQ 38.140625 42.390625 41.71875 45.5625 \nQ 45.3125 48.734375 45.3125 54.390625 \nQ 45.3125 60.0625 41.71875 63.234375 \nQ 38.140625 66.40625 31.78125 66.40625 \nQ 25.390625 66.40625 21.84375 63.234375 \nQ 18.3125 60.0625 18.3125 54.390625 \nz\n\" id=\"DejaVuSans-56\"/>\n      </defs>\n      <g transform=\"translate(7.2 62.770647)scale(0.1 -0.1)\">\n       <use xlink:href=\"#DejaVuSans-48\"/>\n       <use x=\"63.623047\" xlink:href=\"#DejaVuSans-46\"/>\n       <use x=\"95.410156\" xlink:href=\"#DejaVuSans-56\"/>\n      </g>\n     </g>\n    </g>\n    <g id=\"ytick_6\">\n     <g id=\"line2d_12\">\n      <g>\n       <use style=\"stroke:#000000;stroke-width:0.8;\" x=\"30.103125\" xlink:href=\"#m5c86985b71\" y=\"17.554286\"/>\n      </g>\n     </g>\n     <g id=\"text_12\">\n      <!-- 1.0 -->\n      <g transform=\"translate(7.2 21.353504)scale(0.1 -0.1)\">\n       <use xlink:href=\"#DejaVuSans-49\"/>\n       <use x=\"63.623047\" xlink:href=\"#DejaVuSans-46\"/>\n       <use x=\"95.410156\" xlink:href=\"#DejaVuSans-48\"/>\n      </g>\n     </g>\n    </g>\n   </g>\n   <g id=\"patch_61\">\n    <path d=\"M 30.103125 224.64 \nL 30.103125 7.2 \n\" style=\"fill:none;stroke:#000000;stroke-linecap:square;stroke-linejoin:miter;stroke-width:0.8;\"/>\n   </g>\n   <g id=\"patch_62\">\n    <path d=\"M 364.903125 224.64 \nL 364.903125 7.2 \n\" style=\"fill:none;stroke:#000000;stroke-linecap:square;stroke-linejoin:miter;stroke-width:0.8;\"/>\n   </g>\n   <g id=\"patch_63\">\n    <path d=\"M 30.103125 224.64 \nL 364.903125 224.64 \n\" style=\"fill:none;stroke:#000000;stroke-linecap:square;stroke-linejoin:miter;stroke-width:0.8;\"/>\n   </g>\n   <g id=\"patch_64\">\n    <path d=\"M 30.103125 7.2 \nL 364.903125 7.2 \n\" style=\"fill:none;stroke:#000000;stroke-linecap:square;stroke-linejoin:miter;stroke-width:0.8;\"/>\n   </g>\n  </g>\n </g>\n <defs>\n  <clipPath id=\"p68e1a802e6\">\n   <rect height=\"217.44\" width=\"334.8\" x=\"30.103125\" y=\"7.2\"/>\n  </clipPath>\n </defs>\n</svg>\n",
      "image/png": "[encoded data removed]"
     },
     "metadata": {
      "needs_background": "light"
     }
    }
   ],
   "source": [
    "selector = SelectKBest(f_regression, k='all')\n",
    "selector.fit(X_train, y_train)\n",
    "scores = -np.log10(selector.pvalues_)\n",
    "scores /= scores.max()\n",
    "X_indices = np.arange(X_train.shape[-1])\n",
    "plt.bar(X_indices - .45, scores, width=.2,\n",
    "        label=r'Univariate score ($-Log(p_{value})$)')"
   ]
  },
  {
   "cell_type": "code",
   "execution_count": 57,
   "metadata": {},
   "outputs": [
    {
     "output_type": "execute_result",
     "data": {
      "text/plain": "4         n_non_stop_unique_tokens\n5                        num_hrefs\n6                   num_self_hrefs\n7                         num_imgs\n8                       num_videos\n13             data_channel_is_bus\n16           data_channel_is_world\n18                      kw_max_min\n19                      kw_avg_min\n20                      kw_min_max\n22                      kw_avg_max\n23                      kw_min_avg\n24                      kw_max_avg\n25                      kw_avg_avg\n26       self_reference_min_shares\n27       self_reference_max_shares\n28      self_reference_avg_sharess\n39                          LDA_02\n40                          LDA_03\n42             global_subjectivity\n43       global_sentiment_polarity\n45      global_rate_negative_words\n46             rate_positive_words\n47             rate_negative_words\n48           avg_positive_polarity\n51           avg_negative_polarity\n52           min_negative_polarity\n53           max_negative_polarity\n57    abs_title_sentiment_polarity\nName: feature, dtype: object"
     },
     "metadata": {},
     "execution_count": 57
    }
   ],
   "source": [
    "feature_map = pd.DataFrame(zip(X_train.columns,selector.pvalues_),columns=['feature','score'])\n",
    "features = feature_map[feature_map['score'] < 0.05]['feature']\n",
    "features"
   ]
  },
  {
   "cell_type": "code",
   "execution_count": 82,
   "metadata": {
    "tags": []
   },
   "outputs": [
    {
     "output_type": "stream",
     "name": "stdout",
     "text": "19\n"
    },
    {
     "output_type": "execute_result",
     "data": {
      "text/plain": "Index(['n_tokens_content', 'n_non_stop_unique_tokens', 'num_hrefs', 'num_imgs',\n       'average_token_length', 'num_keywords', 'kw_max_min', 'kw_avg_min',\n       'kw_min_max', 'kw_avg_max', 'kw_min_avg', 'kw_max_avg', 'kw_avg_avg',\n       'self_reference_min_shares', 'self_reference_avg_sharess', 'LDA_01',\n       'global_subjectivity', 'global_sentiment_polarity',\n       'rate_positive_words'],\n      dtype='object')"
     },
     "metadata": {},
     "execution_count": 82
    }
   ],
   "source": [
    "sel = SelectFromModel(RandomForestRegressor(n_estimators = 100))\n",
    "sel.fit(X_train, y_train)\n",
    "selected_feat= X_train.columns[(sel.get_support())]\n",
    "print(len(selected_feat))\n",
    "selected_feat"
   ]
  },
  {
   "cell_type": "code",
   "execution_count": 97,
   "metadata": {},
   "outputs": [],
   "source": [
    "columns =['n_tokens_content', 'n_non_stop_unique_tokens', 'num_hrefs', 'num_imgs',\n",
    "       'average_token_length', 'num_keywords', 'kw_shares', 'self_reference_avg_sharess', 'LDA_01',\n",
    "       'global_subjectivity', 'global_sentiment_polarity',\n",
    "       'rate_positive_words']"
   ]
  },
  {
   "cell_type": "code",
   "execution_count": 140,
   "metadata": {},
   "outputs": [],
   "source": [
    "columns =['n_tokens_title', 'n_tokens_content', 'n_unique_tokens',\n",
    "       'n_non_stop_words', 'n_non_stop_unique_tokens', 'num_hrefs',\n",
    "       'num_self_hrefs', 'num_imgs', 'num_videos', 'average_token_length',\n",
    "       'num_keywords', 'data_channel_is_lifestyle',\n",
    "       'data_channel_is_entertainment', 'data_channel_is_bus',\n",
    "       'data_channel_is_socmed', 'data_channel_is_tech',\n",
    "       'data_channel_is_world', 'self_reference_min_shares', 'self_reference_max_shares',\n",
    "       'self_reference_avg_sharess', 'weekday_is_monday', 'weekday_is_tuesday',\n",
    "       'weekday_is_wednesday', 'weekday_is_thursday', 'weekday_is_friday',\n",
    "       'weekday_is_saturday', 'weekday_is_sunday', 'is_weekend', 'LDA_00',\n",
    "       'LDA_01', 'LDA_02', 'LDA_03', 'LDA_04', 'global_subjectivity',\n",
    "       'global_sentiment_polarity', 'global_rate_positive_words',\n",
    "       'global_rate_negative_words', 'rate_positive_words',\n",
    "       'rate_negative_words', 'avg_positive_polarity', 'min_positive_polarity',\n",
    "       'max_positive_polarity', 'avg_negative_polarity',\n",
    "       'min_negative_polarity', 'max_negative_polarity', 'title_subjectivity',\n",
    "       'title_sentiment_polarity', 'abs_title_subjectivity',\n",
    "       'abs_title_sentiment_polarity']"
   ]
  },
  {
   "cell_type": "code",
   "execution_count": 139,
   "metadata": {},
   "outputs": [
    {
     "output_type": "execute_result",
     "data": {
      "text/plain": "Index(['n_tokens_title', 'n_tokens_content', 'n_unique_tokens',\n       'n_non_stop_words', 'n_non_stop_unique_tokens', 'num_hrefs',\n       'num_self_hrefs', 'num_imgs', 'num_videos', 'average_token_length',\n       'num_keywords', 'data_channel_is_lifestyle',\n       'data_channel_is_entertainment', 'data_channel_is_bus',\n       'data_channel_is_socmed', 'data_channel_is_tech',\n       'data_channel_is_world', 'kw_min_min', 'kw_max_min', 'kw_avg_min',\n       'kw_min_max', 'kw_max_max', 'kw_avg_max', 'kw_min_avg', 'kw_max_avg',\n       'kw_avg_avg', 'self_reference_min_shares', 'self_reference_max_shares',\n       'self_reference_avg_sharess', 'weekday_is_monday', 'weekday_is_tuesday',\n       'weekday_is_wednesday', 'weekday_is_thursday', 'weekday_is_friday',\n       'weekday_is_saturday', 'weekday_is_sunday', 'is_weekend', 'LDA_00',\n       'LDA_01', 'LDA_02', 'LDA_03', 'LDA_04', 'global_subjectivity',\n       'global_sentiment_polarity', 'global_rate_positive_words',\n       'global_rate_negative_words', 'rate_positive_words',\n       'rate_negative_words', 'avg_positive_polarity', 'min_positive_polarity',\n       'max_positive_polarity', 'avg_negative_polarity',\n       'min_negative_polarity', 'max_negative_polarity', 'title_subjectivity',\n       'title_sentiment_polarity', 'abs_title_subjectivity',\n       'abs_title_sentiment_polarity', 'shares'],\n      dtype='object')"
     },
     "metadata": {},
     "execution_count": 139
    }
   ],
   "source": [
    "train.columns"
   ]
  },
  {
   "cell_type": "code",
   "execution_count": 141,
   "metadata": {
    "tags": []
   },
   "outputs": [],
   "source": [
    "boost = xgb.XGBRegressor(\n",
    "    n_jobs=-1,\n",
    "    max_depth =10,\n",
    "    n_estimators=1000,\n",
    "    learning_rate=0.05,\n",
    "    reg_alpha=0.5,\n",
    "    gamma=0.2,\n",
    "    reg_lambda=0.1)"
   ]
  },
  {
   "cell_type": "code",
   "execution_count": 142,
   "metadata": {
    "tags": []
   },
   "outputs": [
    {
     "output_type": "stream",
     "name": "stdout",
     "text": "75.57211265452094\n"
    }
   ],
   "source": [
    "boost_pipeline = make_pipeline(CustomTransformer(),FeatureSelector(columns),boost)\n",
    "eval_score(boost_pipeline)"
   ]
  },
  {
   "cell_type": "code",
   "execution_count": 143,
   "metadata": {
    "tags": []
   },
   "outputs": [
    {
     "output_type": "stream",
     "name": "stdout",
     "text": "-8469.60484581304\n"
    }
   ],
   "source": [
    "cross_score(make_pipeline(CustomTransformer(),FeatureSelector(columns)),boost)"
   ]
  },
  {
   "cell_type": "code",
   "execution_count": 118,
   "metadata": {},
   "outputs": [],
   "source": [
    "save(boost_pipeline)"
   ]
  },
  {
   "cell_type": "code",
   "execution_count": 136,
   "metadata": {},
   "outputs": [],
   "source": [
    "gbm = lgb.LGBMRegressor(\n",
    "                        num_leaves=1023,\n",
    "                        learning_rate=0.3,\n",
    "                        num_iterations=1000 \n",
    "                        )"
   ]
  },
  {
   "cell_type": "code",
   "execution_count": 137,
   "metadata": {
    "tags": []
   },
   "outputs": [
    {
     "output_type": "stream",
     "name": "stdout",
     "text": "18.502538195120877\n"
    }
   ],
   "source": [
    "gbm_pipeline = make_pipeline(CustomTransformer(),FeatureSelector(columns),gbm)\n",
    "eval_score(gbm_pipeline)"
   ]
  },
  {
   "cell_type": "code",
   "execution_count": 138,
   "metadata": {
    "tags": []
   },
   "outputs": [
    {
     "output_type": "stream",
     "name": "stdout",
     "text": "-11692.072913797942\n"
    }
   ],
   "source": [
    "cross_score(make_pipeline(CustomTransformer(),FeatureSelector(columns)),gbm)"
   ]
  }
 ]
}