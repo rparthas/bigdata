{
 "metadata": {
  "language_info": {
   "codemirror_mode": {
    "name": "ipython",
    "version": 3
   },
   "file_extension": ".py",
   "mimetype": "text/x-python",
   "name": "python",
   "nbconvert_exporter": "python",
   "pygments_lexer": "ipython3",
   "version": "3.6.8-final"
  },
  "orig_nbformat": 2,
  "kernelspec": {
   "name": "python36864bitc4644ebd35af45be9b4a2c5bf182f1bf",
   "display_name": "Python 3.6.8 64-bit"
  }
 },
 "nbformat": 4,
 "nbformat_minor": 2,
 "cells": [
  {
   "cell_type": "code",
   "execution_count": 171,
   "metadata": {},
   "outputs": [],
   "source": [
    "import pandas as pd\n",
    "import numpy as np"
   ]
  },
  {
   "cell_type": "code",
   "execution_count": 277,
   "metadata": {},
   "outputs": [],
   "source": [
    "train = pd.read_csv('data/News_Train.csv')\n",
    "test = pd.read_csv('data/News_Test.csv')\n",
    "X_train = train.loc[:,train.columns != 'shares']\n",
    "y_train = train.loc[:,train.columns == 'shares']"
   ]
  },
  {
   "cell_type": "code",
   "execution_count": 174,
   "metadata": {},
   "outputs": [
    {
     "output_type": "execute_result",
     "data": {
      "text/plain": "   n_tokens_title  n_tokens_content  n_unique_tokens  n_non_stop_words  \\\n0             9.0             286.0         0.552727               1.0   \n1            10.0              96.0         0.702128               1.0   \n2             9.0             399.0         0.675532               1.0   \n3            11.0            1388.0         0.482156               1.0   \n4            12.0             499.0         0.564682               1.0   \n5            12.0             178.0         0.720000               1.0   \n6            11.0             317.0         0.529412               1.0   \n7            10.0             309.0         0.604575               1.0   \n8             6.0             214.0         0.650943               1.0   \n9            11.0             250.0         0.510917               1.0   \n\n   n_non_stop_unique_tokens  num_hrefs  num_self_hrefs  num_imgs  num_videos  \\\n0                  0.612903        6.0             4.0       2.0         1.0   \n1                  0.796875        4.0             3.0      10.0         1.0   \n2                  0.813433       21.0             1.0      20.0         0.0   \n3                  0.685446       40.0             4.0       2.0         5.0   \n4                  0.752508       10.0             0.0       1.0         0.0   \n5                  0.820755        2.0             2.0       1.0         1.0   \n6                  0.684211        2.0             1.0       1.0         0.0   \n7                  0.812121        2.0             1.0       1.0         0.0   \n8                  0.824000        5.0             3.0       1.0         0.0   \n9                  0.618056        4.0             0.0       1.0         0.0   \n\n   average_token_length  ...  avg_positive_polarity  min_positive_polarity  \\\n0              4.702797  ...               0.343506               0.136364   \n1              4.458333  ...               0.425000               0.200000   \n2              4.859649  ...               0.312613               0.100000   \n3              4.562680  ...               0.363141               0.033333   \n4              4.961924  ...               0.291111               0.100000   \n5              4.404494  ...               0.435897               0.100000   \n6              4.864353  ...               0.341667               0.100000   \n7              4.313916  ...               0.370370               0.033333   \n8              4.593458  ...               0.391667               0.250000   \n9              4.436000  ...               0.355579               0.100000   \n\n   max_positive_polarity  avg_negative_polarity  min_negative_polarity  \\\n0                    1.0               0.000000               0.000000   \n1                    0.5              -0.650000              -0.700000   \n2                    0.6              -0.180208              -0.400000   \n3                    1.0              -0.260965              -0.500000   \n4                    0.6              -0.195238              -0.400000   \n5                    1.0              -0.156250              -0.187500   \n6                    0.7              -0.163889              -0.200000   \n7                    0.7              -0.210185              -0.400000   \n8                    0.6               0.000000               0.000000   \n9                    0.8              -0.157870              -0.166667   \n\n   max_negative_polarity  title_subjectivity  title_sentiment_polarity  \\\n0                  0.000            0.000000                  0.000000   \n1                 -0.600            1.000000                  0.500000   \n2                 -0.100            0.535714                  0.285714   \n3                 -0.050            1.000000                 -0.500000   \n4                 -0.100            0.650000                  0.350000   \n5                 -0.125            0.333333                  0.333333   \n6                 -0.125            0.333333                  0.250000   \n7                 -0.100            0.500000                  0.136364   \n8                  0.000            0.800000                  0.400000   \n9                 -0.125            0.500000                  0.500000   \n\n   abs_title_subjectivity  abs_title_sentiment_polarity  \n0                0.500000                      0.000000  \n1                0.500000                      0.500000  \n2                0.035714                      0.285714  \n3                0.500000                      0.500000  \n4                0.150000                      0.350000  \n5                0.166667                      0.333333  \n6                0.166667                      0.250000  \n7                0.000000                      0.136364  \n8                0.300000                      0.400000  \n9                0.000000                      0.500000  \n\n[10 rows x 58 columns]",
      "text/html": "<div>\n<style scoped>\n    .dataframe tbody tr th:only-of-type {\n        vertical-align: middle;\n    }\n\n    .dataframe tbody tr th {\n        vertical-align: top;\n    }\n\n    .dataframe thead th {\n        text-align: right;\n    }\n</style>\n<table border=\"1\" class=\"dataframe\">\n  <thead>\n    <tr style=\"text-align: right;\">\n      <th></th>\n      <th>n_tokens_title</th>\n      <th>n_tokens_content</th>\n      <th>n_unique_tokens</th>\n      <th>n_non_stop_words</th>\n      <th>n_non_stop_unique_tokens</th>\n      <th>num_hrefs</th>\n      <th>num_self_hrefs</th>\n      <th>num_imgs</th>\n      <th>num_videos</th>\n      <th>average_token_length</th>\n      <th>...</th>\n      <th>avg_positive_polarity</th>\n      <th>min_positive_polarity</th>\n      <th>max_positive_polarity</th>\n      <th>avg_negative_polarity</th>\n      <th>min_negative_polarity</th>\n      <th>max_negative_polarity</th>\n      <th>title_subjectivity</th>\n      <th>title_sentiment_polarity</th>\n      <th>abs_title_subjectivity</th>\n      <th>abs_title_sentiment_polarity</th>\n    </tr>\n  </thead>\n  <tbody>\n    <tr>\n      <th>0</th>\n      <td>9.0</td>\n      <td>286.0</td>\n      <td>0.552727</td>\n      <td>1.0</td>\n      <td>0.612903</td>\n      <td>6.0</td>\n      <td>4.0</td>\n      <td>2.0</td>\n      <td>1.0</td>\n      <td>4.702797</td>\n      <td>...</td>\n      <td>0.343506</td>\n      <td>0.136364</td>\n      <td>1.0</td>\n      <td>0.000000</td>\n      <td>0.000000</td>\n      <td>0.000</td>\n      <td>0.000000</td>\n      <td>0.000000</td>\n      <td>0.500000</td>\n      <td>0.000000</td>\n    </tr>\n    <tr>\n      <th>1</th>\n      <td>10.0</td>\n      <td>96.0</td>\n      <td>0.702128</td>\n      <td>1.0</td>\n      <td>0.796875</td>\n      <td>4.0</td>\n      <td>3.0</td>\n      <td>10.0</td>\n      <td>1.0</td>\n      <td>4.458333</td>\n      <td>...</td>\n      <td>0.425000</td>\n      <td>0.200000</td>\n      <td>0.5</td>\n      <td>-0.650000</td>\n      <td>-0.700000</td>\n      <td>-0.600</td>\n      <td>1.000000</td>\n      <td>0.500000</td>\n      <td>0.500000</td>\n      <td>0.500000</td>\n    </tr>\n    <tr>\n      <th>2</th>\n      <td>9.0</td>\n      <td>399.0</td>\n      <td>0.675532</td>\n      <td>1.0</td>\n      <td>0.813433</td>\n      <td>21.0</td>\n      <td>1.0</td>\n      <td>20.0</td>\n      <td>0.0</td>\n      <td>4.859649</td>\n      <td>...</td>\n      <td>0.312613</td>\n      <td>0.100000</td>\n      <td>0.6</td>\n      <td>-0.180208</td>\n      <td>-0.400000</td>\n      <td>-0.100</td>\n      <td>0.535714</td>\n      <td>0.285714</td>\n      <td>0.035714</td>\n      <td>0.285714</td>\n    </tr>\n    <tr>\n      <th>3</th>\n      <td>11.0</td>\n      <td>1388.0</td>\n      <td>0.482156</td>\n      <td>1.0</td>\n      <td>0.685446</td>\n      <td>40.0</td>\n      <td>4.0</td>\n      <td>2.0</td>\n      <td>5.0</td>\n      <td>4.562680</td>\n      <td>...</td>\n      <td>0.363141</td>\n      <td>0.033333</td>\n      <td>1.0</td>\n      <td>-0.260965</td>\n      <td>-0.500000</td>\n      <td>-0.050</td>\n      <td>1.000000</td>\n      <td>-0.500000</td>\n      <td>0.500000</td>\n      <td>0.500000</td>\n    </tr>\n    <tr>\n      <th>4</th>\n      <td>12.0</td>\n      <td>499.0</td>\n      <td>0.564682</td>\n      <td>1.0</td>\n      <td>0.752508</td>\n      <td>10.0</td>\n      <td>0.0</td>\n      <td>1.0</td>\n      <td>0.0</td>\n      <td>4.961924</td>\n      <td>...</td>\n      <td>0.291111</td>\n      <td>0.100000</td>\n      <td>0.6</td>\n      <td>-0.195238</td>\n      <td>-0.400000</td>\n      <td>-0.100</td>\n      <td>0.650000</td>\n      <td>0.350000</td>\n      <td>0.150000</td>\n      <td>0.350000</td>\n    </tr>\n    <tr>\n      <th>5</th>\n      <td>12.0</td>\n      <td>178.0</td>\n      <td>0.720000</td>\n      <td>1.0</td>\n      <td>0.820755</td>\n      <td>2.0</td>\n      <td>2.0</td>\n      <td>1.0</td>\n      <td>1.0</td>\n      <td>4.404494</td>\n      <td>...</td>\n      <td>0.435897</td>\n      <td>0.100000</td>\n      <td>1.0</td>\n      <td>-0.156250</td>\n      <td>-0.187500</td>\n      <td>-0.125</td>\n      <td>0.333333</td>\n      <td>0.333333</td>\n      <td>0.166667</td>\n      <td>0.333333</td>\n    </tr>\n    <tr>\n      <th>6</th>\n      <td>11.0</td>\n      <td>317.0</td>\n      <td>0.529412</td>\n      <td>1.0</td>\n      <td>0.684211</td>\n      <td>2.0</td>\n      <td>1.0</td>\n      <td>1.0</td>\n      <td>0.0</td>\n      <td>4.864353</td>\n      <td>...</td>\n      <td>0.341667</td>\n      <td>0.100000</td>\n      <td>0.7</td>\n      <td>-0.163889</td>\n      <td>-0.200000</td>\n      <td>-0.125</td>\n      <td>0.333333</td>\n      <td>0.250000</td>\n      <td>0.166667</td>\n      <td>0.250000</td>\n    </tr>\n    <tr>\n      <th>7</th>\n      <td>10.0</td>\n      <td>309.0</td>\n      <td>0.604575</td>\n      <td>1.0</td>\n      <td>0.812121</td>\n      <td>2.0</td>\n      <td>1.0</td>\n      <td>1.0</td>\n      <td>0.0</td>\n      <td>4.313916</td>\n      <td>...</td>\n      <td>0.370370</td>\n      <td>0.033333</td>\n      <td>0.7</td>\n      <td>-0.210185</td>\n      <td>-0.400000</td>\n      <td>-0.100</td>\n      <td>0.500000</td>\n      <td>0.136364</td>\n      <td>0.000000</td>\n      <td>0.136364</td>\n    </tr>\n    <tr>\n      <th>8</th>\n      <td>6.0</td>\n      <td>214.0</td>\n      <td>0.650943</td>\n      <td>1.0</td>\n      <td>0.824000</td>\n      <td>5.0</td>\n      <td>3.0</td>\n      <td>1.0</td>\n      <td>0.0</td>\n      <td>4.593458</td>\n      <td>...</td>\n      <td>0.391667</td>\n      <td>0.250000</td>\n      <td>0.6</td>\n      <td>0.000000</td>\n      <td>0.000000</td>\n      <td>0.000</td>\n      <td>0.800000</td>\n      <td>0.400000</td>\n      <td>0.300000</td>\n      <td>0.400000</td>\n    </tr>\n    <tr>\n      <th>9</th>\n      <td>11.0</td>\n      <td>250.0</td>\n      <td>0.510917</td>\n      <td>1.0</td>\n      <td>0.618056</td>\n      <td>4.0</td>\n      <td>0.0</td>\n      <td>1.0</td>\n      <td>0.0</td>\n      <td>4.436000</td>\n      <td>...</td>\n      <td>0.355579</td>\n      <td>0.100000</td>\n      <td>0.8</td>\n      <td>-0.157870</td>\n      <td>-0.166667</td>\n      <td>-0.125</td>\n      <td>0.500000</td>\n      <td>0.500000</td>\n      <td>0.000000</td>\n      <td>0.500000</td>\n    </tr>\n  </tbody>\n</table>\n<p>10 rows × 58 columns</p>\n</div>"
     },
     "metadata": {},
     "execution_count": 174
    }
   ],
   "source": [
    "X_train.head(10)"
   ]
  },
  {
   "cell_type": "code",
   "execution_count": 146,
   "metadata": {},
   "outputs": [],
   "source": [
    "from sklearn.metrics import mean_absolute_error\n",
    "def eval_score(model):\n",
    "    model.fit(X_train,y_train)\n",
    "    y_pred =model.predict(X_train)\n",
    "    print(mean_absolute_error(y_train,y_pred))"
   ]
  },
  {
   "cell_type": "code",
   "execution_count": 309,
   "metadata": {},
   "outputs": [],
   "source": [
    "from sklearn.model_selection import cross_val_score\n",
    "def cross_score(model):\n",
    "    scores = cross_val_score(model,X_train,y_train,cv=5,scoring='neg_mean_absolute_error')\n",
    "    print(scores.mean())"
   ]
  },
  {
   "cell_type": "code",
   "execution_count": 151,
   "metadata": {
    "tags": []
   },
   "outputs": [
    {
     "output_type": "stream",
     "name": "stdout",
     "text": "2824.9381218466197\n"
    }
   ],
   "source": [
    "from sklearn.ensemble import RandomForestRegressor\n",
    "regressor = RandomForestRegressor(n_estimators = 100)\n",
    "eval_score(regressor)"
   ]
  },
  {
   "cell_type": "code",
   "execution_count": 237,
   "metadata": {},
   "outputs": [
    {
     "output_type": "execute_result",
     "data": {
      "text/plain": "shares                           1.000000\nkw_avg_avg                       0.107429\nnum_imgs                         0.090645\nkw_max_avg                       0.079531\nkw_min_avg                       0.077779\nLDA_03                           0.075461\nnum_hrefs                        0.072622\nglobal_subjectivity              0.064016\nabs_title_sentiment_polarity     0.047195\nkw_max_min                       0.041228\nglobal_rate_negative_words       0.037965\nkw_min_max                       0.037648\nnum_self_hrefs                   0.035308\nkw_avg_min                       0.034295\nself_reference_avg_sharess       0.029220\nself_reference_max_shares        0.028921\navg_positive_polarity            0.028890\nnum_videos                       0.028749\nrate_negative_words              0.028205\nkw_avg_max                       0.023130\nself_reference_min_shares        0.023078\nweekday_is_sunday                0.021041\nn_tokens_content                 0.019353\nkw_min_min                       0.018588\ntitle_subjectivity               0.018348\nis_weekend                       0.018204\nmin_positive_polarity            0.017045\nLDA_01                           0.011302\nweekday_is_monday                0.009373\ndata_channel_is_entertainment    0.008710\nmax_positive_polarity            0.006418\ndata_channel_is_socmed           0.005794\nglobal_rate_positive_words       0.004370\nweekday_is_saturday              0.003460\ndata_channel_is_lifestyle        0.002742\naverage_token_length             0.002703\nweekday_is_wednesday             0.000381\nn_non_stop_words                -0.000042\nabs_title_subjectivity          -0.000489\nweekday_is_friday               -0.000629\nkw_shares                       -0.005343\nkw_max_max                      -0.008245\nnum_keywords                    -0.009732\nn_unique_tokens                 -0.011017\nweekday_is_tuesday              -0.011826\nweekday_is_thursday             -0.012769\ntitle_sentiment_polarity        -0.014473\nLDA_00                          -0.014762\nn_tokens_title                  -0.015418\nLDA_04                          -0.018215\ndata_channel_is_tech            -0.019705\nmax_negative_polarity           -0.022182\nrate_positive_words             -0.022858\ndata_channel_is_bus             -0.022866\nn_non_stop_unique_tokens        -0.035478\nglobal_sentiment_polarity       -0.037820\nmin_negative_polarity           -0.042182\ndata_channel_is_world           -0.044712\nLDA_02                          -0.055645\navg_negative_polarity           -0.063230\nName: shares, dtype: float64"
     },
     "metadata": {},
     "execution_count": 237
    }
   ],
   "source": [
    "train.corr()['shares'].sort_values(ascending=False)"
   ]
  },
  {
   "cell_type": "code",
   "execution_count": 156,
   "metadata": {},
   "outputs": [
    {
     "output_type": "execute_result",
     "data": {
      "text/plain": "Index(['n_tokens_title', 'n_tokens_content', 'n_unique_tokens',\n       'n_non_stop_words', 'n_non_stop_unique_tokens', 'num_hrefs',\n       'num_self_hrefs', 'num_imgs', 'num_videos', 'average_token_length',\n       'num_keywords', 'data_channel_is_lifestyle',\n       'data_channel_is_entertainment', 'data_channel_is_bus',\n       'data_channel_is_socmed', 'data_channel_is_tech',\n       'data_channel_is_world', 'kw_min_min', 'kw_max_min', 'kw_avg_min',\n       'kw_min_max', 'kw_max_max', 'kw_avg_max', 'kw_min_avg', 'kw_max_avg',\n       'kw_avg_avg', 'self_reference_min_shares', 'self_reference_max_shares',\n       'self_reference_avg_sharess', 'weekday_is_monday', 'weekday_is_tuesday',\n       'weekday_is_wednesday', 'weekday_is_thursday', 'weekday_is_friday',\n       'weekday_is_saturday', 'weekday_is_sunday', 'is_weekend', 'LDA_00',\n       'LDA_01', 'LDA_02', 'LDA_03', 'LDA_04', 'global_subjectivity',\n       'global_sentiment_polarity', 'global_rate_positive_words',\n       'global_rate_negative_words', 'rate_positive_words',\n       'rate_negative_words', 'avg_positive_polarity', 'min_positive_polarity',\n       'max_positive_polarity', 'avg_negative_polarity',\n       'min_negative_polarity', 'max_negative_polarity', 'title_subjectivity',\n       'title_sentiment_polarity', 'abs_title_subjectivity',\n       'abs_title_sentiment_polarity', 'shares'],\n      dtype='object')"
     },
     "metadata": {},
     "execution_count": 156
    }
   ],
   "source": [
    "train.columns"
   ]
  },
  {
   "cell_type": "code",
   "execution_count": 219,
   "metadata": {
    "tags": []
   },
   "outputs": [
    {
     "output_type": "execute_result",
     "data": {
      "text/plain": "          LDA_00    LDA_01    LDA_02    LDA_03    LDA_04    shares\nLDA_00  1.000000 -0.181013 -0.249636 -0.277151 -0.254541 -0.014762\nLDA_01 -0.181013  1.000000 -0.220987 -0.117842 -0.250165  0.011302\nLDA_02 -0.249636 -0.220987  1.000000 -0.324296 -0.232418 -0.055645\nLDA_03 -0.277151 -0.117842 -0.324296  1.000000 -0.360946  0.075461\nLDA_04 -0.254541 -0.250165 -0.232418 -0.360946  1.000000 -0.018215\nshares -0.014762  0.011302 -0.055645  0.075461 -0.018215  1.000000",
      "text/html": "<div>\n<style scoped>\n    .dataframe tbody tr th:only-of-type {\n        vertical-align: middle;\n    }\n\n    .dataframe tbody tr th {\n        vertical-align: top;\n    }\n\n    .dataframe thead th {\n        text-align: right;\n    }\n</style>\n<table border=\"1\" class=\"dataframe\">\n  <thead>\n    <tr style=\"text-align: right;\">\n      <th></th>\n      <th>LDA_00</th>\n      <th>LDA_01</th>\n      <th>LDA_02</th>\n      <th>LDA_03</th>\n      <th>LDA_04</th>\n      <th>shares</th>\n    </tr>\n  </thead>\n  <tbody>\n    <tr>\n      <th>LDA_00</th>\n      <td>1.000000</td>\n      <td>-0.181013</td>\n      <td>-0.249636</td>\n      <td>-0.277151</td>\n      <td>-0.254541</td>\n      <td>-0.014762</td>\n    </tr>\n    <tr>\n      <th>LDA_01</th>\n      <td>-0.181013</td>\n      <td>1.000000</td>\n      <td>-0.220987</td>\n      <td>-0.117842</td>\n      <td>-0.250165</td>\n      <td>0.011302</td>\n    </tr>\n    <tr>\n      <th>LDA_02</th>\n      <td>-0.249636</td>\n      <td>-0.220987</td>\n      <td>1.000000</td>\n      <td>-0.324296</td>\n      <td>-0.232418</td>\n      <td>-0.055645</td>\n    </tr>\n    <tr>\n      <th>LDA_03</th>\n      <td>-0.277151</td>\n      <td>-0.117842</td>\n      <td>-0.324296</td>\n      <td>1.000000</td>\n      <td>-0.360946</td>\n      <td>0.075461</td>\n    </tr>\n    <tr>\n      <th>LDA_04</th>\n      <td>-0.254541</td>\n      <td>-0.250165</td>\n      <td>-0.232418</td>\n      <td>-0.360946</td>\n      <td>1.000000</td>\n      <td>-0.018215</td>\n    </tr>\n    <tr>\n      <th>shares</th>\n      <td>-0.014762</td>\n      <td>0.011302</td>\n      <td>-0.055645</td>\n      <td>0.075461</td>\n      <td>-0.018215</td>\n      <td>1.000000</td>\n    </tr>\n  </tbody>\n</table>\n</div>"
     },
     "metadata": {},
     "execution_count": 219
    }
   ],
   "source": [
    "import seaborn as sns\n",
    "import matplotlib.pyplot as plt\n",
    "train.loc[:,['LDA_00','LDA_01','LDA_02','LDA_03','LDA_04','shares']].corr()"
   ]
  },
  {
   "cell_type": "code",
   "execution_count": 155,
   "metadata": {},
   "outputs": [
    {
     "output_type": "execute_result",
     "data": {
      "text/plain": "                          feature  importance\n25                     kw_avg_avg    0.120820\n43      global_sentiment_polarity    0.093574\n23                     kw_min_avg    0.085330\n24                     kw_max_avg    0.080719\n10                   num_keywords    0.053037\n42            global_subjectivity    0.042179\n7                        num_imgs    0.036498\n21                     kw_max_max    0.025505\n45     global_rate_negative_words    0.024421\n5                       num_hrefs    0.022676\n1                n_tokens_content    0.021264\n26      self_reference_min_shares    0.021144\n38                         LDA_01    0.020396\n4        n_non_stop_unique_tokens    0.019012\n9            average_token_length    0.017908\n18                     kw_max_min    0.016069\n28     self_reference_avg_sharess    0.016043\n20                     kw_min_max    0.015604\n37                         LDA_00    0.015200\n50          max_positive_polarity    0.015096\n55       title_sentiment_polarity    0.014689\n48          avg_positive_polarity    0.014640\n19                     kw_avg_min    0.014417\n44     global_rate_positive_words    0.012758\n6                  num_self_hrefs    0.012218\n2                 n_unique_tokens    0.011926\n39                         LDA_02    0.011833\n51          avg_negative_polarity    0.011192\n22                     kw_avg_max    0.010288\n8                      num_videos    0.010214\n57   abs_title_sentiment_polarity    0.010116\n40                         LDA_03    0.009821\n41                         LDA_04    0.009754\n27      self_reference_max_shares    0.009666\n47            rate_negative_words    0.009607\n46            rate_positive_words    0.009233\n53          max_negative_polarity    0.008514\n17                     kw_min_min    0.007387\n52          min_negative_polarity    0.006931\n0                  n_tokens_title    0.006409\n35              weekday_is_sunday    0.004715\n36                     is_weekend    0.003083\n29              weekday_is_monday    0.003052\n54             title_subjectivity    0.003023\n49          min_positive_polarity    0.002942\n56         abs_title_subjectivity    0.002365\n33              weekday_is_friday    0.001368\n31           weekday_is_wednesday    0.000908\n16          data_channel_is_world    0.000851\n32            weekday_is_thursday    0.000788\n14         data_channel_is_socmed    0.000552\n13            data_channel_is_bus    0.000502\n11      data_channel_is_lifestyle    0.000497\n30             weekday_is_tuesday    0.000389\n34            weekday_is_saturday    0.000311\n15           data_channel_is_tech    0.000298\n12  data_channel_is_entertainment    0.000233\n3                n_non_stop_words    0.000014",
      "text/html": "<div>\n<style scoped>\n    .dataframe tbody tr th:only-of-type {\n        vertical-align: middle;\n    }\n\n    .dataframe tbody tr th {\n        vertical-align: top;\n    }\n\n    .dataframe thead th {\n        text-align: right;\n    }\n</style>\n<table border=\"1\" class=\"dataframe\">\n  <thead>\n    <tr style=\"text-align: right;\">\n      <th></th>\n      <th>feature</th>\n      <th>importance</th>\n    </tr>\n  </thead>\n  <tbody>\n    <tr>\n      <th>25</th>\n      <td>kw_avg_avg</td>\n      <td>0.120820</td>\n    </tr>\n    <tr>\n      <th>43</th>\n      <td>global_sentiment_polarity</td>\n      <td>0.093574</td>\n    </tr>\n    <tr>\n      <th>23</th>\n      <td>kw_min_avg</td>\n      <td>0.085330</td>\n    </tr>\n    <tr>\n      <th>24</th>\n      <td>kw_max_avg</td>\n      <td>0.080719</td>\n    </tr>\n    <tr>\n      <th>10</th>\n      <td>num_keywords</td>\n      <td>0.053037</td>\n    </tr>\n    <tr>\n      <th>42</th>\n      <td>global_subjectivity</td>\n      <td>0.042179</td>\n    </tr>\n    <tr>\n      <th>7</th>\n      <td>num_imgs</td>\n      <td>0.036498</td>\n    </tr>\n    <tr>\n      <th>21</th>\n      <td>kw_max_max</td>\n      <td>0.025505</td>\n    </tr>\n    <tr>\n      <th>45</th>\n      <td>global_rate_negative_words</td>\n      <td>0.024421</td>\n    </tr>\n    <tr>\n      <th>5</th>\n      <td>num_hrefs</td>\n      <td>0.022676</td>\n    </tr>\n    <tr>\n      <th>1</th>\n      <td>n_tokens_content</td>\n      <td>0.021264</td>\n    </tr>\n    <tr>\n      <th>26</th>\n      <td>self_reference_min_shares</td>\n      <td>0.021144</td>\n    </tr>\n    <tr>\n      <th>38</th>\n      <td>LDA_01</td>\n      <td>0.020396</td>\n    </tr>\n    <tr>\n      <th>4</th>\n      <td>n_non_stop_unique_tokens</td>\n      <td>0.019012</td>\n    </tr>\n    <tr>\n      <th>9</th>\n      <td>average_token_length</td>\n      <td>0.017908</td>\n    </tr>\n    <tr>\n      <th>18</th>\n      <td>kw_max_min</td>\n      <td>0.016069</td>\n    </tr>\n    <tr>\n      <th>28</th>\n      <td>self_reference_avg_sharess</td>\n      <td>0.016043</td>\n    </tr>\n    <tr>\n      <th>20</th>\n      <td>kw_min_max</td>\n      <td>0.015604</td>\n    </tr>\n    <tr>\n      <th>37</th>\n      <td>LDA_00</td>\n      <td>0.015200</td>\n    </tr>\n    <tr>\n      <th>50</th>\n      <td>max_positive_polarity</td>\n      <td>0.015096</td>\n    </tr>\n    <tr>\n      <th>55</th>\n      <td>title_sentiment_polarity</td>\n      <td>0.014689</td>\n    </tr>\n    <tr>\n      <th>48</th>\n      <td>avg_positive_polarity</td>\n      <td>0.014640</td>\n    </tr>\n    <tr>\n      <th>19</th>\n      <td>kw_avg_min</td>\n      <td>0.014417</td>\n    </tr>\n    <tr>\n      <th>44</th>\n      <td>global_rate_positive_words</td>\n      <td>0.012758</td>\n    </tr>\n    <tr>\n      <th>6</th>\n      <td>num_self_hrefs</td>\n      <td>0.012218</td>\n    </tr>\n    <tr>\n      <th>2</th>\n      <td>n_unique_tokens</td>\n      <td>0.011926</td>\n    </tr>\n    <tr>\n      <th>39</th>\n      <td>LDA_02</td>\n      <td>0.011833</td>\n    </tr>\n    <tr>\n      <th>51</th>\n      <td>avg_negative_polarity</td>\n      <td>0.011192</td>\n    </tr>\n    <tr>\n      <th>22</th>\n      <td>kw_avg_max</td>\n      <td>0.010288</td>\n    </tr>\n    <tr>\n      <th>8</th>\n      <td>num_videos</td>\n      <td>0.010214</td>\n    </tr>\n    <tr>\n      <th>57</th>\n      <td>abs_title_sentiment_polarity</td>\n      <td>0.010116</td>\n    </tr>\n    <tr>\n      <th>40</th>\n      <td>LDA_03</td>\n      <td>0.009821</td>\n    </tr>\n    <tr>\n      <th>41</th>\n      <td>LDA_04</td>\n      <td>0.009754</td>\n    </tr>\n    <tr>\n      <th>27</th>\n      <td>self_reference_max_shares</td>\n      <td>0.009666</td>\n    </tr>\n    <tr>\n      <th>47</th>\n      <td>rate_negative_words</td>\n      <td>0.009607</td>\n    </tr>\n    <tr>\n      <th>46</th>\n      <td>rate_positive_words</td>\n      <td>0.009233</td>\n    </tr>\n    <tr>\n      <th>53</th>\n      <td>max_negative_polarity</td>\n      <td>0.008514</td>\n    </tr>\n    <tr>\n      <th>17</th>\n      <td>kw_min_min</td>\n      <td>0.007387</td>\n    </tr>\n    <tr>\n      <th>52</th>\n      <td>min_negative_polarity</td>\n      <td>0.006931</td>\n    </tr>\n    <tr>\n      <th>0</th>\n      <td>n_tokens_title</td>\n      <td>0.006409</td>\n    </tr>\n    <tr>\n      <th>35</th>\n      <td>weekday_is_sunday</td>\n      <td>0.004715</td>\n    </tr>\n    <tr>\n      <th>36</th>\n      <td>is_weekend</td>\n      <td>0.003083</td>\n    </tr>\n    <tr>\n      <th>29</th>\n      <td>weekday_is_monday</td>\n      <td>0.003052</td>\n    </tr>\n    <tr>\n      <th>54</th>\n      <td>title_subjectivity</td>\n      <td>0.003023</td>\n    </tr>\n    <tr>\n      <th>49</th>\n      <td>min_positive_polarity</td>\n      <td>0.002942</td>\n    </tr>\n    <tr>\n      <th>56</th>\n      <td>abs_title_subjectivity</td>\n      <td>0.002365</td>\n    </tr>\n    <tr>\n      <th>33</th>\n      <td>weekday_is_friday</td>\n      <td>0.001368</td>\n    </tr>\n    <tr>\n      <th>31</th>\n      <td>weekday_is_wednesday</td>\n      <td>0.000908</td>\n    </tr>\n    <tr>\n      <th>16</th>\n      <td>data_channel_is_world</td>\n      <td>0.000851</td>\n    </tr>\n    <tr>\n      <th>32</th>\n      <td>weekday_is_thursday</td>\n      <td>0.000788</td>\n    </tr>\n    <tr>\n      <th>14</th>\n      <td>data_channel_is_socmed</td>\n      <td>0.000552</td>\n    </tr>\n    <tr>\n      <th>13</th>\n      <td>data_channel_is_bus</td>\n      <td>0.000502</td>\n    </tr>\n    <tr>\n      <th>11</th>\n      <td>data_channel_is_lifestyle</td>\n      <td>0.000497</td>\n    </tr>\n    <tr>\n      <th>30</th>\n      <td>weekday_is_tuesday</td>\n      <td>0.000389</td>\n    </tr>\n    <tr>\n      <th>34</th>\n      <td>weekday_is_saturday</td>\n      <td>0.000311</td>\n    </tr>\n    <tr>\n      <th>15</th>\n      <td>data_channel_is_tech</td>\n      <td>0.000298</td>\n    </tr>\n    <tr>\n      <th>12</th>\n      <td>data_channel_is_entertainment</td>\n      <td>0.000233</td>\n    </tr>\n    <tr>\n      <th>3</th>\n      <td>n_non_stop_words</td>\n      <td>0.000014</td>\n    </tr>\n  </tbody>\n</table>\n</div>"
     },
     "metadata": {},
     "execution_count": 155
    }
   ],
   "source": [
    "from sklearn.ensemble import RandomForestRegressor\n",
    "from sklearn.feature_selection import SelectFromModel\n",
    "sel = SelectFromModel(RandomForestRegressor(n_estimators = 100))\n",
    "sel.fit(X_train, y_train)\n",
    "selected_feat= X_train.columns[(sel.get_support())]\n",
    "feature_map = pd.DataFrame(zip(train.columns.drop('shares'),sel.estimator_.feature_importances_),columns=['feature','importance'])\n",
    "feature_map.sort_values(by='importance',ascending=False)"
   ]
  },
  {
   "cell_type": "code",
   "execution_count": 157,
   "metadata": {
    "tags": []
   },
   "outputs": [
    {
     "output_type": "stream",
     "name": "stdout",
     "text": "15\n"
    },
    {
     "output_type": "execute_result",
     "data": {
      "text/plain": "Index(['n_tokens_content', 'n_non_stop_unique_tokens', 'num_hrefs', 'num_imgs',\n       'average_token_length', 'num_keywords', 'kw_max_max', 'kw_min_avg',\n       'kw_max_avg', 'kw_avg_avg', 'self_reference_min_shares', 'LDA_01',\n       'global_subjectivity', 'global_sentiment_polarity',\n       'global_rate_negative_words'],\n      dtype='object')"
     },
     "metadata": {},
     "execution_count": 157
    }
   ],
   "source": [
    "print(len(selected_feat))\n",
    "selected_feat"
   ]
  },
  {
   "cell_type": "code",
   "execution_count": 176,
   "metadata": {},
   "outputs": [
    {
     "output_type": "execute_result",
     "data": {
      "text/plain": "Index(['n_tokens_title', 'n_tokens_content', 'n_unique_tokens',\n       'n_non_stop_words', 'n_non_stop_unique_tokens', 'num_hrefs',\n       'num_self_hrefs', 'num_imgs', 'num_videos', 'average_token_length',\n       'num_keywords', 'data_channel_is_lifestyle',\n       'data_channel_is_entertainment', 'data_channel_is_bus',\n       'data_channel_is_socmed', 'data_channel_is_tech',\n       'data_channel_is_world', 'kw_min_min', 'kw_max_min', 'kw_avg_min',\n       'kw_min_max', 'kw_max_max', 'kw_avg_max', 'kw_min_avg', 'kw_max_avg',\n       'kw_avg_avg', 'self_reference_min_shares', 'self_reference_max_shares',\n       'self_reference_avg_sharess', 'weekday_is_monday', 'weekday_is_tuesday',\n       'weekday_is_wednesday', 'weekday_is_thursday', 'weekday_is_friday',\n       'weekday_is_saturday', 'weekday_is_sunday', 'is_weekend', 'LDA_00',\n       'LDA_01', 'LDA_02', 'LDA_03', 'LDA_04', 'global_subjectivity',\n       'global_sentiment_polarity', 'global_rate_positive_words',\n       'global_rate_negative_words', 'rate_positive_words',\n       'rate_negative_words', 'avg_positive_polarity', 'min_positive_polarity',\n       'max_positive_polarity', 'avg_negative_polarity',\n       'min_negative_polarity', 'max_negative_polarity', 'title_subjectivity',\n       'title_sentiment_polarity', 'abs_title_subjectivity',\n       'abs_title_sentiment_polarity', 'shares'],\n      dtype='object')"
     },
     "metadata": {},
     "execution_count": 176
    }
   ],
   "source": [
    "train.columns"
   ]
  },
  {
   "cell_type": "code",
   "execution_count": 299,
   "metadata": {},
   "outputs": [],
   "source": [
    "mod_train= pd.DataFrame(train)\n",
    "mod_train['kw_shares'] = train.apply(lambda row: row['kw_max_min']+row['kw_max_max']+row['kw_max_avg'],axis=1)\n",
    "mod_train =mod_train.drop(columns=['kw_min_min', 'kw_max_min', 'kw_avg_min',\n",
    "       'kw_min_max', 'kw_max_max', 'kw_avg_max', 'kw_min_avg', 'kw_max_avg',\n",
    "       'kw_avg_avg'])"
   ]
  },
  {
   "cell_type": "code",
   "execution_count": 300,
   "metadata": {},
   "outputs": [
    {
     "output_type": "execute_result",
     "data": {
      "text/plain": "9"
     },
     "metadata": {},
     "execution_count": 300
    }
   ],
   "source": [
    "columns =['n_tokens_content', 'n_non_stop_unique_tokens', 'num_hrefs', 'num_imgs',\n",
    "       'average_token_length', 'kw_shares', 'self_reference_min_shares',\n",
    "       'global_subjectivity', 'global_sentiment_polarity']\n",
    "len(columns)"
   ]
  },
  {
   "cell_type": "code",
   "execution_count": 233,
   "metadata": {},
   "outputs": [
    {
     "output_type": "execute_result",
     "data": {
      "text/plain": "                           avg_positive_polarity  avg_negative_polarity  \\\navg_positive_polarity                   1.000000              -0.264103   \navg_negative_polarity                  -0.264103               1.000000   \nglobal_sentiment_polarity               0.500474               0.246130   \nshares                                  0.028890              -0.063230   \n\n                           global_sentiment_polarity   shares  \navg_positive_polarity                       0.500474  0.02889  \navg_negative_polarity                       0.246130 -0.06323  \nglobal_sentiment_polarity                   1.000000 -0.03782  \nshares                                     -0.037820  1.00000  ",
      "text/html": "<div>\n<style scoped>\n    .dataframe tbody tr th:only-of-type {\n        vertical-align: middle;\n    }\n\n    .dataframe tbody tr th {\n        vertical-align: top;\n    }\n\n    .dataframe thead th {\n        text-align: right;\n    }\n</style>\n<table border=\"1\" class=\"dataframe\">\n  <thead>\n    <tr style=\"text-align: right;\">\n      <th></th>\n      <th>avg_positive_polarity</th>\n      <th>avg_negative_polarity</th>\n      <th>global_sentiment_polarity</th>\n      <th>shares</th>\n    </tr>\n  </thead>\n  <tbody>\n    <tr>\n      <th>avg_positive_polarity</th>\n      <td>1.000000</td>\n      <td>-0.264103</td>\n      <td>0.500474</td>\n      <td>0.02889</td>\n    </tr>\n    <tr>\n      <th>avg_negative_polarity</th>\n      <td>-0.264103</td>\n      <td>1.000000</td>\n      <td>0.246130</td>\n      <td>-0.06323</td>\n    </tr>\n    <tr>\n      <th>global_sentiment_polarity</th>\n      <td>0.500474</td>\n      <td>0.246130</td>\n      <td>1.000000</td>\n      <td>-0.03782</td>\n    </tr>\n    <tr>\n      <th>shares</th>\n      <td>0.028890</td>\n      <td>-0.063230</td>\n      <td>-0.037820</td>\n      <td>1.00000</td>\n    </tr>\n  </tbody>\n</table>\n</div>"
     },
     "metadata": {},
     "execution_count": 233
    }
   ],
   "source": [
    "train.loc[:,[ 'avg_positive_polarity',  'avg_negative_polarity','global_sentiment_polarity','shares']].corr()"
   ]
  },
  {
   "cell_type": "code",
   "execution_count": 301,
   "metadata": {},
   "outputs": [
    {
     "output_type": "execute_result",
     "data": {
      "text/plain": "n_tokens_content             0.019353\nn_non_stop_unique_tokens    -0.035478\nnum_hrefs                    0.072622\nnum_imgs                     0.090645\naverage_token_length         0.002703\nkw_shares                   -0.005343\nself_reference_min_shares    0.023078\nglobal_subjectivity          0.064016\nglobal_sentiment_polarity   -0.037820\nshares                       1.000000\nName: shares, dtype: float64"
     },
     "metadata": {},
     "execution_count": 301
    }
   ],
   "source": [
    "mod_train.loc[:,columns+ ['shares']].corr()['shares']"
   ]
  },
  {
   "cell_type": "code",
   "execution_count": 304,
   "metadata": {
    "tags": []
   },
   "outputs": [],
   "source": [
    "X_train = mod_train.loc[:,columns]\n",
    "y_train = mod_train.loc[:,mod_train.columns == 'shares']"
   ]
  },
  {
   "cell_type": "code",
   "execution_count": 311,
   "metadata": {
    "tags": []
   },
   "outputs": [],
   "source": [
    "import xgboost as xgb\n",
    "boost = xgb.XGBRegressor(\n",
    "    n_jobs=-1,\n",
    "    max_depth =10,\n",
    "    n_estimators=1000,\n",
    "    learning_rate=0.05,\n",
    "    reg_alpha=0.5,\n",
    "    gamma=0.2,\n",
    "    reg_lambda=0.1)\n"
   ]
  },
  {
   "cell_type": "code",
   "execution_count": 239,
   "metadata": {},
   "outputs": [],
   "source": [
    "from sklearn.preprocessing import PolynomialFeatures"
   ]
  },
  {
   "cell_type": "code",
   "execution_count": 242,
   "metadata": {
    "tags": []
   },
   "outputs": [
    {
     "output_type": "stream",
     "name": "stdout",
     "text": "115.45332432124016\n"
    }
   ],
   "source": [
    "eval_score(make_pipeline(PolynomialFeatures(degree=2),MinMaxScaler(),boost))"
   ]
  },
  {
   "cell_type": "code",
   "execution_count": 313,
   "metadata": {
    "tags": []
   },
   "outputs": [
    {
     "output_type": "stream",
     "name": "stdout",
     "text": "-8654.984990766385\n"
    }
   ],
   "source": [
    "cross_score(make_pipeline(PolynomialFeatures(degree=2),MinMaxScaler(),boost))"
   ]
  },
  {
   "cell_type": "code",
   "execution_count": 101,
   "metadata": {},
   "outputs": [],
   "source": [
    "from sklearn.ensemble import StackingRegressor\n",
    "estimators = [\n",
    "    ('1',etg),\n",
    "    ('2',boost)\n",
    "]\n",
    "reg = StackingRegressor(\n",
    "  estimators=estimators,\n",
    " final_estimator=RandomForestRegressor(n_estimators=10,\n",
    "                                         random_state=42)) "
   ]
  },
  {
   "cell_type": "code",
   "execution_count": 103,
   "metadata": {
    "tags": []
   },
   "outputs": [
    {
     "output_type": "stream",
     "name": "stdout",
     "text": "-6375.961352310571\n"
    }
   ],
   "source": [
    "cross_score(etg)"
   ]
  },
  {
   "cell_type": "code",
   "execution_count": 253,
   "metadata": {
    "tags": []
   },
   "outputs": [
    {
     "output_type": "stream",
     "name": "stdout",
     "text": "6379.240264848839\n"
    }
   ],
   "source": [
    "from sklearn.svm import SVR\n",
    "eval_score(make_pipeline(MinMaxScaler(),SVR(kernel='rbf')))"
   ]
  },
  {
   "cell_type": "code",
   "execution_count": 254,
   "metadata": {
    "tags": []
   },
   "outputs": [
    {
     "output_type": "stream",
     "name": "stdout",
     "text": "-6378.878472479464\n"
    }
   ],
   "source": [
    "cross_score(make_pipeline(MinMaxScaler(),SVR(kernel='rbf')))"
   ]
  },
  {
   "cell_type": "code",
   "execution_count": 314,
   "metadata": {},
   "outputs": [],
   "source": [
    "def save(model):\n",
    "    model.fit(X_train,y_train)\n",
    "    test['kw_shares'] = test.apply(lambda row: row['kw_max_min']+row['kw_max_max']+row['kw_max_avg'],axis=1)\n",
    "    pred = model.predict(test.loc[:,columns])\n",
    "    pd.DataFrame(pred,columns=['shares']).to_csv('data/submission.csv',index=False)"
   ]
  },
  {
   "cell_type": "code",
   "execution_count": 263,
   "metadata": {},
   "outputs": [],
   "source": [
    "import lightgbm as lgb\n",
    "gbm = lgb.LGBMRegressor(\n",
    "                        num_leaves=2047,\n",
    "                        learning_rate=0.5,\n",
    "                        num_iterations=2000\n",
    "                        )"
   ]
  },
  {
   "cell_type": "code",
   "execution_count": 305,
   "metadata": {
    "tags": []
   },
   "outputs": [
    {
     "output_type": "stream",
     "name": "stdout",
     "text": "93.50497854778315\n"
    }
   ],
   "source": [
    "eval_score(gbm)"
   ]
  },
  {
   "cell_type": "code",
   "execution_count": 310,
   "metadata": {
    "tags": []
   },
   "outputs": [
    {
     "output_type": "stream",
     "name": "stdout",
     "text": "-11023.375051417639\n"
    }
   ],
   "source": [
    "cross_score(gbm)"
   ]
  },
  {
   "cell_type": "code",
   "execution_count": 315,
   "metadata": {},
   "outputs": [],
   "source": [
    "save(make_pipeline(PolynomialFeatures(degree=2),MinMaxScaler(),boost))"
   ]
  },
  {
   "cell_type": "code",
   "execution_count": 278,
   "metadata": {},
   "outputs": [],
   "source": [
    "train = pd.read_csv('data/News_Train.csv')\n",
    "test = pd.read_csv('data/News_Test.csv')\n",
    "X_train = train.loc[:,train.columns != 'shares']\n",
    "y_train = train.loc[:,train.columns == 'shares']"
   ]
  },
  {
   "cell_type": "code",
   "execution_count": 295,
   "metadata": {},
   "outputs": [],
   "source": [
    "from keras.models import Sequential\n",
    "from keras.layers import Dense,Activation\n",
    "def build_model():\n",
    "    model = Sequential()\n",
    "    model.add(Dense(units=25,activation='linear',input_dim=X_train.shape[1]))\n",
    "    model.add(Dense(units=15,activation='relu'))\n",
    "    model.add(Dense(units=10,activation='selu'))\n",
    "    model.add(Dense(units=5,activation='relu'))\n",
    "    model.add(Dense(units=1))\n",
    "    model.compile(optimizer = 'adam', loss = 'mean_absolute_error')\n",
    "    return model"
   ]
  },
  {
   "cell_type": "code",
   "execution_count": 296,
   "metadata": {
    "tags": []
   },
   "outputs": [
    {
     "output_type": "stream",
     "name": "stdout",
     "text": "6392.269672318736\n"
    }
   ],
   "source": [
    "from keras.wrappers.scikit_learn import KerasRegressor\n",
    "regressor = KerasRegressor(build_fn=build_model,epochs =20,batch_size=32,shuffle=False,verbose=0)\n",
    "eval_score(regressor)\n"
   ]
  },
  {
   "cell_type": "code",
   "execution_count": 288,
   "metadata": {
    "tags": []
   },
   "outputs": [
    {
     "output_type": "stream",
     "name": "stdout",
     "text": "-6376.010581033662\n"
    }
   ],
   "source": [
    "cross_score(regressor)"
   ]
  }
 ]
}