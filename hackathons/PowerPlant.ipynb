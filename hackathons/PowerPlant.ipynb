{
 "metadata": {
  "language_info": {
   "codemirror_mode": {
    "name": "ipython",
    "version": 3
   },
   "file_extension": ".py",
   "mimetype": "text/x-python",
   "name": "python",
   "nbconvert_exporter": "python",
   "pygments_lexer": "ipython3",
   "version": "3.6.8-final"
  },
  "orig_nbformat": 2,
  "kernelspec": {
   "name": "python36864bitc4644ebd35af45be9b4a2c5bf182f1bf",
   "display_name": "Python 3.6.8 64-bit"
  }
 },
 "nbformat": 4,
 "nbformat_minor": 2,
 "cells": [
  {
   "cell_type": "code",
   "execution_count": 349,
   "metadata": {},
   "outputs": [],
   "source": [
    "import pandas as pd\n",
    "import numpy as np"
   ]
  },
  {
   "cell_type": "code",
   "execution_count": 350,
   "metadata": {},
   "outputs": [],
   "source": [
    "train = pd.read_csv('data/CCPP_Train.csv')\n",
    "test = pd.read_csv('data/CCPP_Test.csv')"
   ]
  },
  {
   "cell_type": "code",
   "execution_count": 351,
   "metadata": {},
   "outputs": [
    {
     "output_type": "execute_result",
     "data": {
      "text/plain": "      AT      V       AP     RH          PE\n0  29.07  72.51  1009.24  58.38  449.371855\n1  32.38  67.17  1006.97  60.04  450.861043\n2  19.29  67.71  1007.94  63.71  460.894029\n3  16.45  41.48  1016.64  45.21  467.577314\n4  21.43  46.97  1013.94  61.25  469.805723",
      "text/html": "<div>\n<style scoped>\n    .dataframe tbody tr th:only-of-type {\n        vertical-align: middle;\n    }\n\n    .dataframe tbody tr th {\n        vertical-align: top;\n    }\n\n    .dataframe thead th {\n        text-align: right;\n    }\n</style>\n<table border=\"1\" class=\"dataframe\">\n  <thead>\n    <tr style=\"text-align: right;\">\n      <th></th>\n      <th>AT</th>\n      <th>V</th>\n      <th>AP</th>\n      <th>RH</th>\n      <th>PE</th>\n    </tr>\n  </thead>\n  <tbody>\n    <tr>\n      <th>0</th>\n      <td>29.07</td>\n      <td>72.51</td>\n      <td>1009.24</td>\n      <td>58.38</td>\n      <td>449.371855</td>\n    </tr>\n    <tr>\n      <th>1</th>\n      <td>32.38</td>\n      <td>67.17</td>\n      <td>1006.97</td>\n      <td>60.04</td>\n      <td>450.861043</td>\n    </tr>\n    <tr>\n      <th>2</th>\n      <td>19.29</td>\n      <td>67.71</td>\n      <td>1007.94</td>\n      <td>63.71</td>\n      <td>460.894029</td>\n    </tr>\n    <tr>\n      <th>3</th>\n      <td>16.45</td>\n      <td>41.48</td>\n      <td>1016.64</td>\n      <td>45.21</td>\n      <td>467.577314</td>\n    </tr>\n    <tr>\n      <th>4</th>\n      <td>21.43</td>\n      <td>46.97</td>\n      <td>1013.94</td>\n      <td>61.25</td>\n      <td>469.805723</td>\n    </tr>\n  </tbody>\n</table>\n</div>"
     },
     "metadata": {},
     "execution_count": 351
    }
   ],
   "source": [
    "train.head()"
   ]
  },
  {
   "cell_type": "code",
   "execution_count": 352,
   "metadata": {},
   "outputs": [
    {
     "output_type": "execute_result",
     "data": {
      "text/plain": "          AT         V        AP        RH        PE\nAT  1.000000  0.842054 -0.514305 -0.541602 -0.946352\nV   0.842054  1.000000 -0.415093 -0.306395 -0.867356\nAP -0.514305 -0.415093  1.000000  0.115454  0.520058\nRH -0.541602 -0.306395  0.115454  1.000000  0.387785\nPE -0.946352 -0.867356  0.520058  0.387785  1.000000",
      "text/html": "<div>\n<style scoped>\n    .dataframe tbody tr th:only-of-type {\n        vertical-align: middle;\n    }\n\n    .dataframe tbody tr th {\n        vertical-align: top;\n    }\n\n    .dataframe thead th {\n        text-align: right;\n    }\n</style>\n<table border=\"1\" class=\"dataframe\">\n  <thead>\n    <tr style=\"text-align: right;\">\n      <th></th>\n      <th>AT</th>\n      <th>V</th>\n      <th>AP</th>\n      <th>RH</th>\n      <th>PE</th>\n    </tr>\n  </thead>\n  <tbody>\n    <tr>\n      <th>AT</th>\n      <td>1.000000</td>\n      <td>0.842054</td>\n      <td>-0.514305</td>\n      <td>-0.541602</td>\n      <td>-0.946352</td>\n    </tr>\n    <tr>\n      <th>V</th>\n      <td>0.842054</td>\n      <td>1.000000</td>\n      <td>-0.415093</td>\n      <td>-0.306395</td>\n      <td>-0.867356</td>\n    </tr>\n    <tr>\n      <th>AP</th>\n      <td>-0.514305</td>\n      <td>-0.415093</td>\n      <td>1.000000</td>\n      <td>0.115454</td>\n      <td>0.520058</td>\n    </tr>\n    <tr>\n      <th>RH</th>\n      <td>-0.541602</td>\n      <td>-0.306395</td>\n      <td>0.115454</td>\n      <td>1.000000</td>\n      <td>0.387785</td>\n    </tr>\n    <tr>\n      <th>PE</th>\n      <td>-0.946352</td>\n      <td>-0.867356</td>\n      <td>0.520058</td>\n      <td>0.387785</td>\n      <td>1.000000</td>\n    </tr>\n  </tbody>\n</table>\n</div>"
     },
     "metadata": {},
     "execution_count": 352
    }
   ],
   "source": [
    "train.corr()"
   ]
  },
  {
   "cell_type": "code",
   "execution_count": 485,
   "metadata": {},
   "outputs": [],
   "source": [
    "train_X = train.loc[:,['AT','V','AP','RH']]\n",
    "train_y =train.loc[:,train.columns == 'PE']"
   ]
  },
  {
   "cell_type": "code",
   "execution_count": 354,
   "metadata": {},
   "outputs": [],
   "source": [
    "from sklearn.pipeline import make_pipeline\n",
    "from sklearn.model_selection import cross_val_score\n",
    "def save_result_and_print_score(pipeline, save=False):\n",
    "    scores = cross_val_score(pipeline,train_X,train_y,cv=5,scoring='neg_root_mean_squared_error')\n",
    "    print(scores.mean())\n",
    "    if save:\n",
    "        pipeline.fit(train_X,train_y)\n",
    "        pred = pipeline.predict(test)\n",
    "        pd.DataFrame(pred,columns=['PE']).to_csv('data/submission.csv',index=False)"
   ]
  },
  {
   "cell_type": "code",
   "execution_count": 507,
   "metadata": {
    "tags": []
   },
   "outputs": [
    {
     "output_type": "stream",
     "name": "stdout",
     "text": "-2.52143137146683\n"
    }
   ],
   "source": [
    "import xgboost as xgb\n",
    "boost = xgb.XGBRegressor(\n",
    "    n_jobs=-1,\n",
    "    objective='reg:squarederror',\n",
    "    max_depth =10,\n",
    "    n_estimators=1000,\n",
    "    learning_rate=0.05,\n",
    "    reg_alpha=0.5,\n",
    "    gamma=0.2,\n",
    "    tree_method='hist',\n",
    "    grow_policy='lossguide',\n",
    "    max_bin = 2048,\n",
    "    reg_lambda=0.1)\n",
    "save_result_and_print_score(boost,save=True)"
   ]
  },
  {
   "cell_type": "code",
   "execution_count": 476,
   "metadata": {},
   "outputs": [],
   "source": [
    "import lightgbm as lgb\n",
    "gbm = lgb.LGBMRegressor(\n",
    "                        num_leaves=2047,\n",
    "                        learning_rate=1.0,\n",
    "                        num_iterations=1000,\n",
    "                        n_estimators=700,\n",
    "                        max_bin=1023,\n",
    "                        # tree_learner='feature',\n",
    "                        objective='rmse',\n",
    "                        # reg_alpha=0.5,\n",
    "                        # reg_lambda=0.1,\n",
    "                        # boosting='dart',\n",
    "                        # min_child_weight=3,\n",
    "                        # min_data_in_leaf=1,\n",
    "                        # subsample =0.5,\n",
    "                        # subsample_for_bin = 2000,\n",
    "                        min_data_in_bin=1,\n",
    "                        # extra_trees=True\n",
    "                        )\n"
   ]
  },
  {
   "cell_type": "code",
   "execution_count": null,
   "metadata": {},
   "outputs": [],
   "source": [
    "save_result_and_print_score(boost,save=False)"
   ]
  }
 ]
}