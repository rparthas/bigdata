{
 "metadata": {
  "language_info": {
   "codemirror_mode": {
    "name": "ipython",
    "version": 3
   },
   "file_extension": ".py",
   "mimetype": "text/x-python",
   "name": "python",
   "nbconvert_exporter": "python",
   "pygments_lexer": "ipython3",
   "version": "3.6.8-final"
  },
  "orig_nbformat": 2,
  "kernelspec": {
   "name": "python36864bit7af96a09e06e4cd28afb46b12f959ae8",
   "display_name": "Python 3.6.8 64-bit"
  }
 },
 "nbformat": 4,
 "nbformat_minor": 2,
 "cells": [
  {
   "cell_type": "code",
   "execution_count": 95,
   "metadata": {},
   "outputs": [],
   "source": [
    "import pandas as pd\n",
    "import numpy as np\n",
    "from sklearn.model_selection import cross_val_score,StratifiedKFold,GridSearchCV\n",
    "from sklearn.preprocessing import StandardScaler\n",
    "from keras.models import Sequential\n",
    "from keras.layers import Dense,Activation,Dropout\n",
    "from keras.wrappers.scikit_learn import KerasClassifier"
   ]
  },
  {
   "cell_type": "code",
   "execution_count": 49,
   "metadata": {},
   "outputs": [],
   "source": [
    "sc = StandardScaler()\n",
    "train = pd.read_csv('data/wh18_Train.csv')\n",
    "test=pd.read_csv('data/wh18_Test.csv')\n",
    "X_train = train.loc[:,train.columns != 'Class']\n",
    "y_train = train.loc[:,train.columns == 'Class']\n",
    "X_train = pd.DataFrame(sc.fit_transform(X_train), columns=X_train.columns)\n",
    "X_test = test.loc[:,test.columns != 'Class']\n",
    "X_test = pd.DataFrame(sc.transform(X_test), columns=X_test.columns)"
   ]
  },
  {
   "cell_type": "code",
   "execution_count": 103,
   "metadata": {},
   "outputs": [],
   "source": [
    "def build_model(dropout_rate=0.0,neurons=24,activation='sigmoid',init_mode='he_normal'):\n",
    "    model = Sequential()\n",
    "    model.add(Dense(units=neurons,activation=activation,input_dim=X_train.shape[1],kernel_initializer=init_mode))\n",
    "    model.add(Dropout(dropout_rate))\n",
    "    model.add(Dense(units=1,activation='sigmoid'))\n",
    "    model.compile(optimizer = 'adam', loss = 'binary_crossentropy', metrics = ['accuracy'])\n",
    "    return model"
   ]
  },
  {
   "cell_type": "code",
   "execution_count": 105,
   "metadata": {},
   "outputs": [],
   "source": [
    "classifier = KerasClassifier(build_fn=build_model,epochs =20,batch_size=20,shuffle=False,verbose=0)"
   ]
  },
  {
   "cell_type": "code",
   "execution_count": 80,
   "metadata": {
    "tags": []
   },
   "outputs": [
    {
     "output_type": "stream",
     "name": "stdout",
     "text": "{'init_mode': 'he_normal'}\n0.9006279550827423\n"
    }
   ],
   "source": [
    "init_mode = ['uniform', 'lecun_uniform', 'normal', 'zero', 'glorot_normal', 'glorot_uniform', 'he_normal', 'he_uniform']\n",
    "dropout_rate = np.arange(0,1.1,0.1)\n",
    "neurons = np.arange(0,32,4)\n",
    "activation = ['softmax', 'softplus', 'softsign', 'relu', 'tanh', 'sigmoid', 'hard_sigmoid', 'linear']\n",
    "param_grid = dict(init_mode=init_mode,dropout_rate=dropout_rate,activation=activation,neurons=neurons)\n",
    "kf = StratifiedKFold(n_splits=3)\n",
    "grid = GridSearchCV(estimator=classifier, param_grid=param_grid, n_jobs=-1, cv=kf,scoring='roc_auc')\n",
    "grid_result = grid.fit(X_train, y_train)\n",
    "print(grid_result.best_params_)\n",
    "print(grid_result.best_score_)"
   ]
  },
  {
   "cell_type": "code",
   "execution_count": 93,
   "metadata": {
    "tags": []
   },
   "outputs": [
    {
     "output_type": "stream",
     "name": "stdout",
     "text": "0.8542271027184819\n"
    }
   ],
   "source": [
    "from sklearn.model_selection import cross_val_score,StratifiedKFold\n",
    "kf = StratifiedKFold(n_splits=5)\n",
    "scores = cross_val_score(classifier, X_train, y_train, cv=kf,scoring='roc_auc')\n",
    "print(scores.mean())"
   ]
  },
  {
   "cell_type": "code",
   "execution_count": 86,
   "metadata": {
    "tags": []
   },
   "outputs": [],
   "source": [
    "classifier.fit(X_train,y_train)\n",
    "pd.DataFrame(classifier.predict(X_test),columns=['Class']).to_csv('data/submission.csv')"
   ]
  },
  {
   "cell_type": "code",
   "execution_count": 66,
   "metadata": {},
   "outputs": [
    {
     "output_type": "execute_result",
     "data": {
      "text/plain": "0    1620\n1     143\nName: Class, dtype: int64"
     },
     "metadata": {},
     "execution_count": 66
    }
   ],
   "source": [
    "y_train['Class'].value_counts()"
   ]
  }
 ]
}