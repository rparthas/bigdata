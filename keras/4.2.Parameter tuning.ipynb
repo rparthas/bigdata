{
 "nbformat": 4,
 "nbformat_minor": 2,
 "metadata": {
  "language_info": {
   "name": "python",
   "codemirror_mode": {
    "name": "ipython",
    "version": 3
   },
   "version": "3.7.4-final"
  },
  "orig_nbformat": 2,
  "file_extension": ".py",
  "mimetype": "text/x-python",
  "name": "python",
  "npconvert_exporter": "python",
  "pygments_lexer": "ipython3",
  "version": 3,
  "kernelspec": {
   "name": "python3",
   "display_name": "Python 3"
  }
 },
 "cells": [
  {
   "cell_type": "code",
   "execution_count": 19,
   "metadata": {},
   "outputs": [],
   "source": [
    "import pandas as pd\n",
    "import numpy as np\n",
    "import tensorflow as tf\n",
    "colnames = ['CIC0', 'SM1_Dz(Z)', 'GATS1i', 'NdsCH', 'NdssC','MLOGP', 'LC50']\n",
    "data = pd.read_csv('./data/qsar_fish_toxicity.csv', sep=';', names=colnames)\n",
    "X = data.drop('LC50', axis=1)\n",
    "y = data['LC50']"
   ]
  },
  {
   "cell_type": "code",
   "execution_count": 20,
   "metadata": {},
   "outputs": [],
   "source": [
    "# Define the Keras models\n",
    "from keras.models import Sequential\n",
    "from keras.layers import Dense\n",
    "def build_model_1():\n",
    "    # build the Keras model_1\n",
    "    model = Sequential()\n",
    "    model.add(Dense(4, input_dim=X.shape[1], activation='relu'))\n",
    "    model.add(Dense(1))\n",
    "    # Compile the model\n",
    "    model.compile(loss='mean_squared_error', optimizer='adam')\n",
    "    # return the model\n",
    "    return model\n",
    "def build_model_2():\n",
    "    # build the Keras model_2\n",
    "    model = Sequential()\n",
    "    model.add(Dense(8, input_dim=X.shape[1], activation='relu'))\n",
    "    model.add(Dense(1))\n",
    "    # Compile the model\n",
    "    model.compile(loss='mean_squared_error', optimizer='adam')\n",
    "    # return the model\n",
    "    return model\n",
    "def build_model_3():\n",
    "    # build the Keras model_3\n",
    "    model = Sequential()\n",
    "    model.add(Dense(4, input_dim=X.shape[1], activation='relu'))\n",
    "    model.add(Dense(2, activation='relu'))\n",
    "    model.add(Dense(1))\n",
    "    # Compile the model\n",
    "    model.compile(loss='mean_squared_error', optimizer='adam')\n",
    "    # return the model\n",
    "    return model"
   ]
  },
  {
   "cell_type": "code",
   "execution_count": 21,
   "metadata": {},
   "outputs": [
    {
     "output_type": "stream",
     "name": "stdout",
     "text": "Cross-Validation Loss for Model =  1.0306\nCross-Validation Loss for Model =  0.9583\nCross-Validation Loss for Model =  1.7225\n"
    }
   ],
   "source": [
    "seed = 1\n",
    "np.random.seed(seed)\n",
    "tf.set_random_seed(seed)\n",
    "# perform cross-validation on each model\n",
    "from keras.wrappers.scikit_learn import KerasRegressor\n",
    "from sklearn.model_selection import KFold\n",
    "from sklearn.model_selection import cross_val_score\n",
    "results_1 = []\n",
    "models = [build_model_1, build_model_2, build_model_3]\n",
    "# loop over three models\n",
    "for m in range(len(models)):\n",
    "    model = KerasRegressor(build_fn=models[m], epochs=100, batch_size=20, verbose=0, shuffle=False)\n",
    "    kf = KFold(n_splits=3)\n",
    "    result = cross_val_score(model, X, y, cv=kf)\n",
    "    print(f\"Cross-Validation Loss for Model =  {abs(result.mean()):.4f}\")"
   ]
  },
  {
   "cell_type": "code",
   "execution_count": 24,
   "metadata": {},
   "outputs": [
    {
     "output_type": "stream",
     "name": "stdout",
     "text": "batch_size = 20, epochs = 100, Test Loss = 0.9575\nbatch_size = 15, epochs = 100, Test Loss = 0.9480\nbatch_size = 20, epochs = 150, Test Loss = 0.8898\nbatch_size = 15, epochs = 150, Test Loss = 0.9507\n"
    }
   ],
   "source": [
    "np.random.seed(seed)\n",
    "tf.set_random_seed(seed)\n",
    "results_2 = []\n",
    "epochs = [100, 150]\n",
    "batches = [20, 15]\n",
    "# Loop over pairs of epochs and batch_size\n",
    "for e in range(len(epochs)):\n",
    "    for b in range(len(batches)):\n",
    "        model = KerasRegressor(build_fn= build_model_2, epochs= epochs[e], batch_size= batches[b], verbose=0, shuffle=False)\n",
    "        kf = KFold(n_splits=3)\n",
    "        result = cross_val_score(model, X, y, cv=kf)\n",
    "        print(f\"batch_size = {batches[b]}, epochs = {epochs[e]}, Test Loss = {abs(result.mean()):.4f}\")"
   ]
  },
  {
   "cell_type": "code",
   "execution_count": 23,
   "metadata": {},
   "outputs": [
    {
     "output_type": "stream",
     "name": "stdout",
     "text": "activation = relu, optimizer = sgd, Test Loss = 0.9575\nactivation = tanh, optimizer = sgd, Test Loss = 0.9584\nactivation = relu, optimizer = adam, Test Loss = 0.9005\nactivation = tanh, optimizer = adam, Test Loss = 0.9858\nactivation = relu, optimizer = rmsprop, Test Loss = 0.9365\nactivation = tanh, optimizer = rmsprop, Test Loss = 0.9717\n"
    }
   ],
   "source": [
    "def build_model(activation='relu', optimizer='adam'):\n",
    "    # build the Keras model_2\n",
    "    model = Sequential()\n",
    "    model.add(Dense(8, input_dim=X.shape[1], activation=activation))\n",
    "    model.add(Dense(1))\n",
    "    # Compile the model\n",
    "    model.compile(loss='mean_squared_error', optimizer=optimizer)\n",
    "    # return the model\n",
    "    return model\n",
    "\n",
    "activations = ['relu', 'tanh']\n",
    "optimizers = ['sgd', 'adam', 'rmsprop']\n",
    "#Define a seed for the random number generator so the result will be reproducible\n",
    "np.random.seed(seed)\n",
    "tf.set_random_seed(seed)\n",
    "# Loop over pairs of activation and optimizer\n",
    "for o in range(len(optimizers)):\n",
    "    for a in range(len(activations)):\n",
    "        optimizer = optimizers[o]\n",
    "        activation = activations[a]\n",
    "        model = KerasRegressor(build_fn= build_model,epochs=100, batch_size=20, verbose=0, shuffle=False)\n",
    "        kf = KFold(n_splits=3)\n",
    "        result = cross_val_score(model, X, y, cv=kf)\n",
    "        print(f\"activation = {activation}, optimizer = {optimizer}, Test Loss = {abs(result.mean()):.4f}\")"
   ]
  }
 ]
}