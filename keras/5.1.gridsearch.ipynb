{
 "nbformat": 4,
 "nbformat_minor": 2,
 "metadata": {
  "language_info": {
   "name": "python",
   "codemirror_mode": {
    "name": "ipython",
    "version": 3
   },
   "version": "3.7.4-final"
  },
  "orig_nbformat": 2,
  "file_extension": ".py",
  "mimetype": "text/x-python",
  "name": "python",
  "npconvert_exporter": "python",
  "pygments_lexer": "ipython3",
  "version": 3,
  "kernelspec": {
   "name": "python3",
   "display_name": "Python 3"
  }
 },
 "cells": [
  {
   "cell_type": "code",
   "execution_count": 7,
   "metadata": {},
   "outputs": [],
   "source": [
    "import pandas as pd\n",
    "X = pd.read_csv('./data/avila-tr_feats.csv')  \n",
    "y = pd.read_csv('./data/avila-tr_target.csv')"
   ]
  },
  {
   "cell_type": "code",
   "execution_count": 8,
   "metadata": {},
   "outputs": [],
   "source": [
    "from keras.models import Sequential\n",
    "from keras.layers import Dense,Activation\n",
    "from keras.regularizers import l2\n",
    "\n",
    "def build_model(lambda_parameter):\n",
    "    model = Sequential()\n",
    "    model.add(Dense(units=10,activation='relu',input_dim=X.shape[1],kernel_regularizer=l2(lambda_parameter)))\n",
    "    model.add(Dense(units=6,activation='relu',kernel_regularizer=l2(lambda_parameter)))\n",
    "    model.add(Dense(units=4,activation='relu',kernel_regularizer=l2(lambda_parameter)))\n",
    "    model.add(Dense(units=1))\n",
    "    model.compile(optimizer = 'sgd', loss = 'binary_crossentropy', metrics = ['accuracy'])\n",
    "    return model"
   ]
  },
  {
   "cell_type": "code",
   "execution_count": 10,
   "metadata": {},
   "outputs": [],
   "source": [
    "from keras.wrappers.scikit_learn import KerasClassifier\n",
    "from sklearn.model_selection import GridSearchCV\n",
    "\n",
    "model= KerasClassifier(build_fn=build_model,verbose=0)\n",
    "\n",
    "lambda_parameter = [0.01, 0.5, 1]\n",
    "epochs = [50, 100]\n",
    "batch_size = [10]\n",
    "# create the dictionary containing all possible values of hyperparameters\n",
    "param_grid = dict(lambda_parameter=lambda_parameter, epochs=epochs, batch_size=batch_size)\n",
    "# perform 5-fold cross validation for ??????? store the results\n",
    "grid_seach = GridSearchCV(estimator=model, param_grid=param_grid, cv=5)\n",
    "results = grid_seach.fit(X, y)"
   ]
  },
  {
   "cell_type": "code",
   "execution_count": 18,
   "metadata": {},
   "outputs": [
    {
     "output_type": "stream",
     "name": "stdout",
     "text": "Best cross validation score = 0.5890699982643127\nParameters for Best cross validation score= {'batch_size': 10, 'epochs': 50, 'lambda_parameter': 1}\nAccuracy 0.000000 (std 0.000000) for params {'batch_size': 10, 'epochs': 50, 'lambda_parameter': 0.01}\nAccuracy 0.470853 (std 0.235569) for params {'batch_size': 10, 'epochs': 50, 'lambda_parameter': 0.5}\nAccuracy 0.589070 (std 0.008244) for params {'batch_size': 10, 'epochs': 50, 'lambda_parameter': 1}\nAccuracy 0.114669 (std 0.229338) for params {'batch_size': 10, 'epochs': 100, 'lambda_parameter': 0.01}\nAccuracy 0.589070 (std 0.008244) for params {'batch_size': 10, 'epochs': 100, 'lambda_parameter': 0.5}\nAccuracy 0.474401 (std 0.237213) for params {'batch_size': 10, 'epochs': 100, 'lambda_parameter': 1}\n"
    }
   ],
   "source": [
    "print(\"Best cross validation score =\", results.best_score_)\n",
    "print(\"Parameters for Best cross validation score=\", results.best_params_)\n",
    "\n",
    "# print the results for all evaluated hyperparameter combinations\n",
    "accuracy_means = results.cv_results_['mean_test_score']\n",
    "accuracy_stds = results.cv_results_['std_test_score']\n",
    "parameters = results.cv_results_['params']\n",
    "for p in range(len(parameters)):\n",
    "    print(\"Accuracy %f (std %f) for params %r\" % (accuracy_means[p], accuracy_stds[p], parameters[p]))"
   ]
  }
 ]
}