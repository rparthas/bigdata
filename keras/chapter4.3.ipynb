{
 "nbformat": 4,
 "nbformat_minor": 2,
 "metadata": {
  "language_info": {
   "name": "python",
   "codemirror_mode": {
    "name": "ipython",
    "version": 3
   },
   "version": "3.7.4-final"
  },
  "orig_nbformat": 2,
  "file_extension": ".py",
  "mimetype": "text/x-python",
  "name": "python",
  "npconvert_exporter": "python",
  "pygments_lexer": "ipython3",
  "version": 3,
  "kernelspec": {
   "name": "python3",
   "display_name": "Python 3"
  }
 },
 "cells": [
  {
   "cell_type": "code",
   "execution_count": 2,
   "metadata": {},
   "outputs": [],
   "source": [
    "import pandas as pd\n",
    "import numpy as np\n",
    "import tensorflow as tf\n",
    "X = pd.read_csv('./data/HCV_feats.csv')\n",
    "y = pd.read_csv('./data/HCV_target.csv')"
   ]
  },
  {
   "cell_type": "code",
   "execution_count": 3,
   "metadata": {},
   "outputs": [
    {
     "output_type": "stream",
     "name": "stderr",
     "text": "Using TensorFlow backend.\n"
    }
   ],
   "source": [
    "# Define the Keras models\n",
    "from keras.models import Sequential\n",
    "from keras.layers import Dense\n",
    "def build_model_1():\n",
    "    # build the Keras model_1\n",
    "    model = Sequential()\n",
    "    model.add(Dense(4, input_dim=X.shape[1], activation='relu'))\n",
    "    model.add(Dense(4, activation='relu'))\n",
    "    model.add(Dense(4, activation='relu'))\n",
    "    model.add(Dense(1))\n",
    "    # Compile the model\n",
    "    model.compile(loss='binary_crossentropy', optimizer='adam',metrics = ['accuracy'])\n",
    "    # return the model\n",
    "    return model\n",
    "def build_model_2():\n",
    "    # build the Keras model_2\n",
    "    model = Sequential()\n",
    "    model.add(Dense(4, input_dim=X.shape[1], activation='relu'))\n",
    "    model.add(Dense(2, activation='relu'))\n",
    "    model.add(Dense(1))\n",
    "    # Compile the model\n",
    "    model.compile(loss='binary_crossentropy', optimizer='adam',metrics = ['accuracy'])\n",
    "    # return the model\n",
    "    return model\n",
    "def build_model_3():\n",
    "    # build the Keras model_3\n",
    "    model = Sequential()\n",
    "    model.add(Dense(8, input_dim=X.shape[1], activation='relu'))\n",
    "    model.add(Dense(8, activation='relu'))\n",
    "    model.add(Dense(1))\n",
    "    # Compile the model\n",
    "    model.compile(loss='binary_crossentropy', optimizer='adam',metrics = ['accuracy'])\n",
    "    # return the model\n",
    "    return model"
   ]
  },
  {
   "cell_type": "code",
   "execution_count": 5,
   "metadata": {},
   "outputs": [
    {
     "output_type": "stream",
     "name": "stdout",
     "text": "WARNING:tensorflow:From /opt/anaconda3/lib/python3.7/site-packages/tensorflow/python/ops/resource_variable_ops.py:435: colocate_with (from tensorflow.python.framework.ops) is deprecated and will be removed in a future version.\nInstructions for updating:\nColocations handled automatically by placer.\nWARNING:tensorflow:From /opt/anaconda3/lib/python3.7/site-packages/tensorflow/python/ops/math_ops.py:3066: to_int32 (from tensorflow.python.ops.math_ops) is deprecated and will be removed in a future version.\nInstructions for updating:\nUse tf.cast instead.\nCross-Validation Loss for Model =  0.1584\nCross-Validation Loss for Model =  0.1530\nCross-Validation Loss for Model =  0.0000\n"
    }
   ],
   "source": [
    "seed = 1\n",
    "np.random.seed(seed)\n",
    "tf.set_random_seed(seed)\n",
    "# perform cross-validation on each model\n",
    "from keras.wrappers.scikit_learn import KerasClassifier\n",
    "from sklearn.model_selection import KFold\n",
    "from sklearn.model_selection import cross_val_score\n",
    "results_1 = []\n",
    "models = [build_model_1, build_model_2, build_model_3]\n",
    "# loop over three models\n",
    "for m in range(len(models)):\n",
    "    model = KerasClassifier(build_fn=models[m], epochs=100, batch_size=20, verbose=0, shuffle=False)\n",
    "    kf = KFold(n_splits=3)\n",
    "    result = cross_val_score(model, X, y, cv=kf)\n",
    "    print(f\"Cross-Validation Loss for Model =  {abs(result.mean()):.4f}\")"
   ]
  },
  {
   "cell_type": "code",
   "execution_count": 6,
   "metadata": {},
   "outputs": [
    {
     "output_type": "stream",
     "name": "stdout",
     "text": "batch_size = 10, epochs = 100, Test Loss = 8.1050\nbatch_size = 20, epochs = 100, Test Loss = 8.2396\nbatch_size = 10, epochs = 200, Test Loss = 7.9984\nbatch_size = 20, epochs = 200, Test Loss = 7.9736\n"
    }
   ],
   "source": [
    "np.random.seed(seed)\n",
    "tf.set_random_seed(seed)\n",
    "epochs = [100, 200]\n",
    "batches = [10, 20]\n",
    "# Loop over pairs of epochs and batch_size\n",
    "for e in range(len(epochs)):\n",
    "    for b in range(len(batches)):\n",
    "        model = KerasRegressor(build_fn= build_model_3, epochs= epochs[e], batch_size= batches[b], verbose=0, shuffle=False)\n",
    "        kf = KFold(n_splits=5)\n",
    "        result = cross_val_score(model, X, y, cv=kf)\n",
    "        print(f\"batch_size = {batches[b]}, epochs = {epochs[e]}, Test Loss = {abs(result.mean()):.4f}\")"
   ]
  },
  {
   "cell_type": "code",
   "execution_count": 7,
   "metadata": {},
   "outputs": [
    {
     "output_type": "stream",
     "name": "stdout",
     "text": "activation = relu, optimizer = sgd, Test Loss = 8.2423\nactivation = tanh, optimizer = sgd, Test Loss = 8.0704\nactivation = relu, optimizer = adam, Test Loss = 8.4538\nactivation = tanh, optimizer = adam, Test Loss = 8.0150\nactivation = relu, optimizer = rmsprop, Test Loss = 7.5796\nactivation = tanh, optimizer = rmsprop, Test Loss = 8.4853\n"
    }
   ],
   "source": [
    "activations = ['relu', 'tanh']\n",
    "optimizers = ['sgd', 'adam', 'rmsprop']\n",
    "#Define a seed for the random number generator so the result will be reproducible\n",
    "np.random.seed(seed)\n",
    "tf.set_random_seed(seed)\n",
    "# Loop over pairs of activation and optimizer\n",
    "for o in range(len(optimizers)):\n",
    "    for a in range(len(activations)):\n",
    "        optimizer = optimizers[o]\n",
    "        activation = activations[a]\n",
    "        model = KerasRegressor(build_fn= build_model_3,epochs=200, batch_size=20, verbose=0, shuffle=False)\n",
    "        kf = KFold(n_splits=3)\n",
    "        result = cross_val_score(model, X, y, cv=kf)\n",
    "        print(f\"activation = {activation}, optimizer = {optimizer}, Test Loss = {abs(result.mean()):.4f}\")"
   ]
  },
  {
   "cell_type": "code",
   "execution_count": null,
   "metadata": {},
   "outputs": [],
   "source": []
  }
 ]
}